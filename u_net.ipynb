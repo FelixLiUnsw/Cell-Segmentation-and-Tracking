{
  "nbformat": 4,
  "nbformat_minor": 0,
  "metadata": {
    "accelerator": "GPU",
    "colab": {
      "name": "u_net.ipynb",
      "provenance": [],
      "collapsed_sections": []
    },
    "interpreter": {
      "hash": "f03c054dd2de751e46d0172b62fa52c965c778c2ce7908e48be17a4a6a3c73d8"
    },
    "kernelspec": {
      "display_name": "Python 3.7.10 64-bit ('cv': conda)",
      "name": "python3"
    },
    "language_info": {
      "codemirror_mode": {
        "name": "ipython",
        "version": 3
      },
      "file_extension": ".py",
      "mimetype": "text/x-python",
      "name": "python",
      "nbconvert_exporter": "python",
      "pygments_lexer": "ipython3",
      "version": "3.7.10"
    },
    "orig_nbformat": 4
  },
  "cells": [
    {
      "cell_type": "code",
      "metadata": {
        "colab": {
          "base_uri": "https://localhost:8080/"
        },
        "id": "wbs2bXEyf3WR",
        "outputId": "67f4aa7b-f31a-4fab-834a-4fa9e1a4d7e8"
      },
      "source": [
        "from google.colab import drive\n",
        "drive.mount('/content/drive')"
      ],
      "execution_count": 1,
      "outputs": [
        {
          "output_type": "stream",
          "name": "stdout",
          "text": [
            "Mounted at /content/drive\n"
          ]
        }
      ]
    },
    {
      "cell_type": "code",
      "metadata": {
        "id": "LrhHD-N71DUf"
      },
      "source": [
        "! cp /content/drive/MyDrive/9517_gp/Sequences.zip .\n",
        "! unzip -qo ./Sequences.zip -d ./Sequences"
      ],
      "execution_count": 2,
      "outputs": []
    },
    {
      "cell_type": "code",
      "metadata": {
        "id": "JfqG0VHMekOv"
      },
      "source": [
        "import os\n",
        "import cv2\n",
        "import numpy as np\n",
        "import matplotlib.pyplot as plt\n",
        "import torch\n",
        "import torch.nn as nn\n",
        "import torch.nn.functional as F\n",
        "import torch.optim as optim\n",
        "from torch.utils.data import Dataset, random_split\n",
        "\n",
        "import torchvision\n",
        "import torchvision.transforms.functional as VF\n",
        "\n",
        "from tqdm import tqdm"
      ],
      "execution_count": 3,
      "outputs": []
    },
    {
      "cell_type": "code",
      "metadata": {
        "colab": {
          "base_uri": "https://localhost:8080/"
        },
        "id": "Gd6SH26tekOy",
        "outputId": "948cb624-d3b7-4394-a497-fb5f055a805b"
      },
      "source": [
        "if torch.cuda.is_available():\n",
        "    device = torch.device('cuda')\n",
        "    print(torch.cuda.get_device_name(0))\n",
        "else:\n",
        "    device = torch.device('cpu')"
      ],
      "execution_count": 11,
      "outputs": [
        {
          "output_type": "stream",
          "name": "stdout",
          "text": [
            "Tesla P100-PCIE-16GB\n"
          ]
        }
      ]
    },
    {
      "cell_type": "code",
      "metadata": {
        "id": "Da5L16uYghxP"
      },
      "source": [
        "path_root = '.'"
      ],
      "execution_count": 15,
      "outputs": []
    },
    {
      "cell_type": "code",
      "metadata": {
        "id": "YIXnMdGIekOz"
      },
      "source": [
        "# def frame_trackbar_onChange(pos, prop):\n",
        "#     # print(pos)\n",
        "#     prop['i'] = pos\n",
        "#     cv2.imshow(prop['window_name'], prop['imageSet'][pos])\n",
        "#     return\n",
        "    \n",
        "# def window_onMouse(event, x, y, flag, prop):\n",
        "#     if event == cv2.EVENT_LBUTTONDOWN:\n",
        "#         prop['pause'] = not prop['pause']\n",
        "#     elif event == cv2.EVENT_MOUSEWHEEL and prop['pause']:\n",
        "#         if flag > 0:\n",
        "#             prop['i'] = max(prop['i'] - 1, 0)\n",
        "#         else:\n",
        "#             prop['i'] = min(prop['i'] + 1, len(prop['imageSet']) - 1)\n",
        "#         cv2.setTrackbarPos('frame', prop['window_name'], prop['i'])\n",
        "\n",
        "# def show_images_in_animation_cv(imageSet, interval=100, repeat_delay=1000, window_name='Animation'):\n",
        "#     visable = True\n",
        "#     prop = {'window_name': window_name, 'i': 0, 'imageSet': imageSet, 'pause': False}\n",
        "#     cv2.namedWindow(window_name, cv2.WINDOW_AUTOSIZE)\n",
        "#     cv2.createTrackbar('frame', window_name, 0, len(imageSet) - 1, lambda v: frame_trackbar_onChange(v, prop))\n",
        "#     cv2.setMouseCallback(window_name, window_onMouse, prop)\n",
        "#     while visable:\n",
        "#         while prop['pause'] and cv2.getWindowProperty(window_name, cv2.WND_PROP_VISIBLE):\n",
        "#             cv2.waitKey(1)\n",
        "            \n",
        "#         cv2.setTrackbarPos('frame', prop['window_name'], prop['i'])\n",
        "        \n",
        "#         key = cv2.waitKey(interval)\n",
        "#         visable = cv2.getWindowProperty(window_name, cv2.WND_PROP_VISIBLE)\n",
        "#         if not visable:\n",
        "#             break\n",
        "#         prop['i'] += 1\n",
        "        \n",
        "#         if prop['i'] == len(imageSet):\n",
        "#             prop['i'] = 0\n",
        "#             cv2.waitKey(repeat_delay)\n",
        "#             visable = cv2.getWindowProperty(window_name, cv2.WND_PROP_VISIBLE)\n",
        "\n",
        "# def compare_images_in_animation_cv(imageSets, interval=100, repeat_delay=1000, window_name='Animation', window_width=1200):\n",
        "#     visable = True\n",
        "#     imageSets_in_BGR = []\n",
        "#     for s in imageSets:\n",
        "#         if len(s[0].shape) == 2:\n",
        "#             new_set = []\n",
        "#             for img in s:\n",
        "#                 new_set.append(cv2.cvtColor(img, cv2.COLOR_GRAY2BGR))\n",
        "#             imageSets_in_BGR.append(new_set)\n",
        "#         else:\n",
        "#             imageSets_in_BGR.append(s)\n",
        "\n",
        "#     imageSets_in_BGR = np.array(imageSets_in_BGR).transpose(1,0,2,3,4)\n",
        "#     height, width, _ = np.hstack(imageSets_in_BGR[0]).shape\n",
        "\n",
        "#     imageSet = []\n",
        "#     for imgs in imageSets_in_BGR:\n",
        "#         imageSet.append(np.hstack(imgs))\n",
        "        \n",
        "#     prop = {'window_name': window_name, 'i': 0, 'imageSet': imageSet, 'pause': False}\n",
        "#     cv2.namedWindow(window_name, cv2.WINDOW_NORMAL)\n",
        "#     cv2.resizeWindow(window_name, window_width, int(window_width * height / width))\n",
        "#     cv2.createTrackbar('frame', window_name, 0, len(imageSet) - 1, lambda v: frame_trackbar_onChange(v, prop))\n",
        "#     cv2.setMouseCallback(window_name, window_onMouse, prop)\n",
        "#     while visable:\n",
        "#         while prop['pause'] and cv2.getWindowProperty(window_name, cv2.WND_PROP_VISIBLE):\n",
        "#             cv2.waitKey(1)\n",
        "#         cv2.setTrackbarPos('frame', window_name, prop['i'])\n",
        "#         key = cv2.waitKey(interval)\n",
        "#         visable = cv2.getWindowProperty(window_name, cv2.WND_PROP_VISIBLE)\n",
        "#         if not visable:\n",
        "#             break\n",
        "#         prop['i'] += 1\n",
        "#         if prop['i'] == len(imageSet):\n",
        "#             prop['i'] = 0\n",
        "#             cv2.waitKey(repeat_delay)\n",
        "#             visable = cv2.getWindowProperty(window_name, cv2.WND_PROP_VISIBLE)"
      ],
      "execution_count": 13,
      "outputs": []
    },
    {
      "cell_type": "code",
      "metadata": {
        "id": "w1fbLhvvekO1"
      },
      "source": [
        "def global_grey_stretch(imageSet, convert_color=True):\n",
        "    global_max = np.max(imageSet)\n",
        "    global_min = np.min(imageSet)\n",
        "    folder = []\n",
        "    for i in imageSet:\n",
        "        if convert_color:\n",
        "            i = cv2.cvtColor(i, cv2.COLOR_BGR2GRAY)\n",
        "        folder.append(np.uint8((i - global_min) / (global_max - global_min) * 255))\n",
        "    return folder"
      ],
      "execution_count": 13,
      "outputs": []
    },
    {
      "cell_type": "code",
      "metadata": {
        "id": "Uj9Y-XsQekO1"
      },
      "source": [
        "def open_files(num, flags=cv2.IMREAD_COLOR):\n",
        "    image_list = []\n",
        "    path = path_root + '/Sequences/'+num\n",
        "    file_list = sorted([files for roots, dirs, files in os.walk(path)][0])\n",
        "    for fname in file_list:\n",
        "        src = path + '/' + fname\n",
        "        img = cv2.imread(src, flags)\n",
        "        image_list.append(img)\n",
        "    return image_list"
      ],
      "execution_count": 11,
      "outputs": []
    },
    {
      "cell_type": "code",
      "metadata": {
        "id": "yeZMYOWSn7HQ"
      },
      "source": [
        "def resize(img_folder):\n",
        "    folder = []\n",
        "    for img in img_folder:\n",
        "        folder.append(cv2.resize(img, (0, 0), fx=.5, fy=.5))\n",
        "    return folder"
      ],
      "execution_count": 12,
      "outputs": []
    },
    {
      "cell_type": "code",
      "metadata": {
        "id": "1cKWyC0_iRHE"
      },
      "source": [
        "def clear_background(img_folder):\n",
        "    folder = []\n",
        "    for img in img_folder:\n",
        "        count = np.bincount(np.reshape(img, -1))\n",
        "        threshold_value = np.argmax(count)\n",
        "        _, img = cv2.threshold(img, threshold_value, 255, cv2.THRESH_TOZERO)\n",
        "        folder.append(img)\n",
        "    return folder"
      ],
      "execution_count": 17,
      "outputs": []
    },
    {
      "cell_type": "code",
      "metadata": {
        "id": "X0H9MaO_t4kI"
      },
      "source": [
        "def get_true_gt(img_folder, img_folder_GT):\n",
        "    \n",
        "    folder = []\n",
        "    for img, img_gt in zip(img_folder, img_folder_GT):\n",
        "        _, img_thres = cv2.threshold(img,0,255,cv2.THRESH_BINARY+cv2.THRESH_OTSU)\n",
        "        sure_bg = cv2.dilate(img_thres, np.ones((3,3)), iterations=3)\n",
        "        img_gt = cv2.bitwise_and(img_gt, sure_bg)\n",
        "\n",
        "        sure_fg = np.uint8(img_gt)\n",
        "        unknown = cv2.subtract(sure_bg,sure_fg)\n",
        "\n",
        "        _, markers = cv2.connectedComponents(sure_fg)\n",
        "        markers = markers+1\n",
        "        markers[unknown==255] = 0\n",
        "\n",
        "        img = np.uint8(img_thres)\n",
        "        img = cv2.dilate(img, np.ones((3,3)), iterations=2)\n",
        "        img = cv2.erode(img, np.ones((3,3)), iterations=2)\n",
        "\n",
        "        markers = cv2.watershed(cv2.cvtColor(img, cv2.COLOR_GRAY2BGR), markers)\n",
        "        img[markers == -1] = 0\n",
        "\n",
        "        img = cv2.erode(img, np.ones((3,3)), iterations=1)\n",
        "        contour = cv2.adaptiveThreshold(img,255,cv2.ADAPTIVE_THRESH_GAUSSIAN_C, cv2.THRESH_BINARY,5,3)\n",
        "        contour = np.where(contour>0, 0, 255).astype(np.uint8)\n",
        "        folder.append(contour)\n",
        "    return folder"
      ],
      "execution_count": 27,
      "outputs": []
    },
    {
      "cell_type": "code",
      "metadata": {
        "id": "Nthq1ps4t4kJ"
      },
      "source": [
        "# img = folder_01[0]\n",
        "# img_gt = folder_01_TRA_threshold[0]\n",
        "\n",
        "\n",
        "# plt.figure(dpi=200)\n",
        "# plt.imshow(img, cmap='gray')"
      ],
      "execution_count": 28,
      "outputs": []
    },
    {
      "cell_type": "code",
      "metadata": {
        "id": "B8cRgb1rt4kK"
      },
      "source": [
        "# temp end"
      ],
      "execution_count": 29,
      "outputs": []
    },
    {
      "cell_type": "code",
      "metadata": {
        "id": "cOI8z38wekO2"
      },
      "source": [
        "def threshold_GT(folder_GT, t=0):\n",
        "    out = []\n",
        "    for img in folder_GT:\n",
        "        out.append(np.where(img > t, 1, 0).astype(np.uint8))\n",
        "        \n",
        "    return out"
      ],
      "execution_count": 30,
      "outputs": []
    },
    {
      "cell_type": "code",
      "metadata": {
        "id": "ZmfwaL24ekO2"
      },
      "source": [
        "folder_01_original = open_files('01')\n",
        "folder_01_TRA = open_files('01_GT/TRA', cv2.IMREAD_UNCHANGED)\n",
        "\n",
        "folder_02_original = open_files('02')\n",
        "folder_02_TRA = open_files('02_GT/TRA', cv2.IMREAD_UNCHANGED)"
      ],
      "execution_count": 31,
      "outputs": []
    },
    {
      "cell_type": "code",
      "metadata": {
        "id": "QWVqEGaYekO2"
      },
      "source": [
        "folder_01 = global_grey_stretch(folder_01_original)\n",
        "# folder_01 = clear_background(folder_01)\n",
        "folder_01_TRA_threshold = threshold_GT(folder_01_TRA)\n",
        "folder_01_TRA_threshold = get_true_gt(clear_background(folder_01), folder_01_TRA_threshold)\n",
        "folder_01_TRA_threshold = threshold_GT(folder_01_TRA_threshold)\n",
        "\n",
        "folder_02 = global_grey_stretch(folder_02_original)\n",
        "# folder_02 = clear_background(folder_02)\n",
        "folder_02_TRA_threshold = threshold_GT(folder_02_TRA)\n",
        "folder_02_TRA_threshold = get_true_gt(clear_background(folder_02), folder_02_TRA_threshold)\n",
        "folder_02_TRA_threshold = threshold_GT(folder_02_TRA_threshold)"
      ],
      "execution_count": 55,
      "outputs": []
    },
    {
      "cell_type": "code",
      "metadata": {
        "colab": {
          "base_uri": "https://localhost:8080/"
        },
        "id": "M_QSJABrN_eG",
        "outputId": "88681737-6ec5-4ee8-f566-4fdcea859d5d"
      },
      "source": [
        "folder_01_TRA_threshold[0]"
      ],
      "execution_count": 56,
      "outputs": [
        {
          "output_type": "execute_result",
          "data": {
            "text/plain": [
              "array([[0, 0, 0, ..., 0, 0, 0],\n",
              "       [0, 0, 0, ..., 0, 0, 0],\n",
              "       [0, 0, 0, ..., 0, 0, 0],\n",
              "       ...,\n",
              "       [0, 0, 0, ..., 0, 0, 0],\n",
              "       [0, 0, 0, ..., 0, 0, 0],\n",
              "       [0, 0, 0, ..., 0, 0, 0]], dtype=uint8)"
            ]
          },
          "metadata": {},
          "execution_count": 56
        }
      ]
    },
    {
      "cell_type": "code",
      "metadata": {
        "id": "pyDEgYuQt4kL"
      },
      "source": [
        "# compare_images_in_animation_cv([folder_01, folder_01_TRA_threshold], window_width=1800)"
      ],
      "execution_count": 57,
      "outputs": []
    },
    {
      "cell_type": "code",
      "metadata": {
        "id": "fl1EylXCoamf"
      },
      "source": [
        "folder_01 = resize(folder_01)\n",
        "folder_01_TRA_threshold = resize(folder_01_TRA_threshold)\n",
        "\n",
        "folder_02 = resize(folder_02)\n",
        "folder_02_TRA_threshold = resize(folder_02_TRA_threshold)"
      ],
      "execution_count": 58,
      "outputs": []
    },
    {
      "cell_type": "code",
      "metadata": {
        "colab": {
          "base_uri": "https://localhost:8080/"
        },
        "id": "FML0OuYPk2DH",
        "outputId": "a7a18ab8-454a-411d-8614-e8e7fc24af3e"
      },
      "source": [
        "folder_01[0].shape"
      ],
      "execution_count": 59,
      "outputs": [
        {
          "output_type": "execute_result",
          "data": {
            "text/plain": [
              "(350, 550)"
            ]
          },
          "metadata": {},
          "execution_count": 59
        }
      ]
    },
    {
      "cell_type": "code",
      "metadata": {
        "id": "JqmbbbX3V0yL"
      },
      "source": [
        "def image_split(folder, folder_GT, step=64, size=128):\n",
        "    out_img = []\n",
        "    out_GT = []\n",
        "    for img, img_GT in zip(folder, folder_GT):\n",
        "        h, w = img.shape\n",
        "        for y in range((h - size) // step):\n",
        "            for x in range((w - size) // step):\n",
        "                sub_GT = img_GT[y*step:y*step+size, x*step:x*step+size]\n",
        "                if sub_GT.max() > 0:\n",
        "                    sub = img[y*step:y*step+size, x*step:x*step+size]\n",
        "                    out_img.append(sub)\n",
        "                    out_GT.append(sub_GT)\n",
        "            sub_GT = img_GT[y*step:y*step+size, -size-1:-1]\n",
        "            if sub_GT.max() > 0:\n",
        "                sub = img[y*step:y*step+size, -size-1:-1]\n",
        "                out_img.append(sub)\n",
        "                out_GT.append(sub_GT)\n",
        "\n",
        "        for x in range((w - size) // step):\n",
        "            sub_GT = img_GT[-size-1:-1, x*step:x*step+size]\n",
        "            if sub_GT.max() > 0:\n",
        "                sub = img[-size-1:-1, x*step:x*step+size]\n",
        "                out_img.append(sub)\n",
        "                out_GT.append(sub_GT)\n",
        "        sub_GT = img_GT[-size-1:-1, -size-1:-1]\n",
        "        if sub_GT.max() > 0:\n",
        "            sub = img[-size-1:-1, -size-1:-1]\n",
        "            out_img.append(sub)\n",
        "            out_GT.append(sub_GT)\n",
        "        \n",
        "\n",
        "    return [out_img, out_GT]"
      ],
      "execution_count": 60,
      "outputs": []
    },
    {
      "cell_type": "code",
      "metadata": {
        "id": "jjv7iE9mV95Y"
      },
      "source": [
        "folder_01_splited, folder_01_GT_splited = image_split(folder_01, folder_01_TRA_threshold)\n",
        "folder_02_splited, folder_02_GT_splited = image_split(folder_02, folder_02_TRA_threshold)"
      ],
      "execution_count": 61,
      "outputs": []
    },
    {
      "cell_type": "code",
      "metadata": {
        "id": "GOmrZWSfr7Eb"
      },
      "source": [
        "imageS, labelS = [], []\n",
        "for img in np.concatenate((np.array(folder_01_splited), np.array(folder_02_splited)), axis=0):\n",
        "    imageS.append([img])\n",
        "    \n",
        "for img in np.concatenate((np.array(folder_01_GT_splited), np.array(folder_02_GT_splited)), axis=0):\n",
        "    labelS.append([img])\n",
        "dataset = np.concatenate(([imageS], [labelS])).transpose(1,0,2,3,4)"
      ],
      "execution_count": 62,
      "outputs": []
    },
    {
      "cell_type": "code",
      "metadata": {
        "colab": {
          "base_uri": "https://localhost:8080/"
        },
        "id": "nJaeR0vJzvPF",
        "outputId": "5fd804f3-080b-48f1-93ec-cd71a3412997"
      },
      "source": [
        "dataset[0][1][0]"
      ],
      "execution_count": 63,
      "outputs": [
        {
          "output_type": "execute_result",
          "data": {
            "text/plain": [
              "array([[0, 0, 0, ..., 1, 1, 1],\n",
              "       [0, 0, 0, ..., 0, 0, 0],\n",
              "       [0, 0, 0, ..., 0, 0, 0],\n",
              "       ...,\n",
              "       [0, 0, 0, ..., 0, 0, 0],\n",
              "       [0, 0, 0, ..., 0, 0, 0],\n",
              "       [0, 0, 0, ..., 0, 0, 0]], dtype=uint8)"
            ]
          },
          "metadata": {},
          "execution_count": 63
        }
      ]
    },
    {
      "cell_type": "code",
      "metadata": {
        "colab": {
          "base_uri": "https://localhost:8080/",
          "height": 668
        },
        "id": "LEMK6EJYztCr",
        "outputId": "6bffdf58-0761-499a-8657-4716883891a2"
      },
      "source": [
        "plt.figure(figsize=(12,4), dpi=200)\n",
        "plt.subplot(1,2,1)\n",
        "plt.title('Input')\n",
        "plt.imshow(dataset[5000][0][0], cmap='gray', vmin=0, vmax=255)\n",
        "plt.subplot(1,2,2)\n",
        "plt.title('GT')\n",
        "plt.imshow(dataset[5000][1][0], cmap='gray')"
      ],
      "execution_count": 70,
      "outputs": [
        {
          "output_type": "execute_result",
          "data": {
            "text/plain": [
              "<matplotlib.image.AxesImage at 0x7f74186ca210>"
            ]
          },
          "metadata": {},
          "execution_count": 70
        },
        {
          "output_type": "display_data",
          "data": {
            "image/png": "[encoded data removed]",
            "text/plain": [
              "<Figure size 2400x800 with 2 Axes>"
            ]
          },
          "metadata": {
            "needs_background": "light"
          }
        }
      ]
    },
    {
      "cell_type": "code",
      "metadata": {
        "id": "pYeDlsrfekO3"
      },
      "source": [
        "# imageS, labelS = [], []\n",
        "# img_size = (128, 128)\n",
        "# step = 30\n",
        "# images = np.concatenate((np.array(folder_01), np.array(folder_02)), axis=0)\n",
        "# labels = np.concatenate((np.array(folder_01_TRA_threshold), np.array(folder_02_TRA_threshold)), axis=0)\n",
        "# for i in range(len(images)):\n",
        "#     label=labels[i]\n",
        "#     img=images[i]\n",
        "#     for y in range(0, )\n",
        "    \n",
        "# dataset = np.concatenate(([imageS], [labelS])).transpose(1,0,2,3,4)"
      ],
      "execution_count": 71,
      "outputs": []
    },
    {
      "cell_type": "code",
      "metadata": {
        "colab": {
          "base_uri": "https://localhost:8080/"
        },
        "id": "rxCkvFbeekO3",
        "outputId": "b298ce89-7769-4715-b120-b9e6659f98ee"
      },
      "source": [
        "dataset.shape"
      ],
      "execution_count": 72,
      "outputs": [
        {
          "output_type": "execute_result",
          "data": {
            "text/plain": [
              "(5049, 2, 1, 128, 128)"
            ]
          },
          "metadata": {},
          "execution_count": 72
        }
      ]
    },
    {
      "cell_type": "code",
      "metadata": {
        "id": "bbbrgVEPekO5"
      },
      "source": [
        "# compare_images_in_animation_cv([folder_01, global_grey_stretch(folder_01_TRA_threshold, False)], window_width=1900)"
      ],
      "execution_count": 73,
      "outputs": []
    },
    {
      "cell_type": "code",
      "metadata": {
        "id": "xlhoPnYwekO6"
      },
      "source": [
        "# compare_images_in_animation_cv([folder_01, global_grey_stretch(threshold_GT(folder_01, 20), False)], window_width=1900)"
      ],
      "execution_count": 74,
      "outputs": []
    },
    {
      "cell_type": "code",
      "metadata": {
        "id": "VT2N7p4nekO6"
      },
      "source": [
        "# compare_images_in_animation_cv([global_grey_stretch(threshold_GT(folder_01, 20), False), global_grey_stretch(folder_01_TRA_threshold, False)], window_width=1900)"
      ],
      "execution_count": 75,
      "outputs": []
    },
    {
      "cell_type": "code",
      "metadata": {
        "id": "bj_VvpZ2ekO6"
      },
      "source": [
        "# Network model\n",
        "class NU_net_block(nn.Module):\n",
        "    def __init__(self, in_channels, out_channels) -> None:\n",
        "        super().__init__()\n",
        "        self.conv1 = nn.Sequential(\n",
        "                        nn.Conv2d(in_channels, out_channels, kernel_size=3, padding=1),\n",
        "                        nn.BatchNorm2d(out_channels),\n",
        "                        nn.ReLU(inplace=True)\n",
        "                    )\n",
        "        self.conv2 = nn.Sequential(\n",
        "                        nn.Conv2d(out_channels, out_channels, kernel_size=3, padding=1),\n",
        "                        nn.BatchNorm2d(out_channels),\n",
        "                        nn.ReLU(inplace=True)\n",
        "                    )\n",
        "\n",
        "    def forward(self, x):\n",
        "        x = self.conv1(x)\n",
        "        x = self.conv2(x)\n",
        "        return x\n",
        "\n",
        "class NU_net(nn.Module):\n",
        "    def __init__(self, in_channels=1, n=16) -> None:\n",
        "        super().__init__()\n",
        "        self.concat = lambda fs: torch.cat(fs, 1)\n",
        "        self.pool = nn.MaxPool2d(2, 2)\n",
        "        self.up = nn.Upsample(scale_factor=2, mode='bilinear', align_corners=True)\n",
        "\n",
        "        ns = [n * 2 ** i for i in range(5)]\n",
        "\n",
        "        self.to_00 = NU_net_block(in_channels, ns[0])\n",
        "        self.to_10 = NU_net_block(ns[0], ns[1])\n",
        "        self.to_20 = NU_net_block(ns[1], ns[2])\n",
        "        self.to_30 = NU_net_block(ns[2], ns[3])\n",
        "        self.to_40 = NU_net_block(ns[3], ns[4])\n",
        "\n",
        "        self.to_01 = NU_net_block(ns[0] + ns[1], ns[0])\n",
        "        self.to_11 = NU_net_block(ns[1] + ns[2], ns[1])\n",
        "        self.to_21 = NU_net_block(ns[2] + ns[3], ns[2])\n",
        "        self.to_31 = NU_net_block(ns[3] + ns[4], ns[3])\n",
        "\n",
        "        self.to_02 = NU_net_block(ns[0] + ns[0] + ns[1], ns[0])\n",
        "        self.to_12 = NU_net_block(ns[1] + ns[1] + ns[2], ns[1])\n",
        "        self.to_22 = NU_net_block(ns[2] + ns[2] + ns[3], ns[2])\n",
        "\n",
        "        self.to_03 = NU_net_block(ns[0] + ns[0] + ns[0] + ns[1], ns[0])\n",
        "        self.to_13 = NU_net_block(ns[1] + ns[1] + ns[1] + ns[2], ns[1])\n",
        "\n",
        "        self.to_04 = NU_net_block(ns[0] + ns[0] + ns[0] + ns[0] + ns[1], ns[0])\n",
        "\n",
        "        self.final = nn.Conv2d(ns[0], 1, kernel_size=1)\n",
        "\n",
        "    def forward(self, x):\n",
        "        X00 = self.to_00(x)\n",
        "        X10 = self.to_10(self.pool(X00))\n",
        "        X20 = self.to_20(self.pool(X10))\n",
        "        X30 = self.to_30(self.pool(X20))\n",
        "        X40 = self.to_40(self.pool(X30))\n",
        "\n",
        "        X01 = self.to_01(self.concat([X00, self.up(X10)]))\n",
        "        X11 = self.to_11(self.concat([X10, self.up(X20)]))\n",
        "        X21 = self.to_21(self.concat([X20, self.up(X30)]))\n",
        "        X31 = self.to_31(self.concat([X30, self.up(X40)]))\n",
        "        \n",
        "        X02 = self.to_02(self.concat([X00, X01, self.up(X11)]))\n",
        "        X12 = self.to_12(self.concat([X10, X11, self.up(X21)]))\n",
        "        X22 = self.to_22(self.concat([X20, X21, self.up(X31)]))\n",
        "        \n",
        "        X03 = self.to_03(self.concat([X00, X01, X02, self.up(X12)]))\n",
        "        X13 = self.to_13(self.concat([X10, X11, X12, self.up(X22)]))\n",
        "        \n",
        "        X04 = self.to_04(self.concat([X00, X01, X02, X03, self.up(X13)]))\n",
        "\n",
        "        out = self.final(X04)\n",
        "\n",
        "        return out\n",
        "\n",
        "\n",
        "\n"
      ],
      "execution_count": 7,
      "outputs": []
    },
    {
      "cell_type": "code",
      "metadata": {
        "id": "l8egEDKAekO6"
      },
      "source": [
        "# loss function\n",
        "class Dice_loss(nn.Module):\n",
        "    def __init__(self) -> None:\n",
        "        super().__init__()\n",
        "\n",
        "    def forward(self, pred, true):\n",
        "        n = pred.size(0)\n",
        "        p = torch.sigmoid(pred).view(n, -1)\n",
        "        t = true.view(n, -1)\n",
        "\n",
        "        dice = 2 * ((p * t).sum(1) + 1) / ((p + t).sum(1) + 1)\n",
        "\n",
        "        return 1 - dice.mean()"
      ],
      "execution_count": 77,
      "outputs": []
    },
    {
      "cell_type": "code",
      "metadata": {
        "id": "79NxokHDekO7"
      },
      "source": [
        "# Dataset\n",
        "class Custom_Dataset(Dataset):\n",
        "    def __init__(self, data):\n",
        "        self.data = data\n",
        "\n",
        "    def __getitem__(self, index):\n",
        "        img, img_GT = self.data[index]\n",
        "        random_c = torch.rand(3)\n",
        "\n",
        "        if random_c[0] > 0.5:\n",
        "            img = VF.hflip(img)\n",
        "            img_GT = VF.hflip(img_GT)\n",
        "\n",
        "        if random_c[1] > 0.5:\n",
        "            img = VF.vflip(img)\n",
        "            img_GT = VF.vflip(img_GT)\n",
        "\n",
        "        if img.shape[0] == img.shape[1]:\n",
        "\n",
        "            if random_c[2] > 0.25:\n",
        "                img = VF.rotate(img, 90)\n",
        "                img_GT = VF.rotate(img_GT, 90)\n",
        "\n",
        "            elif random_c[2] > 0.5:\n",
        "                img = VF.rotate(img, 180)\n",
        "                img_GT = VF.rotate(img_GT, 180)\n",
        "\n",
        "            elif random_c[2] > 0.75:\n",
        "                img = VF.rotate(img, 270)\n",
        "                img_GT = VF.rotate(img_GT, 270)\n",
        "\n",
        "        img = img / 255.0\n",
        "        return (img.to(device), img_GT.to(device))\n",
        "\n",
        "    def __len__(self):\n",
        "        return len(self.data)"
      ],
      "execution_count": 78,
      "outputs": []
    },
    {
      "cell_type": "code",
      "metadata": {
        "id": "saPagDomkoZK"
      },
      "source": [
        "def eval_model(model,testloader):\n",
        "    model.eval()\n",
        "    total_loss = 0\n",
        "    num = 0\n",
        "    with torch.no_grad():\n",
        "        for b in testloader:\n",
        "            images, gts = b \n",
        "            preds = model(images) \n",
        "            num += len(images)\n",
        "            total_loss += loss_fn(preds, gts).sum().item()\n",
        "\n",
        "    print(f'Evaluate model on testset. Total loss: {total_loss}, Average loss: {total_loss / num}') "
      ],
      "execution_count": 79,
      "outputs": []
    },
    {
      "cell_type": "code",
      "metadata": {
        "id": "QGjG7YMDekO7"
      },
      "source": [
        "# Perpare datasets\n",
        "dataset_T = torch.Tensor(dataset)\n",
        "dataset_len = len(dataset_T)\n",
        "train_len = int(0.8 * dataset_len)\n",
        "test_len = dataset_len - train_len\n",
        "train_subset, test_subset = random_split(dataset_T, (train_len, test_len))\n",
        "trainSet = Custom_Dataset(train_subset)\n",
        "testSet = Custom_Dataset(test_subset)\n",
        "trainloader = torch.utils.data.DataLoader(trainSet, batch_size=64, shuffle=False)\n",
        "testloader = torch.utils.data.DataLoader(testSet,batch_size=64, shuffle=False)"
      ],
      "execution_count": 80,
      "outputs": []
    },
    {
      "cell_type": "code",
      "metadata": {
        "id": "5Vf7C2QLekO7"
      },
      "source": [
        "loss_fn = Dice_loss()\n",
        "model = NU_net(1, 16).to(device)\n",
        "optimiser = optim.Adam(model.parameters(), lr=1e-3)\n",
        "torch.cuda.empty_cache()\n",
        "\n",
        "# training loop\n",
        "optimiser.zero_grad()\n",
        "\n"
      ],
      "execution_count": 81,
      "outputs": []
    },
    {
      "cell_type": "code",
      "metadata": {
        "colab": {
          "base_uri": "https://localhost:8080/"
        },
        "id": "swiRWIzD5Ao0",
        "outputId": "f92d03c0-f3c1-4868-e2ad-aaa9c487b84f"
      },
      "source": [
        "epoch = 1000\n",
        "model.train()\n",
        "for e in range(epoch):\n",
        "    tq = tqdm(trainloader)\n",
        "    for b in tq:\n",
        "        images, gts = b \n",
        "        preds = model(images)\n",
        "        loss = loss_fn(preds, gts)\n",
        "\n",
        "        optimiser.zero_grad()\n",
        "        loss.backward()\n",
        "        optimiser.step()\n",
        "\n",
        "        tq.set_description(f'Epoch: {e + 1}/{epoch}, loss={loss.item()}')\n",
        "\n",
        "    if (e+1) % 10 == 0:\n",
        "        torch.save(model.state_dict(), '/content/drive/MyDrive/9517_gp/CheckPoint.pth')\n",
        "        eval_model(model, testloader)\n",
        "        model.train()"
      ],
      "execution_count": 93,
      "outputs": [
        {
          "metadata": {
            "tags": null
          },
          "name": "stderr",
          "output_type": "stream",
          "text": [
            "Epoch: 1/1000, loss=0.04215681552886963: 100%|██████████| 64/64 [00:25<00:00,  2.53it/s]\n",
            "Epoch: 2/1000, loss=0.03132432699203491: 100%|██████████| 64/64 [00:25<00:00,  2.53it/s]\n",
            "Epoch: 3/1000, loss=0.03804910182952881: 100%|██████████| 64/64 [00:25<00:00,  2.53it/s]\n",
            "Epoch: 4/1000, loss=0.03315609693527222: 100%|██████████| 64/64 [00:25<00:00,  2.53it/s]\n",
            "Epoch: 5/1000, loss=0.04004228115081787: 100%|██████████| 64/64 [00:25<00:00,  2.53it/s]\n",
            "Epoch: 6/1000, loss=0.03776752948760986: 100%|██████████| 64/64 [00:25<00:00,  2.53it/s]\n",
            "Epoch: 7/1000, loss=0.04187500476837158: 100%|██████████| 64/64 [00:25<00:00,  2.53it/s]\n",
            "Epoch: 8/1000, loss=0.03903603553771973: 100%|██████████| 64/64 [00:25<00:00,  2.53it/s]\n",
            "Epoch: 9/1000, loss=0.04180806875228882: 100%|██████████| 64/64 [00:25<00:00,  2.53it/s]\n",
            "Epoch: 10/1000, loss=0.04147839546203613: 100%|██████████| 64/64 [00:25<00:00,  2.53it/s]\n"
          ]
        },
        {
          "metadata": {
            "tags": null
          },
          "name": "stdout",
          "output_type": "stream",
          "text": [
            "Evaluate model on testset. Total loss: 1.5333828926086426, Average loss: 0.0015182008837709333\n"
          ]
        },
        {
          "metadata": {
            "tags": null
          },
          "name": "stderr",
          "output_type": "stream",
          "text": [
            "Epoch: 11/1000, loss=0.034877896308898926: 100%|██████████| 64/64 [00:25<00:00,  2.53it/s]\n",
            "Epoch: 12/1000, loss=0.03736698627471924: 100%|██████████| 64/64 [00:25<00:00,  2.53it/s]\n",
            "Epoch: 13/1000, loss=0.04310494661331177: 100%|██████████| 64/64 [00:25<00:00,  2.54it/s]\n",
            "Epoch: 14/1000, loss=0.037927091121673584: 100%|██████████| 64/64 [00:25<00:00,  2.54it/s]\n",
            "Epoch: 15/1000, loss=0.036763906478881836: 100%|██████████| 64/64 [00:25<00:00,  2.53it/s]\n",
            "Epoch: 16/1000, loss=0.0357934832572937: 100%|██████████| 64/64 [00:25<00:00,  2.53it/s]\n",
            "Epoch: 17/1000, loss=0.04070723056793213: 100%|██████████| 64/64 [00:25<00:00,  2.53it/s]\n",
            "Epoch: 18/1000, loss=0.03535902500152588: 100%|██████████| 64/64 [00:25<00:00,  2.53it/s]\n",
            "Epoch: 19/1000, loss=0.035945773124694824: 100%|██████████| 64/64 [00:25<00:00,  2.53it/s]\n",
            "Epoch: 20/1000, loss=0.03826326131820679: 100%|██████████| 64/64 [00:25<00:00,  2.53it/s]\n"
          ]
        },
        {
          "metadata": {
            "tags": null
          },
          "name": "stdout",
          "output_type": "stream",
          "text": [
            "Evaluate model on testset. Total loss: 1.0188127756118774, Average loss: 0.0010087255204077993\n"
          ]
        },
        {
          "metadata": {
            "tags": null
          },
          "name": "stderr",
          "output_type": "stream",
          "text": [
            "Epoch: 21/1000, loss=0.03255218267440796: 100%|██████████| 64/64 [00:25<00:00,  2.53it/s]\n",
            "Epoch: 22/1000, loss=0.036203086376190186: 100%|██████████| 64/64 [00:25<00:00,  2.54it/s]\n",
            "Epoch: 23/1000, loss=0.03758394718170166: 100%|██████████| 64/64 [00:25<00:00,  2.53it/s]\n",
            "Epoch: 24/1000, loss=0.03899335861206055: 100%|██████████| 64/64 [00:25<00:00,  2.53it/s]\n",
            "Epoch: 25/1000, loss=0.03580349683761597: 100%|██████████| 64/64 [00:25<00:00,  2.53it/s]\n",
            "Epoch: 26/1000, loss=0.03679192066192627: 100%|██████████| 64/64 [00:25<00:00,  2.53it/s]\n",
            "Epoch: 27/1000, loss=0.03613400459289551: 100%|██████████| 64/64 [00:25<00:00,  2.53it/s]\n",
            "Epoch: 28/1000, loss=0.03251534700393677: 100%|██████████| 64/64 [00:25<00:00,  2.53it/s]\n",
            "Epoch: 29/1000, loss=0.03853869438171387: 100%|██████████| 64/64 [00:25<00:00,  2.53it/s]\n",
            "Epoch: 30/1000, loss=0.03861844539642334: 100%|██████████| 64/64 [00:25<00:00,  2.53it/s]\n"
          ]
        },
        {
          "metadata": {
            "tags": null
          },
          "name": "stdout",
          "output_type": "stream",
          "text": [
            "Evaluate model on testset. Total loss: 0.9953803420066833, Average loss: 0.0009855250910957261\n"
          ]
        },
        {
          "metadata": {
            "tags": null
          },
          "name": "stderr",
          "output_type": "stream",
          "text": [
            "Epoch: 31/1000, loss=0.03420674800872803: 100%|██████████| 64/64 [00:25<00:00,  2.53it/s]\n",
            "Epoch: 32/1000, loss=0.03525102138519287: 100%|██████████| 64/64 [00:25<00:00,  2.53it/s]\n",
            "Epoch: 33/1000, loss=0.036142587661743164: 100%|██████████| 64/64 [00:25<00:00,  2.53it/s]\n",
            "Epoch: 34/1000, loss=0.03625839948654175: 100%|██████████| 64/64 [00:25<00:00,  2.53it/s]\n",
            "Epoch: 35/1000, loss=0.0332036018371582: 100%|██████████| 64/64 [00:25<00:00,  2.53it/s]\n",
            "Epoch: 36/1000, loss=0.031615614891052246: 100%|██████████| 64/64 [00:25<00:00,  2.53it/s]\n",
            "Epoch: 37/1000, loss=0.03297150135040283: 100%|██████████| 64/64 [00:25<00:00,  2.53it/s]\n",
            "Epoch: 38/1000, loss=0.037045419216156006: 100%|██████████| 64/64 [00:25<00:00,  2.53it/s]\n",
            "Epoch: 39/1000, loss=0.03437918424606323: 100%|██████████| 64/64 [00:25<00:00,  2.54it/s]\n",
            "Epoch: 40/1000, loss=0.03414720296859741: 100%|██████████| 64/64 [00:25<00:00,  2.53it/s]\n"
          ]
        },
        {
          "metadata": {
            "tags": null
          },
          "name": "stdout",
          "output_type": "stream",
          "text": [
            "Evaluate model on testset. Total loss: 1.4819035530090332, Average loss: 0.001467231240603003\n"
          ]
        },
        {
          "metadata": {
            "tags": null
          },
          "name": "stderr",
          "output_type": "stream",
          "text": [
            "Epoch: 41/1000, loss=0.03275948762893677: 100%|██████████| 64/64 [00:25<00:00,  2.53it/s]\n",
            "Epoch: 42/1000, loss=0.03535395860671997: 100%|██████████| 64/64 [00:25<00:00,  2.54it/s]\n",
            "Epoch: 43/1000, loss=0.031697869300842285: 100%|██████████| 64/64 [00:25<00:00,  2.53it/s]\n",
            "Epoch: 44/1000, loss=0.03846859931945801: 100%|██████████| 64/64 [00:25<00:00,  2.54it/s]\n",
            "Epoch: 45/1000, loss=0.03497868776321411: 100%|██████████| 64/64 [00:25<00:00,  2.53it/s]\n",
            "Epoch: 46/1000, loss=0.03263133764266968: 100%|██████████| 64/64 [00:25<00:00,  2.54it/s]\n",
            "Epoch: 47/1000, loss=0.03662949800491333: 100%|██████████| 64/64 [00:25<00:00,  2.53it/s]\n",
            "Epoch: 48/1000, loss=0.03938925266265869: 100%|██████████| 64/64 [00:25<00:00,  2.53it/s]\n",
            "Epoch: 49/1000, loss=0.032073915004730225: 100%|██████████| 64/64 [00:25<00:00,  2.53it/s]\n",
            "Epoch: 50/1000, loss=0.03789830207824707: 100%|██████████| 64/64 [00:25<00:00,  2.53it/s]\n"
          ]
        },
        {
          "metadata": {
            "tags": null
          },
          "name": "stdout",
          "output_type": "stream",
          "text": [
            "Evaluate model on testset. Total loss: 1.269219696521759, Average loss: 0.0012566531648730288\n"
          ]
        },
        {
          "metadata": {
            "tags": null
          },
          "name": "stderr",
          "output_type": "stream",
          "text": [
            "Epoch: 51/1000, loss=0.03451317548751831: 100%|██████████| 64/64 [00:25<00:00,  2.53it/s]\n",
            "Epoch: 52/1000, loss=0.03531140089035034: 100%|██████████| 64/64 [00:25<00:00,  2.53it/s]\n",
            "Epoch: 53/1000, loss=0.030982136726379395: 100%|██████████| 64/64 [00:25<00:00,  2.54it/s]\n",
            "Epoch: 54/1000, loss=0.03336536884307861: 100%|██████████| 64/64 [00:25<00:00,  2.53it/s]\n",
            "Epoch: 55/1000, loss=0.031123042106628418: 100%|██████████| 64/64 [00:25<00:00,  2.53it/s]\n",
            "Epoch: 56/1000, loss=0.03461498022079468: 100%|██████████| 64/64 [00:25<00:00,  2.54it/s]\n",
            "Epoch: 57/1000, loss=0.033383309841156006: 100%|██████████| 64/64 [00:25<00:00,  2.54it/s]\n",
            "Epoch: 58/1000, loss=0.03365594148635864: 100%|██████████| 64/64 [00:25<00:00,  2.54it/s]\n",
            "Epoch: 59/1000, loss=0.03068244457244873: 100%|██████████| 64/64 [00:25<00:00,  2.53it/s]\n",
            "Epoch: 60/1000, loss=0.03158074617385864: 100%|██████████| 64/64 [00:25<00:00,  2.53it/s]\n"
          ]
        },
        {
          "metadata": {
            "tags": null
          },
          "name": "stdout",
          "output_type": "stream",
          "text": [
            "Evaluate model on testset. Total loss: 1.2463995814323425, Average loss: 0.0012340589915171708\n"
          ]
        },
        {
          "metadata": {
            "tags": null
          },
          "name": "stderr",
          "output_type": "stream",
          "text": [
            "Epoch: 61/1000, loss=0.03309273719787598: 100%|██████████| 64/64 [00:25<00:00,  2.53it/s]\n",
            "Epoch: 62/1000, loss=0.029644131660461426: 100%|██████████| 64/64 [00:25<00:00,  2.53it/s]\n",
            "Epoch: 63/1000, loss=0.03249931335449219: 100%|██████████| 64/64 [00:25<00:00,  2.54it/s]\n",
            "Epoch: 64/1000, loss=0.03415554761886597: 100%|██████████| 64/64 [00:25<00:00,  2.54it/s]\n",
            "Epoch: 65/1000, loss=0.03206169605255127: 100%|██████████| 64/64 [00:25<00:00,  2.54it/s]\n",
            "Epoch: 66/1000, loss=0.033397376537323: 100%|██████████| 64/64 [00:25<00:00,  2.54it/s]\n",
            "Epoch: 67/1000, loss=0.031067490577697754: 100%|██████████| 64/64 [00:25<00:00,  2.54it/s]\n",
            "Epoch: 68/1000, loss=0.03376650810241699: 100%|██████████| 64/64 [00:25<00:00,  2.54it/s]\n",
            "Epoch: 69/1000, loss=0.03094804286956787: 100%|██████████| 64/64 [00:25<00:00,  2.54it/s]\n",
            "Epoch: 70/1000, loss=0.031095147132873535: 100%|██████████| 64/64 [00:25<00:00,  2.53it/s]\n"
          ]
        },
        {
          "metadata": {
            "tags": null
          },
          "name": "stdout",
          "output_type": "stream",
          "text": [
            "Evaluate model on testset. Total loss: 0.9326455593109131, Average loss: 0.0009234114448622902\n"
          ]
        },
        {
          "metadata": {
            "tags": null
          },
          "name": "stderr",
          "output_type": "stream",
          "text": [
            "Epoch: 71/1000, loss=0.035701870918273926: 100%|██████████| 64/64 [00:25<00:00,  2.54it/s]\n",
            "Epoch: 72/1000, loss=0.0299985408782959: 100%|██████████| 64/64 [00:25<00:00,  2.54it/s]\n",
            "Epoch: 73/1000, loss=0.03341001272201538: 100%|██████████| 64/64 [00:25<00:00,  2.53it/s]\n",
            "Epoch: 74/1000, loss=0.033564090728759766: 100%|██████████| 64/64 [00:25<00:00,  2.53it/s]\n",
            "Epoch: 75/1000, loss=0.03163701295852661: 100%|██████████| 64/64 [00:25<00:00,  2.54it/s]\n",
            "Epoch: 76/1000, loss=0.0287553071975708: 100%|██████████| 64/64 [00:25<00:00,  2.53it/s]\n",
            "Epoch: 77/1000, loss=0.03283625841140747: 100%|██████████| 64/64 [00:25<00:00,  2.53it/s]\n",
            "Epoch: 78/1000, loss=0.030901074409484863: 100%|██████████| 64/64 [00:25<00:00,  2.53it/s]\n",
            "Epoch: 79/1000, loss=0.031400322914123535: 100%|██████████| 64/64 [00:25<00:00,  2.54it/s]\n",
            "Epoch: 80/1000, loss=0.03300189971923828: 100%|██████████| 64/64 [00:25<00:00,  2.53it/s]\n"
          ]
        },
        {
          "metadata": {
            "tags": null
          },
          "name": "stdout",
          "output_type": "stream",
          "text": [
            "Evaluate model on testset. Total loss: 0.9674411416053772, Average loss: 0.0009578625164409675\n"
          ]
        },
        {
          "metadata": {
            "tags": null
          },
          "name": "stderr",
          "output_type": "stream",
          "text": [
            "Epoch: 81/1000, loss=0.03218865394592285: 100%|██████████| 64/64 [00:25<00:00,  2.53it/s]\n",
            "Epoch: 82/1000, loss=0.03774338960647583: 100%|██████████| 64/64 [00:25<00:00,  2.54it/s]\n",
            "Epoch: 83/1000, loss=0.030611395835876465: 100%|██████████| 64/64 [00:25<00:00,  2.53it/s]\n",
            "Epoch: 84/1000, loss=0.031953632831573486: 100%|██████████| 64/64 [00:25<00:00,  2.54it/s]\n",
            "Epoch: 85/1000, loss=0.03193831443786621: 100%|██████████| 64/64 [00:25<00:00,  2.53it/s]\n",
            "Epoch: 86/1000, loss=0.03161972761154175: 100%|██████████| 64/64 [00:25<00:00,  2.53it/s]\n",
            "Epoch: 87/1000, loss=0.029355406761169434: 100%|██████████| 64/64 [00:25<00:00,  2.54it/s]\n",
            "Epoch: 88/1000, loss=0.02864164113998413: 100%|██████████| 64/64 [00:25<00:00,  2.54it/s]\n",
            "Epoch: 89/1000, loss=0.03099656105041504: 100%|██████████| 64/64 [00:25<00:00,  2.53it/s]\n",
            "Epoch: 90/1000, loss=0.029613614082336426: 100%|██████████| 64/64 [00:25<00:00,  2.53it/s]\n"
          ]
        },
        {
          "metadata": {
            "tags": null
          },
          "name": "stdout",
          "output_type": "stream",
          "text": [
            "Evaluate model on testset. Total loss: 1.061437726020813, Average loss: 0.0010509284416047654\n"
          ]
        },
        {
          "metadata": {
            "tags": null
          },
          "name": "stderr",
          "output_type": "stream",
          "text": [
            "Epoch: 91/1000, loss=0.031121492385864258: 100%|██████████| 64/64 [00:25<00:00,  2.53it/s]\n",
            "Epoch: 92/1000, loss=0.02769792079925537: 100%|██████████| 64/64 [00:25<00:00,  2.53it/s]\n",
            "Epoch: 93/1000, loss=0.02993100881576538: 100%|██████████| 64/64 [00:25<00:00,  2.54it/s]\n",
            "Epoch: 94/1000, loss=0.028973519802093506: 100%|██████████| 64/64 [00:25<00:00,  2.54it/s]\n",
            "Epoch: 95/1000, loss=0.028590500354766846: 100%|██████████| 64/64 [00:25<00:00,  2.53it/s]\n",
            "Epoch: 96/1000, loss=0.03053462505340576: 100%|██████████| 64/64 [00:25<00:00,  2.53it/s]\n",
            "Epoch: 97/1000, loss=0.032344937324523926: 100%|██████████| 64/64 [00:25<00:00,  2.53it/s]\n",
            "Epoch: 98/1000, loss=0.027635931968688965: 100%|██████████| 64/64 [00:25<00:00,  2.53it/s]\n",
            "Epoch: 99/1000, loss=0.029603898525238037: 100%|██████████| 64/64 [00:25<00:00,  2.53it/s]\n",
            "Epoch: 100/1000, loss=0.03296947479248047: 100%|██████████| 64/64 [00:25<00:00,  2.53it/s]\n"
          ]
        },
        {
          "metadata": {
            "tags": null
          },
          "name": "stdout",
          "output_type": "stream",
          "text": [
            "Evaluate model on testset. Total loss: 1.0764842629432678, Average loss: 0.0010658260029141266\n"
          ]
        },
        {
          "metadata": {
            "tags": null
          },
          "name": "stderr",
          "output_type": "stream",
          "text": [
            "Epoch: 101/1000, loss=0.03225517272949219: 100%|██████████| 64/64 [00:25<00:00,  2.53it/s]\n",
            "Epoch: 102/1000, loss=0.027232348918914795: 100%|██████████| 64/64 [00:25<00:00,  2.53it/s]\n",
            "Epoch: 103/1000, loss=0.028572797775268555: 100%|██████████| 64/64 [00:25<00:00,  2.54it/s]\n",
            "Epoch: 104/1000, loss=0.027997493743896484: 100%|██████████| 64/64 [00:25<00:00,  2.54it/s]\n",
            "Epoch: 105/1000, loss=0.029637038707733154: 100%|██████████| 64/64 [00:25<00:00,  2.53it/s]\n",
            "Epoch: 106/1000, loss=0.026813745498657227: 100%|██████████| 64/64 [00:25<00:00,  2.53it/s]\n",
            "Epoch: 107/1000, loss=0.02875310182571411: 100%|██████████| 64/64 [00:25<00:00,  2.53it/s]\n",
            "Epoch: 108/1000, loss=0.03282570838928223: 100%|██████████| 64/64 [00:25<00:00,  2.53it/s]\n",
            "Epoch: 109/1000, loss=0.02850717306137085: 100%|██████████| 64/64 [00:25<00:00,  2.53it/s]\n",
            "Epoch: 110/1000, loss=0.027783989906311035: 100%|██████████| 64/64 [00:25<00:00,  2.54it/s]\n"
          ]
        },
        {
          "metadata": {
            "tags": null
          },
          "name": "stdout",
          "output_type": "stream",
          "text": [
            "Evaluate model on testset. Total loss: 0.943333625793457, Average loss: 0.0009339936889044129\n"
          ]
        },
        {
          "metadata": {
            "tags": null
          },
          "name": "stderr",
          "output_type": "stream",
          "text": [
            "Epoch: 111/1000, loss=0.02955096960067749: 100%|██████████| 64/64 [00:25<00:00,  2.53it/s]\n",
            "Epoch: 112/1000, loss=0.02758103609085083: 100%|██████████| 64/64 [00:25<00:00,  2.53it/s]\n",
            "Epoch: 113/1000, loss=0.029902279376983643: 100%|██████████| 64/64 [00:25<00:00,  2.54it/s]\n",
            "Epoch: 114/1000, loss=0.03304189443588257: 100%|██████████| 64/64 [00:25<00:00,  2.53it/s]\n",
            "Epoch: 115/1000, loss=0.02920842170715332: 100%|██████████| 64/64 [00:25<00:00,  2.53it/s]\n",
            "Epoch: 116/1000, loss=0.029169857501983643: 100%|██████████| 64/64 [00:25<00:00,  2.53it/s]\n",
            "Epoch: 117/1000, loss=0.026773810386657715: 100%|██████████| 64/64 [00:25<00:00,  2.53it/s]\n",
            "Epoch: 118/1000, loss=0.030107617378234863: 100%|██████████| 64/64 [00:25<00:00,  2.53it/s]\n",
            "Epoch: 119/1000, loss=0.02922224998474121: 100%|██████████| 64/64 [00:25<00:00,  2.53it/s]\n",
            "Epoch: 120/1000, loss=0.029908478260040283: 100%|██████████| 64/64 [00:25<00:00,  2.53it/s]\n"
          ]
        },
        {
          "metadata": {
            "tags": null
          },
          "name": "stdout",
          "output_type": "stream",
          "text": [
            "Evaluate model on testset. Total loss: 0.9699583053588867, Average loss: 0.0009603547577810759\n"
          ]
        },
        {
          "metadata": {
            "tags": null
          },
          "name": "stderr",
          "output_type": "stream",
          "text": [
            "Epoch: 121/1000, loss=0.028496265411376953: 100%|██████████| 64/64 [00:25<00:00,  2.53it/s]\n",
            "Epoch: 122/1000, loss=0.025699317455291748: 100%|██████████| 64/64 [00:25<00:00,  2.54it/s]\n",
            "Epoch: 123/1000, loss=0.027132630348205566: 100%|██████████| 64/64 [00:25<00:00,  2.53it/s]\n",
            "Epoch: 124/1000, loss=0.030289173126220703: 100%|██████████| 64/64 [00:25<00:00,  2.54it/s]\n",
            "Epoch: 125/1000, loss=0.029306352138519287: 100%|██████████| 64/64 [00:25<00:00,  2.53it/s]\n",
            "Epoch: 126/1000, loss=0.028584301471710205: 100%|██████████| 64/64 [00:25<00:00,  2.53it/s]\n",
            "Epoch: 127/1000, loss=0.027251899242401123: 100%|██████████| 64/64 [00:25<00:00,  2.54it/s]\n",
            "Epoch: 128/1000, loss=0.02763742208480835: 100%|██████████| 64/64 [00:25<00:00,  2.53it/s]\n",
            "Epoch: 129/1000, loss=0.029699981212615967: 100%|██████████| 64/64 [00:25<00:00,  2.53it/s]\n",
            "Epoch: 130/1000, loss=0.027812480926513672: 100%|██████████| 64/64 [00:25<00:00,  2.54it/s]\n"
          ]
        },
        {
          "metadata": {
            "tags": null
          },
          "name": "stdout",
          "output_type": "stream",
          "text": [
            "Evaluate model on testset. Total loss: 1.0636066198349, Average loss: 0.0010530758612226731\n"
          ]
        },
        {
          "metadata": {
            "tags": null
          },
          "name": "stderr",
          "output_type": "stream",
          "text": [
            "Epoch: 131/1000, loss=0.027007579803466797: 100%|██████████| 64/64 [00:25<00:00,  2.54it/s]\n",
            "Epoch: 132/1000, loss=0.028362929821014404: 100%|██████████| 64/64 [00:25<00:00,  2.53it/s]\n",
            "Epoch: 133/1000, loss=0.027889490127563477: 100%|██████████| 64/64 [00:25<00:00,  2.53it/s]\n",
            "Epoch: 134/1000, loss=0.03123176097869873: 100%|██████████| 64/64 [00:25<00:00,  2.53it/s]\n",
            "Epoch: 135/1000, loss=0.02569878101348877: 100%|██████████| 64/64 [00:25<00:00,  2.53it/s]\n",
            "Epoch: 136/1000, loss=0.02725774049758911: 100%|██████████| 64/64 [00:25<00:00,  2.54it/s]\n",
            "Epoch: 137/1000, loss=0.025439441204071045: 100%|██████████| 64/64 [00:25<00:00,  2.53it/s]\n",
            "Epoch: 138/1000, loss=0.02665722370147705: 100%|██████████| 64/64 [00:25<00:00,  2.53it/s]\n",
            "Epoch: 139/1000, loss=0.027958571910858154: 100%|██████████| 64/64 [00:25<00:00,  2.53it/s]\n",
            "Epoch: 140/1000, loss=0.025429844856262207: 100%|██████████| 64/64 [00:25<00:00,  2.53it/s]\n"
          ]
        },
        {
          "metadata": {
            "tags": null
          },
          "name": "stdout",
          "output_type": "stream",
          "text": [
            "Evaluate model on testset. Total loss: 0.9796690940856934, Average loss: 0.0009699694000848449\n"
          ]
        },
        {
          "metadata": {
            "tags": null
          },
          "name": "stderr",
          "output_type": "stream",
          "text": [
            "Epoch: 141/1000, loss=0.027007579803466797: 100%|██████████| 64/64 [00:25<00:00,  2.53it/s]\n",
            "Epoch: 142/1000, loss=0.026112258434295654: 100%|██████████| 64/64 [00:25<00:00,  2.54it/s]\n",
            "Epoch: 143/1000, loss=0.02595651149749756: 100%|██████████| 64/64 [00:25<00:00,  2.53it/s]\n",
            "Epoch: 144/1000, loss=0.027242660522460938: 100%|██████████| 64/64 [00:25<00:00,  2.53it/s]\n",
            "Epoch: 145/1000, loss=0.024882137775421143: 100%|██████████| 64/64 [00:25<00:00,  2.53it/s]\n",
            "Epoch: 146/1000, loss=0.026841819286346436: 100%|██████████| 64/64 [00:25<00:00,  2.53it/s]\n",
            "Epoch: 147/1000, loss=0.028335094451904297: 100%|██████████| 64/64 [00:25<00:00,  2.53it/s]\n",
            "Epoch: 148/1000, loss=0.02567988634109497: 100%|██████████| 64/64 [00:25<00:00,  2.54it/s]\n",
            "Epoch: 149/1000, loss=0.027349114418029785: 100%|██████████| 64/64 [00:25<00:00,  2.53it/s]\n",
            "Epoch: 150/1000, loss=0.026371657848358154: 100%|██████████| 64/64 [00:25<00:00,  2.53it/s]\n"
          ]
        },
        {
          "metadata": {
            "tags": null
          },
          "name": "stdout",
          "output_type": "stream",
          "text": [
            "Evaluate model on testset. Total loss: 0.928364634513855, Average loss: 0.0009191729054592624\n"
          ]
        },
        {
          "metadata": {
            "tags": null
          },
          "name": "stderr",
          "output_type": "stream",
          "text": [
            "Epoch: 151/1000, loss=0.025603055953979492: 100%|██████████| 64/64 [00:25<00:00,  2.53it/s]\n",
            "Epoch: 152/1000, loss=0.02646583318710327: 100%|██████████| 64/64 [00:25<00:00,  2.53it/s]\n",
            "Epoch: 153/1000, loss=0.023786485195159912: 100%|██████████| 64/64 [00:25<00:00,  2.53it/s]\n",
            "Epoch: 154/1000, loss=0.025735795497894287: 100%|██████████| 64/64 [00:25<00:00,  2.53it/s]\n",
            "Epoch: 155/1000, loss=0.026437699794769287: 100%|██████████| 64/64 [00:25<00:00,  2.54it/s]\n",
            "Epoch: 156/1000, loss=0.02608358860015869: 100%|██████████| 64/64 [00:25<00:00,  2.53it/s]\n",
            "Epoch: 157/1000, loss=0.030360698699951172: 100%|██████████| 64/64 [00:25<00:00,  2.53it/s]\n",
            "Epoch: 158/1000, loss=0.023279666900634766: 100%|██████████| 64/64 [00:25<00:00,  2.53it/s]\n",
            "Epoch: 159/1000, loss=0.023326992988586426: 100%|██████████| 64/64 [00:25<00:00,  2.53it/s]\n",
            "Epoch: 160/1000, loss=0.02506077289581299: 100%|██████████| 64/64 [00:25<00:00,  2.53it/s]\n"
          ]
        },
        {
          "metadata": {
            "tags": null
          },
          "name": "stdout",
          "output_type": "stream",
          "text": [
            "Evaluate model on testset. Total loss: 1.0828928351402283, Average loss: 0.0010721711239012161\n"
          ]
        },
        {
          "metadata": {
            "tags": null
          },
          "name": "stderr",
          "output_type": "stream",
          "text": [
            "Epoch: 161/1000, loss=0.0263596773147583: 100%|██████████| 64/64 [00:25<00:00,  2.53it/s]\n",
            "Epoch: 162/1000, loss=0.025897681713104248: 100%|██████████| 64/64 [00:25<00:00,  2.53it/s]\n",
            "Epoch: 163/1000, loss=0.02693474292755127: 100%|██████████| 64/64 [00:25<00:00,  2.53it/s]\n",
            "Epoch: 164/1000, loss=0.026117146015167236: 100%|██████████| 64/64 [00:25<00:00,  2.53it/s]\n",
            "Epoch: 165/1000, loss=0.02937448024749756: 100%|██████████| 64/64 [00:25<00:00,  2.54it/s]\n",
            "Epoch: 166/1000, loss=0.02584296464920044: 100%|██████████| 64/64 [00:25<00:00,  2.53it/s]\n",
            "Epoch: 167/1000, loss=0.026105642318725586: 100%|██████████| 64/64 [00:25<00:00,  2.53it/s]\n",
            "Epoch: 168/1000, loss=0.025546252727508545: 100%|██████████| 64/64 [00:25<00:00,  2.54it/s]\n",
            "Epoch: 169/1000, loss=0.026944637298583984: 100%|██████████| 64/64 [00:25<00:00,  2.53it/s]\n",
            "Epoch: 170/1000, loss=0.028739750385284424: 100%|██████████| 64/64 [00:25<00:00,  2.53it/s]\n"
          ]
        },
        {
          "metadata": {
            "tags": null
          },
          "name": "stdout",
          "output_type": "stream",
          "text": [
            "Evaluate model on testset. Total loss: 0.9217296242713928, Average loss: 0.0009126035883875176\n"
          ]
        },
        {
          "metadata": {
            "tags": null
          },
          "name": "stderr",
          "output_type": "stream",
          "text": [
            "Epoch: 171/1000, loss=0.03151834011077881: 100%|██████████| 64/64 [00:25<00:00,  2.54it/s]\n",
            "Epoch: 172/1000, loss=0.025861680507659912: 100%|██████████| 64/64 [00:25<00:00,  2.53it/s]\n",
            "Epoch: 173/1000, loss=0.02837347984313965: 100%|██████████| 64/64 [00:25<00:00,  2.53it/s]\n",
            "Epoch: 174/1000, loss=0.025789618492126465: 100%|██████████| 64/64 [00:25<00:00,  2.53it/s]\n",
            "Epoch: 175/1000, loss=0.02599996328353882: 100%|██████████| 64/64 [00:25<00:00,  2.53it/s]\n",
            "Epoch: 176/1000, loss=0.02551645040512085: 100%|██████████| 64/64 [00:25<00:00,  2.53it/s]\n",
            "Epoch: 177/1000, loss=0.02699112892150879: 100%|██████████| 64/64 [00:25<00:00,  2.53it/s]\n",
            "Epoch: 178/1000, loss=0.027689754962921143: 100%|██████████| 64/64 [00:25<00:00,  2.53it/s]\n",
            "Epoch: 179/1000, loss=0.02759498357772827: 100%|██████████| 64/64 [00:25<00:00,  2.53it/s]\n",
            "Epoch: 180/1000, loss=0.02692478895187378: 100%|██████████| 64/64 [00:25<00:00,  2.53it/s]\n"
          ]
        },
        {
          "metadata": {
            "tags": null
          },
          "name": "stdout",
          "output_type": "stream",
          "text": [
            "Evaluate model on testset. Total loss: 1.1664469242095947, Average loss: 0.001154897944761975\n"
          ]
        },
        {
          "metadata": {
            "tags": null
          },
          "name": "stderr",
          "output_type": "stream",
          "text": [
            "Epoch: 181/1000, loss=0.028753459453582764: 100%|██████████| 64/64 [00:25<00:00,  2.53it/s]\n",
            "Epoch: 182/1000, loss=0.025702357292175293: 100%|██████████| 64/64 [00:25<00:00,  2.53it/s]\n",
            "Epoch: 183/1000, loss=0.024513840675354004: 100%|██████████| 64/64 [00:25<00:00,  2.53it/s]\n",
            "Epoch: 184/1000, loss=0.023971498012542725: 100%|██████████| 64/64 [00:25<00:00,  2.53it/s]\n",
            "Epoch: 185/1000, loss=0.025337159633636475: 100%|██████████| 64/64 [00:25<00:00,  2.53it/s]\n",
            "Epoch: 186/1000, loss=0.028963983058929443: 100%|██████████| 64/64 [00:25<00:00,  2.53it/s]\n",
            "Epoch: 187/1000, loss=0.027781009674072266: 100%|██████████| 64/64 [00:25<00:00,  2.53it/s]\n",
            "Epoch: 188/1000, loss=0.024933934211730957: 100%|██████████| 64/64 [00:25<00:00,  2.53it/s]\n",
            "Epoch: 189/1000, loss=0.026865661144256592: 100%|██████████| 64/64 [00:25<00:00,  2.53it/s]\n",
            "Epoch: 190/1000, loss=0.024390995502471924: 100%|██████████| 64/64 [00:25<00:00,  2.53it/s]\n"
          ]
        },
        {
          "metadata": {
            "tags": null
          },
          "name": "stdout",
          "output_type": "stream",
          "text": [
            "Evaluate model on testset. Total loss: 1.1635286808013916, Average loss: 0.0011520085948528629\n"
          ]
        },
        {
          "metadata": {
            "tags": null
          },
          "name": "stderr",
          "output_type": "stream",
          "text": [
            "Epoch: 191/1000, loss=0.026823878288269043: 100%|██████████| 64/64 [00:25<00:00,  2.53it/s]\n",
            "Epoch: 192/1000, loss=0.024052858352661133: 100%|██████████| 64/64 [00:25<00:00,  2.53it/s]\n",
            "Epoch: 193/1000, loss=0.024689793586730957: 100%|██████████| 64/64 [00:25<00:00,  2.53it/s]\n",
            "Epoch: 194/1000, loss=0.023478329181671143: 100%|██████████| 64/64 [00:25<00:00,  2.53it/s]\n",
            "Epoch: 195/1000, loss=0.024448096752166748: 100%|██████████| 64/64 [00:25<00:00,  2.53it/s]\n",
            "Epoch: 196/1000, loss=0.02649819850921631: 100%|██████████| 64/64 [00:25<00:00,  2.53it/s]\n",
            "Epoch: 197/1000, loss=0.026316463947296143: 100%|██████████| 64/64 [00:25<00:00,  2.53it/s]\n",
            "Epoch: 198/1000, loss=0.02409452199935913: 100%|██████████| 64/64 [00:25<00:00,  2.53it/s]\n",
            "Epoch: 199/1000, loss=0.02766507863998413: 100%|██████████| 64/64 [00:25<00:00,  2.53it/s]\n",
            "Epoch: 200/1000, loss=0.024895548820495605: 100%|██████████| 64/64 [00:25<00:00,  2.53it/s]\n"
          ]
        },
        {
          "metadata": {
            "tags": null
          },
          "name": "stdout",
          "output_type": "stream",
          "text": [
            "Evaluate model on testset. Total loss: 1.036562979221344, Average loss: 0.0010262999794270733\n"
          ]
        },
        {
          "metadata": {
            "tags": null
          },
          "name": "stderr",
          "output_type": "stream",
          "text": [
            "Epoch: 201/1000, loss=0.029175162315368652: 100%|██████████| 64/64 [00:25<00:00,  2.53it/s]\n",
            "Epoch: 202/1000, loss=0.024965226650238037: 100%|██████████| 64/64 [00:25<00:00,  2.53it/s]\n",
            "Epoch: 203/1000, loss=0.029246211051940918: 100%|██████████| 64/64 [00:25<00:00,  2.53it/s]\n",
            "Epoch: 204/1000, loss=0.028142869472503662: 100%|██████████| 64/64 [00:25<00:00,  2.53it/s]\n",
            "Epoch: 205/1000, loss=0.028357744216918945: 100%|██████████| 64/64 [00:25<00:00,  2.53it/s]\n",
            "Epoch: 206/1000, loss=0.0290604829788208: 100%|██████████| 64/64 [00:25<00:00,  2.53it/s]\n",
            "Epoch: 207/1000, loss=0.02454155683517456: 100%|██████████| 64/64 [00:25<00:00,  2.53it/s]\n",
            "Epoch: 208/1000, loss=0.026660621166229248: 100%|██████████| 64/64 [00:25<00:00,  2.53it/s]\n",
            "Epoch: 209/1000, loss=0.028337299823760986: 100%|██████████| 64/64 [00:25<00:00,  2.53it/s]\n",
            "Epoch: 210/1000, loss=0.02659595012664795: 100%|██████████| 64/64 [00:25<00:00,  2.53it/s]\n"
          ]
        },
        {
          "metadata": {
            "tags": null
          },
          "name": "stdout",
          "output_type": "stream",
          "text": [
            "Evaluate model on testset. Total loss: 0.8945852518081665, Average loss: 0.0008857279720872936\n"
          ]
        },
        {
          "metadata": {
            "tags": null
          },
          "name": "stderr",
          "output_type": "stream",
          "text": [
            "Epoch: 211/1000, loss=0.027739346027374268: 100%|██████████| 64/64 [00:25<00:00,  2.53it/s]\n",
            "Epoch: 212/1000, loss=0.02446889877319336: 100%|██████████| 64/64 [00:25<00:00,  2.53it/s]\n",
            "Epoch: 213/1000, loss=0.02248549461364746: 100%|██████████| 64/64 [00:25<00:00,  2.53it/s]\n",
            "Epoch: 214/1000, loss=0.023171067237854004: 100%|██████████| 64/64 [00:25<00:00,  2.53it/s]\n",
            "Epoch: 215/1000, loss=0.021756649017333984: 100%|██████████| 64/64 [00:25<00:00,  2.53it/s]\n",
            "Epoch: 216/1000, loss=0.0267258882522583: 100%|██████████| 64/64 [00:25<00:00,  2.53it/s]\n",
            "Epoch: 217/1000, loss=0.026747703552246094: 100%|██████████| 64/64 [00:25<00:00,  2.53it/s]\n",
            "Epoch: 218/1000, loss=0.02780991792678833: 100%|██████████| 64/64 [00:25<00:00,  2.53it/s]\n",
            "Epoch: 219/1000, loss=0.02349036931991577: 100%|██████████| 64/64 [00:25<00:00,  2.53it/s]\n",
            "Epoch: 220/1000, loss=0.023900508880615234: 100%|██████████| 64/64 [00:25<00:00,  2.53it/s]\n"
          ]
        },
        {
          "metadata": {
            "tags": null
          },
          "name": "stdout",
          "output_type": "stream",
          "text": [
            "Evaluate model on testset. Total loss: 0.9692245721817017, Average loss: 0.0009596282892888135\n"
          ]
        },
        {
          "metadata": {
            "tags": null
          },
          "name": "stderr",
          "output_type": "stream",
          "text": [
            "Epoch: 221/1000, loss=0.027348637580871582: 100%|██████████| 64/64 [00:25<00:00,  2.53it/s]\n",
            "Epoch: 222/1000, loss=0.025423049926757812: 100%|██████████| 64/64 [00:25<00:00,  2.53it/s]\n",
            "Epoch: 223/1000, loss=0.024904906749725342: 100%|██████████| 64/64 [00:25<00:00,  2.53it/s]\n",
            "Epoch: 224/1000, loss=0.024690985679626465: 100%|██████████| 64/64 [00:25<00:00,  2.53it/s]\n",
            "Epoch: 225/1000, loss=0.021592259407043457: 100%|██████████| 64/64 [00:25<00:00,  2.53it/s]\n",
            "Epoch: 226/1000, loss=0.023965001106262207: 100%|██████████| 64/64 [00:25<00:00,  2.53it/s]\n",
            "Epoch: 227/1000, loss=0.024888813495635986: 100%|██████████| 64/64 [00:25<00:00,  2.53it/s]\n",
            "Epoch: 228/1000, loss=0.023144006729125977: 100%|██████████| 64/64 [00:25<00:00,  2.53it/s]\n",
            "Epoch: 229/1000, loss=0.025345146656036377: 100%|██████████| 64/64 [00:25<00:00,  2.53it/s]\n",
            "Epoch: 230/1000, loss=0.030215561389923096: 100%|██████████| 64/64 [00:25<00:00,  2.53it/s]\n"
          ]
        },
        {
          "metadata": {
            "tags": null
          },
          "name": "stdout",
          "output_type": "stream",
          "text": [
            "Evaluate model on testset. Total loss: 1.1444684267044067, Average loss: 0.001133137056142977\n"
          ]
        },
        {
          "metadata": {
            "tags": null
          },
          "name": "stderr",
          "output_type": "stream",
          "text": [
            "Epoch: 231/1000, loss=0.027089357376098633: 100%|██████████| 64/64 [00:25<00:00,  2.53it/s]\n",
            "Epoch: 232/1000, loss=0.026981711387634277: 100%|██████████| 64/64 [00:25<00:00,  2.53it/s]\n",
            "Epoch: 233/1000, loss=0.02624458074569702: 100%|██████████| 64/64 [00:25<00:00,  2.53it/s]\n",
            "Epoch: 234/1000, loss=0.02425318956375122: 100%|██████████| 64/64 [00:25<00:00,  2.53it/s]\n",
            "Epoch: 235/1000, loss=0.025405704975128174: 100%|██████████| 64/64 [00:25<00:00,  2.53it/s]\n",
            "Epoch: 236/1000, loss=0.02590733766555786: 100%|██████████| 64/64 [00:25<00:00,  2.53it/s]\n",
            "Epoch: 237/1000, loss=0.023932814598083496: 100%|██████████| 64/64 [00:25<00:00,  2.53it/s]\n",
            "Epoch: 238/1000, loss=0.026133358478546143: 100%|██████████| 64/64 [00:25<00:00,  2.53it/s]\n",
            "Epoch: 239/1000, loss=0.022055983543395996: 100%|██████████| 64/64 [00:25<00:00,  2.53it/s]\n",
            "Epoch: 240/1000, loss=0.02449798583984375: 100%|██████████| 64/64 [00:25<00:00,  2.53it/s]\n"
          ]
        },
        {
          "metadata": {
            "tags": null
          },
          "name": "stdout",
          "output_type": "stream",
          "text": [
            "Evaluate model on testset. Total loss: 0.8837805986404419, Average loss: 0.0008750302956836058\n"
          ]
        },
        {
          "metadata": {
            "tags": null
          },
          "name": "stderr",
          "output_type": "stream",
          "text": [
            "Epoch: 241/1000, loss=0.0205385684967041: 100%|██████████| 64/64 [00:25<00:00,  2.53it/s]\n",
            "Epoch: 242/1000, loss=0.02156531810760498: 100%|██████████| 64/64 [00:25<00:00,  2.53it/s]\n",
            "Epoch: 243/1000, loss=0.024510860443115234: 100%|██████████| 64/64 [00:25<00:00,  2.53it/s]\n",
            "Epoch: 244/1000, loss=0.022814571857452393: 100%|██████████| 64/64 [00:25<00:00,  2.53it/s]\n",
            "Epoch: 245/1000, loss=0.021360814571380615: 100%|██████████| 64/64 [00:25<00:00,  2.53it/s]\n",
            "Epoch: 246/1000, loss=0.022500276565551758: 100%|██████████| 64/64 [00:25<00:00,  2.53it/s]\n",
            "Epoch: 247/1000, loss=0.02387261390686035: 100%|██████████| 64/64 [00:25<00:00,  2.53it/s]\n",
            "Epoch: 248/1000, loss=0.02224940061569214: 100%|██████████| 64/64 [00:25<00:00,  2.53it/s]\n",
            "Epoch: 249/1000, loss=0.022836804389953613: 100%|██████████| 64/64 [00:25<00:00,  2.53it/s]\n",
            "Epoch: 250/1000, loss=0.02283656597137451: 100%|██████████| 64/64 [00:25<00:00,  2.53it/s]\n"
          ]
        },
        {
          "metadata": {
            "tags": null
          },
          "name": "stdout",
          "output_type": "stream",
          "text": [
            "Evaluate model on testset. Total loss: 0.9253892302513123, Average loss: 0.0009162269606448636\n"
          ]
        },
        {
          "metadata": {
            "tags": null
          },
          "name": "stderr",
          "output_type": "stream",
          "text": [
            "Epoch: 251/1000, loss=0.021666646003723145: 100%|██████████| 64/64 [00:25<00:00,  2.53it/s]\n",
            "Epoch: 252/1000, loss=0.02752375602722168: 100%|██████████| 64/64 [00:25<00:00,  2.53it/s]\n",
            "Epoch: 253/1000, loss=0.02200216054916382: 100%|██████████| 64/64 [00:25<00:00,  2.53it/s]\n",
            "Epoch: 254/1000, loss=0.02231520414352417: 100%|██████████| 64/64 [00:25<00:00,  2.53it/s]\n",
            "Epoch: 255/1000, loss=0.02741825580596924: 100%|██████████| 64/64 [00:25<00:00,  2.53it/s]\n",
            "Epoch: 256/1000, loss=0.02366536855697632: 100%|██████████| 64/64 [00:25<00:00,  2.53it/s]\n",
            "Epoch: 257/1000, loss=0.023523569107055664: 100%|██████████| 64/64 [00:25<00:00,  2.53it/s]\n",
            "Epoch: 258/1000, loss=0.02444213628768921: 100%|██████████| 64/64 [00:25<00:00,  2.53it/s]\n",
            "Epoch: 259/1000, loss=0.021408796310424805: 100%|██████████| 64/64 [00:25<00:00,  2.53it/s]\n",
            "Epoch: 260/1000, loss=0.02206367254257202: 100%|██████████| 64/64 [00:25<00:00,  2.53it/s]\n"
          ]
        },
        {
          "metadata": {
            "tags": null
          },
          "name": "stdout",
          "output_type": "stream",
          "text": [
            "Evaluate model on testset. Total loss: 0.8997204303741455, Average loss: 0.0008908123073011341\n"
          ]
        },
        {
          "metadata": {
            "tags": null
          },
          "name": "stderr",
          "output_type": "stream",
          "text": [
            "Epoch: 261/1000, loss=0.023341834545135498: 100%|██████████| 64/64 [00:25<00:00,  2.53it/s]\n",
            "Epoch: 262/1000, loss=0.025233983993530273: 100%|██████████| 64/64 [00:25<00:00,  2.53it/s]\n",
            "Epoch: 263/1000, loss=0.026572465896606445: 100%|██████████| 64/64 [00:25<00:00,  2.53it/s]\n",
            "Epoch: 264/1000, loss=0.02287888526916504: 100%|██████████| 64/64 [00:25<00:00,  2.53it/s]\n",
            "Epoch: 265/1000, loss=0.023913145065307617: 100%|██████████| 64/64 [00:25<00:00,  2.53it/s]\n",
            "Epoch: 266/1000, loss=0.023888826370239258: 100%|██████████| 64/64 [00:25<00:00,  2.53it/s]\n",
            "Epoch: 267/1000, loss=0.0239982008934021: 100%|██████████| 64/64 [00:25<00:00,  2.53it/s]\n",
            "Epoch: 268/1000, loss=0.02456843852996826: 100%|██████████| 64/64 [00:25<00:00,  2.53it/s]\n",
            "Epoch: 269/1000, loss=0.022407233715057373: 100%|██████████| 64/64 [00:25<00:00,  2.53it/s]\n",
            "Epoch: 270/1000, loss=0.025764286518096924: 100%|██████████| 64/64 [00:25<00:00,  2.53it/s]\n"
          ]
        },
        {
          "metadata": {
            "tags": null
          },
          "name": "stdout",
          "output_type": "stream",
          "text": [
            "Evaluate model on testset. Total loss: 0.9178683161735535, Average loss: 0.0009087805110629243\n"
          ]
        },
        {
          "metadata": {
            "tags": null
          },
          "name": "stderr",
          "output_type": "stream",
          "text": [
            "Epoch: 271/1000, loss=0.02401113510131836: 100%|██████████| 64/64 [00:25<00:00,  2.53it/s]\n",
            "Epoch: 272/1000, loss=0.023064911365509033: 100%|██████████| 64/64 [00:25<00:00,  2.52it/s]\n",
            "Epoch: 273/1000, loss=0.02420598268508911: 100%|██████████| 64/64 [00:25<00:00,  2.53it/s]\n",
            "Epoch: 274/1000, loss=0.02162003517150879: 100%|██████████| 64/64 [00:25<00:00,  2.53it/s]\n",
            "Epoch: 275/1000, loss=0.020106017589569092: 100%|██████████| 64/64 [00:25<00:00,  2.53it/s]\n",
            "Epoch: 276/1000, loss=0.023016631603240967: 100%|██████████| 64/64 [00:25<00:00,  2.53it/s]\n",
            "Epoch: 277/1000, loss=0.021128058433532715: 100%|██████████| 64/64 [00:25<00:00,  2.53it/s]\n",
            "Epoch: 278/1000, loss=0.024094820022583008: 100%|██████████| 64/64 [00:25<00:00,  2.53it/s]\n",
            "Epoch: 279/1000, loss=0.020675182342529297: 100%|██████████| 64/64 [00:25<00:00,  2.53it/s]\n",
            "Epoch: 280/1000, loss=0.023672878742218018: 100%|██████████| 64/64 [00:25<00:00,  2.53it/s]\n"
          ]
        },
        {
          "metadata": {
            "tags": null
          },
          "name": "stdout",
          "output_type": "stream",
          "text": [
            "Evaluate model on testset. Total loss: 0.9517509341239929, Average loss: 0.0009423276575485078\n"
          ]
        },
        {
          "metadata": {
            "tags": null
          },
          "name": "stderr",
          "output_type": "stream",
          "text": [
            "Epoch: 281/1000, loss=0.022052645683288574: 100%|██████████| 64/64 [00:25<00:00,  2.53it/s]\n",
            "Epoch: 282/1000, loss=0.02267289161682129: 100%|██████████| 64/64 [00:25<00:00,  2.53it/s]\n",
            "Epoch: 283/1000, loss=0.020970702171325684: 100%|██████████| 64/64 [00:25<00:00,  2.53it/s]\n",
            "Epoch: 284/1000, loss=0.030864357948303223: 100%|██████████| 64/64 [00:25<00:00,  2.52it/s]\n",
            "Epoch: 285/1000, loss=0.022368788719177246: 100%|██████████| 64/64 [00:25<00:00,  2.53it/s]\n",
            "Epoch: 286/1000, loss=0.028876423835754395: 100%|██████████| 64/64 [00:25<00:00,  2.53it/s]\n",
            "Epoch: 287/1000, loss=0.025014281272888184: 100%|██████████| 64/64 [00:25<00:00,  2.53it/s]\n",
            "Epoch: 288/1000, loss=0.023350834846496582: 100%|██████████| 64/64 [00:25<00:00,  2.53it/s]\n",
            "Epoch: 289/1000, loss=0.02226918935775757: 100%|██████████| 64/64 [00:25<00:00,  2.53it/s]\n",
            "Epoch: 290/1000, loss=0.020675182342529297: 100%|██████████| 64/64 [00:25<00:00,  2.53it/s]\n"
          ]
        },
        {
          "metadata": {
            "tags": null
          },
          "name": "stdout",
          "output_type": "stream",
          "text": [
            "Evaluate model on testset. Total loss: 0.8880704641342163, Average loss: 0.0008792776872616003\n"
          ]
        },
        {
          "metadata": {
            "tags": null
          },
          "name": "stderr",
          "output_type": "stream",
          "text": [
            "Epoch: 291/1000, loss=0.022412240505218506: 100%|██████████| 64/64 [00:25<00:00,  2.53it/s]\n",
            "Epoch: 292/1000, loss=0.02246159315109253: 100%|██████████| 64/64 [00:25<00:00,  2.53it/s]\n",
            "Epoch: 293/1000, loss=0.021479010581970215: 100%|██████████| 64/64 [00:25<00:00,  2.53it/s]\n",
            "Epoch: 294/1000, loss=0.021127820014953613: 100%|██████████| 64/64 [00:25<00:00,  2.53it/s]\n",
            "Epoch: 295/1000, loss=0.023065686225891113: 100%|██████████| 64/64 [00:25<00:00,  2.52it/s]\n",
            "Epoch: 296/1000, loss=0.02258014678955078: 100%|██████████| 64/64 [00:25<00:00,  2.53it/s]\n",
            "Epoch: 297/1000, loss=0.023544132709503174: 100%|██████████| 64/64 [00:25<00:00,  2.53it/s]\n",
            "Epoch: 298/1000, loss=0.023228049278259277: 100%|██████████| 64/64 [00:25<00:00,  2.53it/s]\n",
            "Epoch: 299/1000, loss=0.022493064403533936: 100%|██████████| 64/64 [00:25<00:00,  2.53it/s]\n",
            "Epoch: 300/1000, loss=0.02237069606781006: 100%|██████████| 64/64 [00:25<00:00,  2.53it/s]\n"
          ]
        },
        {
          "metadata": {
            "tags": null
          },
          "name": "stdout",
          "output_type": "stream",
          "text": [
            "Evaluate model on testset. Total loss: 1.4207874536514282, Average loss: 0.001406720251140028\n"
          ]
        },
        {
          "metadata": {
            "tags": null
          },
          "name": "stderr",
          "output_type": "stream",
          "text": [
            "Epoch: 301/1000, loss=0.02029561996459961: 100%|██████████| 64/64 [00:25<00:00,  2.53it/s]\n",
            "Epoch: 302/1000, loss=0.020360112190246582: 100%|██████████| 64/64 [00:25<00:00,  2.53it/s]\n",
            "Epoch: 303/1000, loss=0.024398982524871826: 100%|██████████| 64/64 [00:25<00:00,  2.53it/s]\n",
            "Epoch: 304/1000, loss=0.021389484405517578: 100%|██████████| 64/64 [00:25<00:00,  2.52it/s]\n",
            "Epoch: 305/1000, loss=0.018640518188476562: 100%|██████████| 64/64 [00:25<00:00,  2.53it/s]\n",
            "Epoch: 306/1000, loss=0.02176964282989502: 100%|██████████| 64/64 [00:25<00:00,  2.53it/s]\n",
            "Epoch: 307/1000, loss=0.021588802337646484: 100%|██████████| 64/64 [00:25<00:00,  2.53it/s]\n",
            "Epoch: 308/1000, loss=0.019527137279510498: 100%|██████████| 64/64 [00:25<00:00,  2.53it/s]\n",
            "Epoch: 309/1000, loss=0.02033543586730957: 100%|██████████| 64/64 [00:25<00:00,  2.53it/s]\n",
            "Epoch: 310/1000, loss=0.022670865058898926: 100%|██████████| 64/64 [00:25<00:00,  2.53it/s]\n"
          ]
        },
        {
          "metadata": {
            "tags": null
          },
          "name": "stdout",
          "output_type": "stream",
          "text": [
            "Evaluate model on testset. Total loss: 0.8806588649749756, Average loss: 0.0008719394702722531\n"
          ]
        },
        {
          "metadata": {
            "tags": null
          },
          "name": "stderr",
          "output_type": "stream",
          "text": [
            "Epoch: 311/1000, loss=0.022730648517608643: 100%|██████████| 64/64 [00:25<00:00,  2.53it/s]\n",
            "Epoch: 312/1000, loss=0.019511044025421143: 100%|██████████| 64/64 [00:25<00:00,  2.53it/s]\n",
            "Epoch: 313/1000, loss=0.022064626216888428: 100%|██████████| 64/64 [00:25<00:00,  2.53it/s]\n",
            "Epoch: 314/1000, loss=0.021760225296020508: 100%|██████████| 64/64 [00:25<00:00,  2.53it/s]\n",
            "Epoch: 315/1000, loss=0.024486780166625977: 100%|██████████| 64/64 [00:25<00:00,  2.53it/s]\n",
            "Epoch: 316/1000, loss=0.020741581916809082: 100%|██████████| 64/64 [00:25<00:00,  2.52it/s]\n",
            "Epoch: 317/1000, loss=0.020935475826263428: 100%|██████████| 64/64 [00:25<00:00,  2.53it/s]\n",
            "Epoch: 318/1000, loss=0.021100163459777832: 100%|██████████| 64/64 [00:25<00:00,  2.53it/s]\n",
            "Epoch: 319/1000, loss=0.02593320608139038: 100%|██████████| 64/64 [00:25<00:00,  2.53it/s]\n",
            "Epoch: 320/1000, loss=0.02411121129989624: 100%|██████████| 64/64 [00:25<00:00,  2.53it/s]\n"
          ]
        },
        {
          "metadata": {
            "tags": null
          },
          "name": "stdout",
          "output_type": "stream",
          "text": [
            "Evaluate model on testset. Total loss: 0.957504391670227, Average loss: 0.0009480241501685417\n"
          ]
        },
        {
          "metadata": {
            "tags": null
          },
          "name": "stderr",
          "output_type": "stream",
          "text": [
            "Epoch: 321/1000, loss=0.02355945110321045: 100%|██████████| 64/64 [00:25<00:00,  2.53it/s]\n",
            "Epoch: 322/1000, loss=0.023029446601867676: 100%|██████████| 64/64 [00:25<00:00,  2.53it/s]\n",
            "Epoch: 323/1000, loss=0.019063353538513184: 100%|██████████| 64/64 [00:25<00:00,  2.53it/s]\n",
            "Epoch: 324/1000, loss=0.021551907062530518: 100%|██████████| 64/64 [00:25<00:00,  2.52it/s]\n",
            "Epoch: 325/1000, loss=0.024431467056274414: 100%|██████████| 64/64 [00:25<00:00,  2.53it/s]\n",
            "Epoch: 326/1000, loss=0.020495891571044922: 100%|██████████| 64/64 [00:25<00:00,  2.53it/s]\n",
            "Epoch: 327/1000, loss=0.021100163459777832: 100%|██████████| 64/64 [00:25<00:00,  2.53it/s]\n",
            "Epoch: 328/1000, loss=0.02268117666244507: 100%|██████████| 64/64 [00:25<00:00,  2.53it/s]\n",
            "Epoch: 329/1000, loss=0.022407352924346924: 100%|██████████| 64/64 [00:25<00:00,  2.53it/s]\n",
            "Epoch: 330/1000, loss=0.02482318878173828: 100%|██████████| 64/64 [00:25<00:00,  2.53it/s]\n"
          ]
        },
        {
          "metadata": {
            "tags": null
          },
          "name": "stdout",
          "output_type": "stream",
          "text": [
            "Evaluate model on testset. Total loss: 0.8887303471565247, Average loss: 0.0008799310367886382\n"
          ]
        },
        {
          "metadata": {
            "tags": null
          },
          "name": "stderr",
          "output_type": "stream",
          "text": [
            "Epoch: 331/1000, loss=0.021049857139587402: 100%|██████████| 64/64 [00:25<00:00,  2.53it/s]\n",
            "Epoch: 332/1000, loss=0.0235021710395813: 100%|██████████| 64/64 [00:25<00:00,  2.53it/s]\n",
            "Epoch: 333/1000, loss=0.022247791290283203: 100%|██████████| 64/64 [00:25<00:00,  2.53it/s]\n",
            "Epoch: 334/1000, loss=0.023591279983520508: 100%|██████████| 64/64 [00:25<00:00,  2.53it/s]\n",
            "Epoch: 335/1000, loss=0.02201676368713379: 100%|██████████| 64/64 [00:25<00:00,  2.53it/s]\n",
            "Epoch: 336/1000, loss=0.022718071937561035: 100%|██████████| 64/64 [00:25<00:00,  2.53it/s]\n",
            "Epoch: 337/1000, loss=0.02384018898010254: 100%|██████████| 64/64 [00:25<00:00,  2.53it/s]\n",
            "Epoch: 338/1000, loss=0.01964116096496582: 100%|██████████| 64/64 [00:25<00:00,  2.53it/s]\n",
            "Epoch: 339/1000, loss=0.020685553550720215: 100%|██████████| 64/64 [00:25<00:00,  2.53it/s]\n",
            "Epoch: 340/1000, loss=0.019206464290618896: 100%|██████████| 64/64 [00:25<00:00,  2.53it/s]\n"
          ]
        },
        {
          "metadata": {
            "tags": null
          },
          "name": "stdout",
          "output_type": "stream",
          "text": [
            "Evaluate model on testset. Total loss: 0.8727726340293884, Average loss: 0.0008641313208211767\n"
          ]
        },
        {
          "metadata": {
            "tags": null
          },
          "name": "stderr",
          "output_type": "stream",
          "text": [
            "Epoch: 341/1000, loss=0.02218693494796753: 100%|██████████| 64/64 [00:25<00:00,  2.53it/s]\n",
            "Epoch: 342/1000, loss=0.01788550615310669: 100%|██████████| 64/64 [00:25<00:00,  2.53it/s]\n",
            "Epoch: 343/1000, loss=0.01846623420715332: 100%|██████████| 64/64 [00:25<00:00,  2.53it/s]\n",
            "Epoch: 344/1000, loss=0.0212862491607666: 100%|██████████| 64/64 [00:25<00:00,  2.53it/s]\n",
            "Epoch: 345/1000, loss=0.020141541957855225: 100%|██████████| 64/64 [00:25<00:00,  2.53it/s]\n",
            "Epoch: 346/1000, loss=0.02008366584777832: 100%|██████████| 64/64 [00:25<00:00,  2.53it/s]\n",
            "Epoch: 347/1000, loss=0.022045791149139404: 100%|██████████| 64/64 [00:25<00:00,  2.53it/s]\n",
            "Epoch: 348/1000, loss=0.022976338863372803: 100%|██████████| 64/64 [00:25<00:00,  2.53it/s]\n",
            "Epoch: 349/1000, loss=0.02373027801513672: 100%|██████████| 64/64 [00:25<00:00,  2.53it/s]\n",
            "Epoch: 350/1000, loss=0.022650837898254395: 100%|██████████| 64/64 [00:25<00:00,  2.53it/s]\n"
          ]
        },
        {
          "metadata": {
            "tags": null
          },
          "name": "stdout",
          "output_type": "stream",
          "text": [
            "Evaluate model on testset. Total loss: 0.9619007110595703, Average loss: 0.0009523769416431389\n"
          ]
        },
        {
          "metadata": {
            "tags": null
          },
          "name": "stderr",
          "output_type": "stream",
          "text": [
            "Epoch: 351/1000, loss=0.02082151174545288: 100%|██████████| 64/64 [00:25<00:00,  2.53it/s]\n",
            "Epoch: 352/1000, loss=0.019331693649291992: 100%|██████████| 64/64 [00:25<00:00,  2.53it/s]\n",
            "Epoch: 353/1000, loss=0.018174409866333008: 100%|██████████| 64/64 [00:25<00:00,  2.53it/s]\n",
            "Epoch: 354/1000, loss=0.019763708114624023: 100%|██████████| 64/64 [00:25<00:00,  2.53it/s]\n",
            "Epoch: 355/1000, loss=0.019438207149505615: 100%|██████████| 64/64 [00:25<00:00,  2.53it/s]\n",
            "Epoch: 356/1000, loss=0.021198511123657227: 100%|██████████| 64/64 [00:25<00:00,  2.53it/s]\n",
            "Epoch: 357/1000, loss=0.02050960063934326: 100%|██████████| 64/64 [00:25<00:00,  2.53it/s]\n",
            "Epoch: 358/1000, loss=0.021460235118865967: 100%|██████████| 64/64 [00:25<00:00,  2.53it/s]\n",
            "Epoch: 359/1000, loss=0.023328721523284912: 100%|██████████| 64/64 [00:25<00:00,  2.53it/s]\n",
            "Epoch: 360/1000, loss=0.027383804321289062: 100%|██████████| 64/64 [00:25<00:00,  2.53it/s]\n"
          ]
        },
        {
          "metadata": {
            "tags": null
          },
          "name": "stdout",
          "output_type": "stream",
          "text": [
            "Evaluate model on testset. Total loss: 0.9012437462806702, Average loss: 0.0008923205408719507\n"
          ]
        },
        {
          "metadata": {
            "tags": null
          },
          "name": "stderr",
          "output_type": "stream",
          "text": [
            "Epoch: 361/1000, loss=0.021359264850616455: 100%|██████████| 64/64 [00:25<00:00,  2.53it/s]\n",
            "Epoch: 362/1000, loss=0.020593345165252686: 100%|██████████| 64/64 [00:25<00:00,  2.53it/s]\n",
            "Epoch: 363/1000, loss=0.019339442253112793: 100%|██████████| 64/64 [00:25<00:00,  2.53it/s]\n",
            "Epoch: 364/1000, loss=0.026662766933441162: 100%|██████████| 64/64 [00:25<00:00,  2.53it/s]\n",
            "Epoch: 365/1000, loss=0.024838626384735107: 100%|██████████| 64/64 [00:25<00:00,  2.53it/s]\n",
            "Epoch: 366/1000, loss=0.022038936614990234: 100%|██████████| 64/64 [00:25<00:00,  2.53it/s]\n",
            "Epoch: 367/1000, loss=0.019699692726135254: 100%|██████████| 64/64 [00:25<00:00,  2.53it/s]\n",
            "Epoch: 368/1000, loss=0.023653924465179443: 100%|██████████| 64/64 [00:25<00:00,  2.53it/s]\n",
            "Epoch: 369/1000, loss=0.01994776725769043: 100%|██████████| 64/64 [00:25<00:00,  2.53it/s]\n",
            "Epoch: 370/1000, loss=0.022928595542907715: 100%|██████████| 64/64 [00:25<00:00,  2.53it/s]\n"
          ]
        },
        {
          "metadata": {
            "tags": null
          },
          "name": "stdout",
          "output_type": "stream",
          "text": [
            "Evaluate model on testset. Total loss: 0.8733198046684265, Average loss: 0.0008646730739291352\n"
          ]
        },
        {
          "metadata": {
            "tags": null
          },
          "name": "stderr",
          "output_type": "stream",
          "text": [
            "Epoch: 371/1000, loss=0.023158013820648193: 100%|██████████| 64/64 [00:25<00:00,  2.53it/s]\n",
            "Epoch: 372/1000, loss=0.02873539924621582: 100%|██████████| 64/64 [00:25<00:00,  2.53it/s]\n",
            "Epoch: 373/1000, loss=0.02390921115875244: 100%|██████████| 64/64 [00:25<00:00,  2.53it/s]\n",
            "Epoch: 374/1000, loss=0.02432262897491455: 100%|██████████| 64/64 [00:25<00:00,  2.53it/s]\n",
            "Epoch: 375/1000, loss=0.019741535186767578: 100%|██████████| 64/64 [00:25<00:00,  2.53it/s]\n",
            "Epoch: 376/1000, loss=0.020674943923950195: 100%|██████████| 64/64 [00:25<00:00,  2.52it/s]\n",
            "Epoch: 377/1000, loss=0.019209861755371094: 100%|██████████| 64/64 [00:25<00:00,  2.53it/s]\n",
            "Epoch: 378/1000, loss=0.019915282726287842: 100%|██████████| 64/64 [00:25<00:00,  2.53it/s]\n",
            "Epoch: 379/1000, loss=0.01897221803665161: 100%|██████████| 64/64 [00:25<00:00,  2.52it/s]\n",
            "Epoch: 380/1000, loss=0.01867997646331787: 100%|██████████| 64/64 [00:25<00:00,  2.53it/s]\n"
          ]
        },
        {
          "metadata": {
            "tags": null
          },
          "name": "stdout",
          "output_type": "stream",
          "text": [
            "Evaluate model on testset. Total loss: 1.0305602550506592, Average loss: 0.0010203566881689695\n"
          ]
        },
        {
          "metadata": {
            "tags": null
          },
          "name": "stderr",
          "output_type": "stream",
          "text": [
            "Epoch: 381/1000, loss=0.019360840320587158: 100%|██████████| 64/64 [00:25<00:00,  2.53it/s]\n",
            "Epoch: 382/1000, loss=0.01923954486846924: 100%|██████████| 64/64 [00:25<00:00,  2.53it/s]\n",
            "Epoch: 383/1000, loss=0.02016294002532959: 100%|██████████| 64/64 [00:25<00:00,  2.53it/s]\n",
            "Epoch: 384/1000, loss=0.020652055740356445: 100%|██████████| 64/64 [00:25<00:00,  2.53it/s]\n",
            "Epoch: 385/1000, loss=0.01977485418319702: 100%|██████████| 64/64 [00:25<00:00,  2.53it/s]\n",
            "Epoch: 386/1000, loss=0.020085036754608154: 100%|██████████| 64/64 [00:25<00:00,  2.53it/s]\n",
            "Epoch: 387/1000, loss=0.01982724666595459: 100%|██████████| 64/64 [00:25<00:00,  2.53it/s]\n",
            "Epoch: 388/1000, loss=0.020510196685791016: 100%|██████████| 64/64 [00:25<00:00,  2.53it/s]\n",
            "Epoch: 389/1000, loss=0.02279984951019287: 100%|██████████| 64/64 [00:25<00:00,  2.53it/s]\n",
            "Epoch: 390/1000, loss=0.019920289516448975: 100%|██████████| 64/64 [00:25<00:00,  2.53it/s]\n"
          ]
        },
        {
          "metadata": {
            "tags": null
          },
          "name": "stdout",
          "output_type": "stream",
          "text": [
            "Evaluate model on testset. Total loss: 1.2484317421913147, Average loss: 0.0012360710318725888\n"
          ]
        },
        {
          "metadata": {
            "tags": null
          },
          "name": "stderr",
          "output_type": "stream",
          "text": [
            "Epoch: 391/1000, loss=0.019795656204223633: 100%|██████████| 64/64 [00:25<00:00,  2.53it/s]\n",
            "Epoch: 392/1000, loss=0.022229909896850586: 100%|██████████| 64/64 [00:25<00:00,  2.53it/s]\n",
            "Epoch: 393/1000, loss=0.018609166145324707: 100%|██████████| 64/64 [00:25<00:00,  2.53it/s]\n",
            "Epoch: 394/1000, loss=0.021822333335876465: 100%|██████████| 64/64 [00:25<00:00,  2.53it/s]\n",
            "Epoch: 395/1000, loss=0.0228043794631958: 100%|██████████| 64/64 [00:25<00:00,  2.53it/s]\n",
            "Epoch: 396/1000, loss=0.019627273082733154: 100%|██████████| 64/64 [00:25<00:00,  2.53it/s]\n",
            "Epoch: 397/1000, loss=0.018851935863494873: 100%|██████████| 64/64 [00:25<00:00,  2.53it/s]\n",
            "Epoch: 398/1000, loss=0.020870327949523926: 100%|██████████| 64/64 [00:25<00:00,  2.53it/s]\n",
            "Epoch: 399/1000, loss=0.020861327648162842: 100%|██████████| 64/64 [00:25<00:00,  2.53it/s]\n",
            "Epoch: 400/1000, loss=0.019701600074768066: 100%|██████████| 64/64 [00:25<00:00,  2.52it/s]\n"
          ]
        },
        {
          "metadata": {
            "tags": null
          },
          "name": "stdout",
          "output_type": "stream",
          "text": [
            "Evaluate model on testset. Total loss: 0.8516278266906738, Average loss: 0.0008431958680105682\n"
          ]
        },
        {
          "metadata": {
            "tags": null
          },
          "name": "stderr",
          "output_type": "stream",
          "text": [
            "Epoch: 401/1000, loss=0.01749628782272339: 100%|██████████| 64/64 [00:25<00:00,  2.53it/s]\n",
            "Epoch: 402/1000, loss=0.019762158393859863: 100%|██████████| 64/64 [00:25<00:00,  2.53it/s]\n",
            "Epoch: 403/1000, loss=0.01945286989212036: 100%|██████████| 64/64 [00:25<00:00,  2.53it/s]\n",
            "Epoch: 404/1000, loss=0.01892787218093872: 100%|██████████| 64/64 [00:25<00:00,  2.53it/s]\n",
            "Epoch: 405/1000, loss=0.017213523387908936: 100%|██████████| 64/64 [00:25<00:00,  2.53it/s]\n",
            "Epoch: 406/1000, loss=0.01948380470275879: 100%|██████████| 64/64 [00:25<00:00,  2.52it/s]\n",
            "Epoch: 407/1000, loss=0.018785834312438965: 100%|██████████| 64/64 [00:25<00:00,  2.52it/s]\n",
            "Epoch: 408/1000, loss=0.01778244972229004: 100%|██████████| 64/64 [00:25<00:00,  2.52it/s]\n",
            "Epoch: 409/1000, loss=0.01904362440109253: 100%|██████████| 64/64 [00:25<00:00,  2.53it/s]\n",
            "Epoch: 410/1000, loss=0.018934190273284912: 100%|██████████| 64/64 [00:25<00:00,  2.53it/s]\n"
          ]
        },
        {
          "metadata": {
            "tags": null
          },
          "name": "stdout",
          "output_type": "stream",
          "text": [
            "Evaluate model on testset. Total loss: 1.1723085641860962, Average loss: 0.0011607015486991051\n"
          ]
        },
        {
          "metadata": {
            "tags": null
          },
          "name": "stderr",
          "output_type": "stream",
          "text": [
            "Epoch: 411/1000, loss=0.021217942237854004: 100%|██████████| 64/64 [00:25<00:00,  2.53it/s]\n",
            "Epoch: 412/1000, loss=0.02187246084213257: 100%|██████████| 64/64 [00:25<00:00,  2.52it/s]\n",
            "Epoch: 413/1000, loss=0.02254277467727661: 100%|██████████| 64/64 [00:25<00:00,  2.52it/s]\n",
            "Epoch: 414/1000, loss=0.01865208148956299: 100%|██████████| 64/64 [00:25<00:00,  2.53it/s]\n",
            "Epoch: 415/1000, loss=0.0219271183013916: 100%|██████████| 64/64 [00:25<00:00,  2.53it/s]\n",
            "Epoch: 416/1000, loss=0.01859462261199951: 100%|██████████| 64/64 [00:25<00:00,  2.53it/s]\n",
            "Epoch: 417/1000, loss=0.021355509757995605: 100%|██████████| 64/64 [00:25<00:00,  2.52it/s]\n",
            "Epoch: 418/1000, loss=0.02522134780883789: 100%|██████████| 64/64 [00:25<00:00,  2.52it/s]\n",
            "Epoch: 419/1000, loss=0.020313560962677002: 100%|██████████| 64/64 [00:25<00:00,  2.52it/s]\n",
            "Epoch: 420/1000, loss=0.02029132843017578: 100%|██████████| 64/64 [00:25<00:00,  2.53it/s]\n"
          ]
        },
        {
          "metadata": {
            "tags": null
          },
          "name": "stdout",
          "output_type": "stream",
          "text": [
            "Evaluate model on testset. Total loss: 0.9785760045051575, Average loss: 0.0009688871331734232\n"
          ]
        },
        {
          "metadata": {
            "tags": null
          },
          "name": "stderr",
          "output_type": "stream",
          "text": [
            "Epoch: 421/1000, loss=0.018585622310638428: 100%|██████████| 64/64 [00:25<00:00,  2.53it/s]\n",
            "Epoch: 422/1000, loss=0.020690441131591797: 100%|██████████| 64/64 [00:25<00:00,  2.53it/s]\n",
            "Epoch: 423/1000, loss=0.023419320583343506: 100%|██████████| 64/64 [00:25<00:00,  2.53it/s]\n",
            "Epoch: 424/1000, loss=0.020439565181732178: 100%|██████████| 64/64 [00:25<00:00,  2.53it/s]\n",
            "Epoch: 425/1000, loss=0.020951032638549805: 100%|██████████| 64/64 [00:25<00:00,  2.53it/s]\n",
            "Epoch: 426/1000, loss=0.019350528717041016: 100%|██████████| 64/64 [00:25<00:00,  2.53it/s]\n",
            "Epoch: 427/1000, loss=0.019491612911224365: 100%|██████████| 64/64 [00:25<00:00,  2.53it/s]\n",
            "Epoch: 428/1000, loss=0.02092444896697998: 100%|██████████| 64/64 [00:25<00:00,  2.53it/s]\n",
            "Epoch: 429/1000, loss=0.020075500011444092: 100%|██████████| 64/64 [00:25<00:00,  2.53it/s]\n",
            "Epoch: 430/1000, loss=0.019256770610809326: 100%|██████████| 64/64 [00:25<00:00,  2.53it/s]\n"
          ]
        },
        {
          "metadata": {
            "tags": null
          },
          "name": "stdout",
          "output_type": "stream",
          "text": [
            "Evaluate model on testset. Total loss: 0.8825846910476685, Average loss: 0.0008738462287600678\n"
          ]
        },
        {
          "metadata": {
            "tags": null
          },
          "name": "stderr",
          "output_type": "stream",
          "text": [
            "Epoch: 431/1000, loss=0.022095084190368652: 100%|██████████| 64/64 [00:25<00:00,  2.52it/s]\n",
            "Epoch: 432/1000, loss=0.021532177925109863: 100%|██████████| 64/64 [00:25<00:00,  2.53it/s]\n",
            "Epoch: 433/1000, loss=0.017829060554504395: 100%|██████████| 64/64 [00:25<00:00,  2.52it/s]\n",
            "Epoch: 434/1000, loss=0.018724381923675537: 100%|██████████| 64/64 [00:25<00:00,  2.53it/s]\n",
            "Epoch: 435/1000, loss=0.02253901958465576: 100%|██████████| 64/64 [00:25<00:00,  2.53it/s]\n",
            "Epoch: 436/1000, loss=0.022286534309387207: 100%|██████████| 64/64 [00:25<00:00,  2.53it/s]\n",
            "Epoch: 437/1000, loss=0.022998511791229248: 100%|██████████| 64/64 [00:25<00:00,  2.52it/s]\n",
            "Epoch: 438/1000, loss=0.016393542289733887: 100%|██████████| 64/64 [00:25<00:00,  2.52it/s]\n",
            "Epoch: 439/1000, loss=0.018314063549041748: 100%|██████████| 64/64 [00:25<00:00,  2.53it/s]\n",
            "Epoch: 440/1000, loss=0.02130967378616333: 100%|██████████| 64/64 [00:25<00:00,  2.53it/s]\n"
          ]
        },
        {
          "metadata": {
            "tags": null
          },
          "name": "stdout",
          "output_type": "stream",
          "text": [
            "Evaluate model on testset. Total loss: 1.2078248858451843, Average loss: 0.0011958662236090933\n"
          ]
        },
        {
          "metadata": {
            "tags": null
          },
          "name": "stderr",
          "output_type": "stream",
          "text": [
            "Epoch: 441/1000, loss=0.019655048847198486: 100%|██████████| 64/64 [00:25<00:00,  2.53it/s]\n",
            "Epoch: 442/1000, loss=0.019431352615356445: 100%|██████████| 64/64 [00:25<00:00,  2.52it/s]\n",
            "Epoch: 443/1000, loss=0.0188407301902771: 100%|██████████| 64/64 [00:25<00:00,  2.53it/s]\n",
            "Epoch: 444/1000, loss=0.02017223834991455: 100%|██████████| 64/64 [00:25<00:00,  2.53it/s]\n",
            "Epoch: 445/1000, loss=0.018438100814819336: 100%|██████████| 64/64 [00:25<00:00,  2.52it/s]\n",
            "Epoch: 446/1000, loss=0.0192720890045166: 100%|██████████| 64/64 [00:25<00:00,  2.52it/s]\n",
            "Epoch: 447/1000, loss=0.016712486743927002: 100%|██████████| 64/64 [00:25<00:00,  2.52it/s]\n",
            "Epoch: 448/1000, loss=0.018906116485595703: 100%|██████████| 64/64 [00:25<00:00,  2.53it/s]\n",
            "Epoch: 449/1000, loss=0.0187799334526062: 100%|██████████| 64/64 [00:25<00:00,  2.53it/s]\n",
            "Epoch: 450/1000, loss=0.018977642059326172: 100%|██████████| 64/64 [00:25<00:00,  2.53it/s]\n"
          ]
        },
        {
          "metadata": {
            "tags": null
          },
          "name": "stdout",
          "output_type": "stream",
          "text": [
            "Evaluate model on testset. Total loss: 0.8504562377929688, Average loss: 0.0008420358790029393\n"
          ]
        },
        {
          "metadata": {
            "tags": null
          },
          "name": "stderr",
          "output_type": "stream",
          "text": [
            "Epoch: 451/1000, loss=0.017830371856689453: 100%|██████████| 64/64 [00:25<00:00,  2.53it/s]\n",
            "Epoch: 452/1000, loss=0.01886451244354248: 100%|██████████| 64/64 [00:25<00:00,  2.53it/s]\n",
            "Epoch: 453/1000, loss=0.019747018814086914: 100%|██████████| 64/64 [00:25<00:00,  2.53it/s]\n",
            "Epoch: 454/1000, loss=0.02078413963317871: 100%|██████████| 64/64 [00:25<00:00,  2.53it/s]\n",
            "Epoch: 455/1000, loss=0.021634817123413086: 100%|██████████| 64/64 [00:25<00:00,  2.52it/s]\n",
            "Epoch: 456/1000, loss=0.017151355743408203: 100%|██████████| 64/64 [00:25<00:00,  2.53it/s]\n",
            "Epoch: 457/1000, loss=0.016991853713989258: 100%|██████████| 64/64 [00:25<00:00,  2.52it/s]\n",
            "Epoch: 458/1000, loss=0.017281293869018555: 100%|██████████| 64/64 [00:25<00:00,  2.53it/s]\n",
            "Epoch: 459/1000, loss=0.018119513988494873: 100%|██████████| 64/64 [00:25<00:00,  2.52it/s]\n",
            "Epoch: 460/1000, loss=0.017686009407043457: 100%|██████████| 64/64 [00:25<00:00,  2.53it/s]\n"
          ]
        },
        {
          "metadata": {
            "tags": null
          },
          "name": "stdout",
          "output_type": "stream",
          "text": [
            "Evaluate model on testset. Total loss: 1.3358722925186157, Average loss: 0.0013226458341768473\n"
          ]
        },
        {
          "metadata": {
            "tags": null
          },
          "name": "stderr",
          "output_type": "stream",
          "text": [
            "Epoch: 461/1000, loss=0.018064677715301514: 100%|██████████| 64/64 [00:25<00:00,  2.53it/s]\n",
            "Epoch: 462/1000, loss=0.01898336410522461: 100%|██████████| 64/64 [00:25<00:00,  2.53it/s]\n",
            "Epoch: 463/1000, loss=0.020140469074249268: 100%|██████████| 64/64 [00:25<00:00,  2.53it/s]\n",
            "Epoch: 464/1000, loss=0.02027750015258789: 100%|██████████| 64/64 [00:25<00:00,  2.52it/s]\n",
            "Epoch: 465/1000, loss=0.01807957887649536: 100%|██████████| 64/64 [00:25<00:00,  2.53it/s]\n",
            "Epoch: 466/1000, loss=0.018712878227233887: 100%|██████████| 64/64 [00:25<00:00,  2.52it/s]\n",
            "Epoch: 467/1000, loss=0.017374694347381592: 100%|██████████| 64/64 [00:25<00:00,  2.52it/s]\n",
            "Epoch: 468/1000, loss=0.01755666732788086: 100%|██████████| 64/64 [00:25<00:00,  2.53it/s]\n",
            "Epoch: 469/1000, loss=0.017224490642547607: 100%|██████████| 64/64 [00:25<00:00,  2.52it/s]\n",
            "Epoch: 470/1000, loss=0.01877492666244507: 100%|██████████| 64/64 [00:25<00:00,  2.53it/s]\n"
          ]
        },
        {
          "metadata": {
            "tags": null
          },
          "name": "stdout",
          "output_type": "stream",
          "text": [
            "Evaluate model on testset. Total loss: 0.8846184611320496, Average loss: 0.0008758598625069798\n"
          ]
        },
        {
          "metadata": {
            "tags": null
          },
          "name": "stderr",
          "output_type": "stream",
          "text": [
            "Epoch: 471/1000, loss=0.01721024513244629: 100%|██████████| 64/64 [00:25<00:00,  2.53it/s]\n",
            "Epoch: 472/1000, loss=0.01951146125793457: 100%|██████████| 64/64 [00:25<00:00,  2.53it/s]\n",
            "Epoch: 473/1000, loss=0.01724797487258911: 100%|██████████| 64/64 [00:25<00:00,  2.53it/s]\n",
            "Epoch: 474/1000, loss=0.019364118576049805: 100%|██████████| 64/64 [00:25<00:00,  2.53it/s]\n",
            "Epoch: 475/1000, loss=0.018051326274871826: 100%|██████████| 64/64 [00:25<00:00,  2.52it/s]\n",
            "Epoch: 476/1000, loss=0.021202921867370605: 100%|██████████| 64/64 [00:25<00:00,  2.52it/s]\n",
            "Epoch: 477/1000, loss=0.020033538341522217: 100%|██████████| 64/64 [00:25<00:00,  2.52it/s]\n",
            "Epoch: 478/1000, loss=0.017835557460784912: 100%|██████████| 64/64 [00:25<00:00,  2.53it/s]\n",
            "Epoch: 479/1000, loss=0.01676952838897705: 100%|██████████| 64/64 [00:25<00:00,  2.52it/s]\n",
            "Epoch: 480/1000, loss=0.0179709792137146: 100%|██████████| 64/64 [00:25<00:00,  2.52it/s]\n"
          ]
        },
        {
          "metadata": {
            "tags": null
          },
          "name": "stdout",
          "output_type": "stream",
          "text": [
            "Evaluate model on testset. Total loss: 1.1778174042701721, Average loss: 0.0011661558458120516\n"
          ]
        },
        {
          "metadata": {
            "tags": null
          },
          "name": "stderr",
          "output_type": "stream",
          "text": [
            "Epoch: 481/1000, loss=0.016733407974243164: 100%|██████████| 64/64 [00:25<00:00,  2.53it/s]\n",
            "Epoch: 482/1000, loss=0.016694843769073486: 100%|██████████| 64/64 [00:25<00:00,  2.52it/s]\n",
            "Epoch: 483/1000, loss=0.02014625072479248: 100%|██████████| 64/64 [00:25<00:00,  2.52it/s]\n",
            "Epoch: 484/1000, loss=0.01718038320541382: 100%|██████████| 64/64 [00:25<00:00,  2.52it/s]\n",
            "Epoch: 485/1000, loss=0.017680764198303223: 100%|██████████| 64/64 [00:25<00:00,  2.52it/s]\n",
            "Epoch: 486/1000, loss=0.017681598663330078: 100%|██████████| 64/64 [00:25<00:00,  2.52it/s]\n",
            "Epoch: 487/1000, loss=0.018538832664489746: 100%|██████████| 64/64 [00:25<00:00,  2.52it/s]\n",
            "Epoch: 488/1000, loss=0.018670976161956787: 100%|██████████| 64/64 [00:25<00:00,  2.53it/s]\n",
            "Epoch: 489/1000, loss=0.01663517951965332: 100%|██████████| 64/64 [00:25<00:00,  2.53it/s]\n",
            "Epoch: 490/1000, loss=0.018867015838623047: 100%|██████████| 64/64 [00:25<00:00,  2.53it/s]\n"
          ]
        },
        {
          "metadata": {
            "tags": null
          },
          "name": "stdout",
          "output_type": "stream",
          "text": [
            "Evaluate model on testset. Total loss: 0.8582853078842163, Average loss: 0.000849787433548729\n"
          ]
        },
        {
          "metadata": {
            "tags": null
          },
          "name": "stderr",
          "output_type": "stream",
          "text": [
            "Epoch: 491/1000, loss=0.015617191791534424: 100%|██████████| 64/64 [00:25<00:00,  2.52it/s]\n",
            "Epoch: 492/1000, loss=0.01721668243408203: 100%|██████████| 64/64 [00:25<00:00,  2.52it/s]\n",
            "Epoch: 493/1000, loss=0.015968024730682373: 100%|██████████| 64/64 [00:25<00:00,  2.52it/s]\n",
            "Epoch: 494/1000, loss=0.0177343487739563: 100%|██████████| 64/64 [00:25<00:00,  2.52it/s]\n",
            "Epoch: 495/1000, loss=0.01698136329650879: 100%|██████████| 64/64 [00:25<00:00,  2.53it/s]\n",
            "Epoch: 496/1000, loss=0.018339037895202637: 100%|██████████| 64/64 [00:25<00:00,  2.52it/s]\n",
            "Epoch: 497/1000, loss=0.016773700714111328: 100%|██████████| 64/64 [00:25<00:00,  2.53it/s]\n",
            "Epoch: 498/1000, loss=0.01872265338897705: 100%|██████████| 64/64 [00:25<00:00,  2.52it/s]\n",
            "Epoch: 499/1000, loss=0.015184104442596436: 100%|██████████| 64/64 [00:25<00:00,  2.52it/s]\n",
            "Epoch: 500/1000, loss=0.015635669231414795: 100%|██████████| 64/64 [00:25<00:00,  2.52it/s]\n"
          ]
        },
        {
          "metadata": {
            "tags": null
          },
          "name": "stdout",
          "output_type": "stream",
          "text": [
            "Evaluate model on testset. Total loss: 0.8551074266433716, Average loss: 0.0008466410164785857\n"
          ]
        },
        {
          "metadata": {
            "tags": null
          },
          "name": "stderr",
          "output_type": "stream",
          "text": [
            "Epoch: 501/1000, loss=0.015555620193481445: 100%|██████████| 64/64 [00:25<00:00,  2.52it/s]\n",
            "Epoch: 502/1000, loss=0.01822972297668457: 100%|██████████| 64/64 [00:25<00:00,  2.52it/s]\n",
            "Epoch: 503/1000, loss=0.017943263053894043: 100%|██████████| 64/64 [00:25<00:00,  2.52it/s]\n",
            "Epoch: 504/1000, loss=0.0156286358833313: 100%|██████████| 64/64 [00:25<00:00,  2.52it/s]\n",
            "Epoch: 505/1000, loss=0.01851212978363037: 100%|██████████| 64/64 [00:25<00:00,  2.52it/s]\n",
            "Epoch: 506/1000, loss=0.015062570571899414: 100%|██████████| 64/64 [00:25<00:00,  2.52it/s]\n",
            "Epoch: 507/1000, loss=0.01635289192199707: 100%|██████████| 64/64 [00:25<00:00,  2.52it/s]\n",
            "Epoch: 508/1000, loss=0.017718017101287842: 100%|██████████| 64/64 [00:25<00:00,  2.52it/s]\n",
            "Epoch: 509/1000, loss=0.017437636852264404: 100%|██████████| 64/64 [00:25<00:00,  2.52it/s]\n",
            "Epoch: 510/1000, loss=0.0173606276512146: 100%|██████████| 64/64 [00:25<00:00,  2.52it/s]\n"
          ]
        },
        {
          "metadata": {
            "tags": null
          },
          "name": "stdout",
          "output_type": "stream",
          "text": [
            "Evaluate model on testset. Total loss: 0.8757278919219971, Average loss: 0.0008670573187346506\n"
          ]
        },
        {
          "metadata": {
            "tags": null
          },
          "name": "stderr",
          "output_type": "stream",
          "text": [
            "Epoch: 511/1000, loss=0.018492400646209717: 100%|██████████| 64/64 [00:25<00:00,  2.52it/s]\n",
            "Epoch: 512/1000, loss=0.017773568630218506: 100%|██████████| 64/64 [00:25<00:00,  2.52it/s]\n",
            "Epoch: 513/1000, loss=0.019663214683532715: 100%|██████████| 64/64 [00:25<00:00,  2.52it/s]\n",
            "Epoch: 514/1000, loss=0.018021464347839355: 100%|██████████| 64/64 [00:25<00:00,  2.52it/s]\n",
            "Epoch: 515/1000, loss=0.015812039375305176: 100%|██████████| 64/64 [00:25<00:00,  2.52it/s]\n",
            "Epoch: 516/1000, loss=0.018074750900268555: 100%|██████████| 64/64 [00:25<00:00,  2.52it/s]\n",
            "Epoch: 517/1000, loss=0.02108323574066162: 100%|██████████| 64/64 [00:25<00:00,  2.52it/s]\n",
            "Epoch: 518/1000, loss=0.016977131366729736: 100%|██████████| 64/64 [00:25<00:00,  2.52it/s]\n",
            "Epoch: 519/1000, loss=0.017817020416259766: 100%|██████████| 64/64 [00:25<00:00,  2.52it/s]\n",
            "Epoch: 520/1000, loss=0.01931554079055786: 100%|██████████| 64/64 [00:25<00:00,  2.52it/s]\n"
          ]
        },
        {
          "metadata": {
            "tags": null
          },
          "name": "stdout",
          "output_type": "stream",
          "text": [
            "Evaluate model on testset. Total loss: 1.224928855895996, Average loss: 0.0012128008474217784\n"
          ]
        },
        {
          "metadata": {
            "tags": null
          },
          "name": "stderr",
          "output_type": "stream",
          "text": [
            "Epoch: 521/1000, loss=0.016228318214416504: 100%|██████████| 64/64 [00:25<00:00,  2.52it/s]\n",
            "Epoch: 522/1000, loss=0.01839137077331543: 100%|██████████| 64/64 [00:25<00:00,  2.52it/s]\n",
            "Epoch: 523/1000, loss=0.0159914493560791: 100%|██████████| 64/64 [00:25<00:00,  2.52it/s]\n",
            "Epoch: 524/1000, loss=0.017186284065246582: 100%|██████████| 64/64 [00:25<00:00,  2.52it/s]\n",
            "Epoch: 525/1000, loss=0.018235504627227783: 100%|██████████| 64/64 [00:25<00:00,  2.53it/s]\n",
            "Epoch: 526/1000, loss=0.01840972900390625: 100%|██████████| 64/64 [00:25<00:00,  2.52it/s]\n",
            "Epoch: 527/1000, loss=0.016412019729614258: 100%|██████████| 64/64 [00:25<00:00,  2.53it/s]\n",
            "Epoch: 528/1000, loss=0.018522560596466064: 100%|██████████| 64/64 [00:25<00:00,  2.52it/s]\n",
            "Epoch: 529/1000, loss=0.01969766616821289: 100%|██████████| 64/64 [00:25<00:00,  2.52it/s]\n",
            "Epoch: 530/1000, loss=0.019274413585662842: 100%|██████████| 64/64 [00:25<00:00,  2.53it/s]\n"
          ]
        },
        {
          "metadata": {
            "tags": null
          },
          "name": "stdout",
          "output_type": "stream",
          "text": [
            "Evaluate model on testset. Total loss: 1.1508906483650208, Average loss: 0.0011394956914505157\n"
          ]
        },
        {
          "metadata": {
            "tags": null
          },
          "name": "stderr",
          "output_type": "stream",
          "text": [
            "Epoch: 531/1000, loss=0.019729018211364746: 100%|██████████| 64/64 [00:25<00:00,  2.52it/s]\n",
            "Epoch: 532/1000, loss=0.018172621726989746: 100%|██████████| 64/64 [00:25<00:00,  2.52it/s]\n",
            "Epoch: 533/1000, loss=0.017992019653320312: 100%|██████████| 64/64 [00:25<00:00,  2.52it/s]\n",
            "Epoch: 534/1000, loss=0.017961204051971436: 100%|██████████| 64/64 [00:25<00:00,  2.52it/s]\n",
            "Epoch: 535/1000, loss=0.018573462963104248: 100%|██████████| 64/64 [00:25<00:00,  2.52it/s]\n",
            "Epoch: 536/1000, loss=0.01834815740585327: 100%|██████████| 64/64 [00:25<00:00,  2.52it/s]\n",
            "Epoch: 537/1000, loss=0.018116414546966553: 100%|██████████| 64/64 [00:25<00:00,  2.52it/s]\n",
            "Epoch: 538/1000, loss=0.017966747283935547: 100%|██████████| 64/64 [00:25<00:00,  2.52it/s]\n",
            "Epoch: 539/1000, loss=0.018287479877471924: 100%|██████████| 64/64 [00:25<00:00,  2.52it/s]\n",
            "Epoch: 540/1000, loss=0.01573634147644043: 100%|██████████| 64/64 [00:25<00:00,  2.52it/s]\n"
          ]
        },
        {
          "metadata": {
            "tags": null
          },
          "name": "stdout",
          "output_type": "stream",
          "text": [
            "Evaluate model on testset. Total loss: 1.0126248598098755, Average loss: 0.0010025988710988865\n"
          ]
        },
        {
          "metadata": {
            "tags": null
          },
          "name": "stderr",
          "output_type": "stream",
          "text": [
            "Epoch: 541/1000, loss=0.017784595489501953: 100%|██████████| 64/64 [00:25<00:00,  2.52it/s]\n",
            "Epoch: 542/1000, loss=0.017958521842956543: 100%|██████████| 64/64 [00:25<00:00,  2.52it/s]\n",
            "Epoch: 543/1000, loss=0.018830716609954834: 100%|██████████| 64/64 [00:25<00:00,  2.52it/s]\n",
            "Epoch: 544/1000, loss=0.02116185426712036: 100%|██████████| 64/64 [00:25<00:00,  2.53it/s]\n",
            "Epoch: 545/1000, loss=0.018526911735534668: 100%|██████████| 64/64 [00:25<00:00,  2.53it/s]\n",
            "Epoch: 546/1000, loss=0.01696568727493286: 100%|██████████| 64/64 [00:25<00:00,  2.53it/s]\n",
            "Epoch: 547/1000, loss=0.015595853328704834: 100%|██████████| 64/64 [00:25<00:00,  2.53it/s]\n",
            "Epoch: 548/1000, loss=0.019146621227264404: 100%|██████████| 64/64 [00:25<00:00,  2.52it/s]\n",
            "Epoch: 549/1000, loss=0.01771777868270874: 100%|██████████| 64/64 [00:25<00:00,  2.52it/s]\n",
            "Epoch: 550/1000, loss=0.018391907215118408: 100%|██████████| 64/64 [00:25<00:00,  2.52it/s]\n"
          ]
        },
        {
          "metadata": {
            "tags": null
          },
          "name": "stdout",
          "output_type": "stream",
          "text": [
            "Evaluate model on testset. Total loss: 0.8818371295928955, Average loss: 0.0008731060689038569\n"
          ]
        },
        {
          "metadata": {
            "tags": null
          },
          "name": "stderr",
          "output_type": "stream",
          "text": [
            "Epoch: 551/1000, loss=0.017041325569152832: 100%|██████████| 64/64 [00:25<00:00,  2.52it/s]\n",
            "Epoch: 552/1000, loss=0.016855955123901367: 100%|██████████| 64/64 [00:25<00:00,  2.52it/s]\n",
            "Epoch: 553/1000, loss=0.01762568950653076: 100%|██████████| 64/64 [00:25<00:00,  2.52it/s]\n",
            "Epoch: 554/1000, loss=0.014969468116760254: 100%|██████████| 64/64 [00:25<00:00,  2.52it/s]\n",
            "Epoch: 555/1000, loss=0.01843845844268799: 100%|██████████| 64/64 [00:25<00:00,  2.52it/s]\n",
            "Epoch: 556/1000, loss=0.01566338539123535: 100%|██████████| 64/64 [00:25<00:00,  2.52it/s]\n",
            "Epoch: 557/1000, loss=0.015500485897064209: 100%|██████████| 64/64 [00:25<00:00,  2.52it/s]\n",
            "Epoch: 558/1000, loss=0.01667630672454834: 100%|██████████| 64/64 [00:25<00:00,  2.52it/s]\n",
            "Epoch: 559/1000, loss=0.016190826892852783: 100%|██████████| 64/64 [00:25<00:00,  2.52it/s]\n",
            "Epoch: 560/1000, loss=0.017016351222991943: 100%|██████████| 64/64 [00:25<00:00,  2.52it/s]\n"
          ]
        },
        {
          "metadata": {
            "tags": null
          },
          "name": "stdout",
          "output_type": "stream",
          "text": [
            "Evaluate model on testset. Total loss: 1.160699486732483, Average loss: 0.0011492074126064188\n"
          ]
        },
        {
          "metadata": {
            "tags": null
          },
          "name": "stderr",
          "output_type": "stream",
          "text": [
            "Epoch: 561/1000, loss=0.015771806240081787: 100%|██████████| 64/64 [00:25<00:00,  2.52it/s]\n",
            "Epoch: 562/1000, loss=0.017978191375732422: 100%|██████████| 64/64 [00:25<00:00,  2.52it/s]\n",
            "Epoch: 563/1000, loss=0.017574548721313477: 100%|██████████| 64/64 [00:25<00:00,  2.52it/s]\n",
            "Epoch: 564/1000, loss=0.017942368984222412: 100%|██████████| 64/64 [00:25<00:00,  2.52it/s]\n",
            "Epoch: 565/1000, loss=0.01778244972229004: 100%|██████████| 64/64 [00:25<00:00,  2.52it/s]\n",
            "Epoch: 566/1000, loss=0.016775786876678467: 100%|██████████| 64/64 [00:25<00:00,  2.52it/s]\n",
            "Epoch: 567/1000, loss=0.016339242458343506: 100%|██████████| 64/64 [00:25<00:00,  2.52it/s]\n",
            "Epoch: 568/1000, loss=0.016837239265441895: 100%|██████████| 64/64 [00:25<00:00,  2.52it/s]\n",
            "Epoch: 569/1000, loss=0.01755845546722412: 100%|██████████| 64/64 [00:25<00:00,  2.52it/s]\n",
            "Epoch: 570/1000, loss=0.01566147804260254: 100%|██████████| 64/64 [00:25<00:00,  2.52it/s]\n"
          ]
        },
        {
          "metadata": {
            "tags": null
          },
          "name": "stdout",
          "output_type": "stream",
          "text": [
            "Evaluate model on testset. Total loss: 0.8759280443191528, Average loss: 0.0008672554894249038\n"
          ]
        },
        {
          "metadata": {
            "tags": null
          },
          "name": "stderr",
          "output_type": "stream",
          "text": [
            "Epoch: 571/1000, loss=0.018433094024658203: 100%|██████████| 64/64 [00:25<00:00,  2.52it/s]\n",
            "Epoch: 572/1000, loss=0.017169594764709473: 100%|██████████| 64/64 [00:25<00:00,  2.52it/s]\n",
            "Epoch: 573/1000, loss=0.0167044997215271: 100%|██████████| 64/64 [00:25<00:00,  2.52it/s]\n",
            "Epoch: 574/1000, loss=0.01653134822845459: 100%|██████████| 64/64 [00:25<00:00,  2.52it/s]\n",
            "Epoch: 575/1000, loss=0.016152620315551758: 100%|██████████| 64/64 [00:25<00:00,  2.52it/s]\n",
            "Epoch: 576/1000, loss=0.017282724380493164: 100%|██████████| 64/64 [00:25<00:00,  2.52it/s]\n",
            "Epoch: 577/1000, loss=0.017127811908721924: 100%|██████████| 64/64 [00:25<00:00,  2.53it/s]\n",
            "Epoch: 578/1000, loss=0.016600728034973145: 100%|██████████| 64/64 [00:25<00:00,  2.52it/s]\n",
            "Epoch: 579/1000, loss=0.01761174201965332: 100%|██████████| 64/64 [00:25<00:00,  2.52it/s]\n",
            "Epoch: 580/1000, loss=0.0157889723777771: 100%|██████████| 64/64 [00:25<00:00,  2.52it/s]\n"
          ]
        },
        {
          "metadata": {
            "tags": null
          },
          "name": "stdout",
          "output_type": "stream",
          "text": [
            "Evaluate model on testset. Total loss: 0.8471314907073975, Average loss: 0.000838744050205344\n"
          ]
        },
        {
          "metadata": {
            "tags": null
          },
          "name": "stderr",
          "output_type": "stream",
          "text": [
            "Epoch: 581/1000, loss=0.0154038667678833: 100%|██████████| 64/64 [00:25<00:00,  2.52it/s]\n",
            "Epoch: 582/1000, loss=0.015558183193206787: 100%|██████████| 64/64 [00:25<00:00,  2.52it/s]\n",
            "Epoch: 583/1000, loss=0.01611417531967163: 100%|██████████| 64/64 [00:25<00:00,  2.52it/s]\n",
            "Epoch: 584/1000, loss=0.01782315969467163: 100%|██████████| 64/64 [00:25<00:00,  2.52it/s]\n",
            "Epoch: 585/1000, loss=0.018042922019958496: 100%|██████████| 64/64 [00:25<00:00,  2.52it/s]\n",
            "Epoch: 586/1000, loss=0.017002761363983154: 100%|██████████| 64/64 [00:25<00:00,  2.52it/s]\n",
            "Epoch: 587/1000, loss=0.016260504722595215: 100%|██████████| 64/64 [00:25<00:00,  2.52it/s]\n",
            "Epoch: 588/1000, loss=0.019450664520263672: 100%|██████████| 64/64 [00:25<00:00,  2.52it/s]\n",
            "Epoch: 589/1000, loss=0.0162811279296875: 100%|██████████| 64/64 [00:25<00:00,  2.52it/s]\n",
            "Epoch: 590/1000, loss=0.017381787300109863: 100%|██████████| 64/64 [00:25<00:00,  2.52it/s]\n"
          ]
        },
        {
          "metadata": {
            "tags": null
          },
          "name": "stdout",
          "output_type": "stream",
          "text": [
            "Evaluate model on testset. Total loss: 0.8563153743743896, Average loss: 0.0008478370043310788\n"
          ]
        },
        {
          "metadata": {
            "tags": null
          },
          "name": "stderr",
          "output_type": "stream",
          "text": [
            "Epoch: 591/1000, loss=0.021771669387817383: 100%|██████████| 64/64 [00:25<00:00,  2.52it/s]\n",
            "Epoch: 592/1000, loss=0.015400588512420654: 100%|██████████| 64/64 [00:25<00:00,  2.52it/s]\n",
            "Epoch: 593/1000, loss=0.017648398876190186: 100%|██████████| 64/64 [00:25<00:00,  2.52it/s]\n",
            "Epoch: 594/1000, loss=0.018206238746643066: 100%|██████████| 64/64 [00:25<00:00,  2.52it/s]\n",
            "Epoch: 595/1000, loss=0.01904672384262085: 100%|██████████| 64/64 [00:25<00:00,  2.52it/s]\n",
            "Epoch: 596/1000, loss=0.01856023073196411: 100%|██████████| 64/64 [00:25<00:00,  2.52it/s]\n",
            "Epoch: 597/1000, loss=0.017321288585662842: 100%|██████████| 64/64 [00:25<00:00,  2.52it/s]\n",
            "Epoch: 598/1000, loss=0.017419755458831787: 100%|██████████| 64/64 [00:25<00:00,  2.52it/s]\n",
            "Epoch: 599/1000, loss=0.0170404314994812: 100%|██████████| 64/64 [00:25<00:00,  2.52it/s]\n",
            "Epoch: 600/1000, loss=0.0162084698677063: 100%|██████████| 64/64 [00:25<00:00,  2.52it/s]\n"
          ]
        },
        {
          "metadata": {
            "tags": null
          },
          "name": "stdout",
          "output_type": "stream",
          "text": [
            "Evaluate model on testset. Total loss: 0.8801971077919006, Average loss: 0.0008714822849424759\n"
          ]
        },
        {
          "metadata": {
            "tags": null
          },
          "name": "stderr",
          "output_type": "stream",
          "text": [
            "Epoch: 601/1000, loss=0.016628503799438477: 100%|██████████| 64/64 [00:25<00:00,  2.52it/s]\n",
            "Epoch: 602/1000, loss=0.0188787579536438: 100%|██████████| 64/64 [00:25<00:00,  2.52it/s]\n",
            "Epoch: 603/1000, loss=0.016512513160705566: 100%|██████████| 64/64 [00:25<00:00,  2.52it/s]\n",
            "Epoch: 604/1000, loss=0.017340779304504395: 100%|██████████| 64/64 [00:25<00:00,  2.52it/s]\n",
            "Epoch: 605/1000, loss=0.01595628261566162: 100%|██████████| 64/64 [00:25<00:00,  2.52it/s]\n",
            "Epoch: 606/1000, loss=0.016026020050048828: 100%|██████████| 64/64 [00:25<00:00,  2.52it/s]\n",
            "Epoch: 607/1000, loss=0.01650094985961914: 100%|██████████| 64/64 [00:25<00:00,  2.52it/s]\n",
            "Epoch: 608/1000, loss=0.01613783836364746: 100%|██████████| 64/64 [00:25<00:00,  2.52it/s]\n",
            "Epoch: 609/1000, loss=0.01645064353942871: 100%|██████████| 64/64 [00:25<00:00,  2.52it/s]\n",
            "Epoch: 610/1000, loss=0.014750421047210693: 100%|██████████| 64/64 [00:25<00:00,  2.52it/s]\n"
          ]
        },
        {
          "metadata": {
            "tags": null
          },
          "name": "stdout",
          "output_type": "stream",
          "text": [
            "Evaluate model on testset. Total loss: 0.8910831809043884, Average loss: 0.0008822605751528599\n"
          ]
        },
        {
          "metadata": {
            "tags": null
          },
          "name": "stderr",
          "output_type": "stream",
          "text": [
            "Epoch: 611/1000, loss=0.017488837242126465: 100%|██████████| 64/64 [00:25<00:00,  2.52it/s]\n",
            "Epoch: 612/1000, loss=0.018304646015167236: 100%|██████████| 64/64 [00:25<00:00,  2.52it/s]\n",
            "Epoch: 613/1000, loss=0.01709771156311035: 100%|██████████| 64/64 [00:25<00:00,  2.52it/s]\n",
            "Epoch: 614/1000, loss=0.02070695161819458: 100%|██████████| 64/64 [00:25<00:00,  2.52it/s]\n",
            "Epoch: 615/1000, loss=0.017397820949554443: 100%|██████████| 64/64 [00:25<00:00,  2.52it/s]\n",
            "Epoch: 616/1000, loss=0.01576554775238037: 100%|██████████| 64/64 [00:25<00:00,  2.52it/s]\n",
            "Epoch: 617/1000, loss=0.01666569709777832: 100%|██████████| 64/64 [00:25<00:00,  2.52it/s]\n",
            "Epoch: 618/1000, loss=0.017126739025115967: 100%|██████████| 64/64 [00:25<00:00,  2.52it/s]\n",
            "Epoch: 619/1000, loss=0.016666173934936523: 100%|██████████| 64/64 [00:25<00:00,  2.52it/s]\n",
            "Epoch: 620/1000, loss=0.016634881496429443: 100%|██████████| 64/64 [00:25<00:00,  2.52it/s]\n"
          ]
        },
        {
          "metadata": {
            "tags": null
          },
          "name": "stdout",
          "output_type": "stream",
          "text": [
            "Evaluate model on testset. Total loss: 0.890863299369812, Average loss: 0.0008820428706631802\n"
          ]
        },
        {
          "metadata": {
            "tags": null
          },
          "name": "stderr",
          "output_type": "stream",
          "text": [
            "Epoch: 621/1000, loss=0.01637810468673706: 100%|██████████| 64/64 [00:25<00:00,  2.52it/s]\n",
            "Epoch: 622/1000, loss=0.017298638820648193: 100%|██████████| 64/64 [00:25<00:00,  2.52it/s]\n",
            "Epoch: 623/1000, loss=0.016173481941223145: 100%|██████████| 64/64 [00:25<00:00,  2.53it/s]\n",
            "Epoch: 624/1000, loss=0.015435099601745605: 100%|██████████| 64/64 [00:25<00:00,  2.52it/s]\n",
            "Epoch: 625/1000, loss=0.016506314277648926: 100%|██████████| 64/64 [00:25<00:00,  2.52it/s]\n",
            "Epoch: 626/1000, loss=0.015861034393310547: 100%|██████████| 64/64 [00:25<00:00,  2.52it/s]\n",
            "Epoch: 627/1000, loss=0.014668405055999756: 100%|██████████| 64/64 [00:25<00:00,  2.52it/s]\n",
            "Epoch: 628/1000, loss=0.01664721965789795: 100%|██████████| 64/64 [00:25<00:00,  2.52it/s]\n",
            "Epoch: 629/1000, loss=0.01622837781906128: 100%|██████████| 64/64 [00:25<00:00,  2.52it/s]\n",
            "Epoch: 630/1000, loss=0.01691800355911255: 100%|██████████| 64/64 [00:25<00:00,  2.52it/s]\n"
          ]
        },
        {
          "metadata": {
            "tags": null
          },
          "name": "stdout",
          "output_type": "stream",
          "text": [
            "Evaluate model on testset. Total loss: 0.8454954028129578, Average loss: 0.0008371241612009483\n"
          ]
        },
        {
          "metadata": {
            "tags": null
          },
          "name": "stderr",
          "output_type": "stream",
          "text": [
            "Epoch: 631/1000, loss=0.01827794313430786: 100%|██████████| 64/64 [00:25<00:00,  2.52it/s]\n",
            "Epoch: 632/1000, loss=0.015601813793182373: 100%|██████████| 64/64 [00:25<00:00,  2.52it/s]\n",
            "Epoch: 633/1000, loss=0.016119658946990967: 100%|██████████| 64/64 [00:25<00:00,  2.52it/s]\n",
            "Epoch: 634/1000, loss=0.01594609022140503: 100%|██████████| 64/64 [00:25<00:00,  2.52it/s]\n",
            "Epoch: 635/1000, loss=0.016178488731384277: 100%|██████████| 64/64 [00:25<00:00,  2.52it/s]\n",
            "Epoch: 636/1000, loss=0.014745593070983887: 100%|██████████| 64/64 [00:25<00:00,  2.52it/s]\n",
            "Epoch: 637/1000, loss=0.016026198863983154: 100%|██████████| 64/64 [00:25<00:00,  2.52it/s]\n",
            "Epoch: 638/1000, loss=0.014898598194122314: 100%|██████████| 64/64 [00:25<00:00,  2.52it/s]\n",
            "Epoch: 639/1000, loss=0.01512289047241211: 100%|██████████| 64/64 [00:25<00:00,  2.53it/s]\n",
            "Epoch: 640/1000, loss=0.017934203147888184: 100%|██████████| 64/64 [00:25<00:00,  2.52it/s]\n"
          ]
        },
        {
          "metadata": {
            "tags": null
          },
          "name": "stdout",
          "output_type": "stream",
          "text": [
            "Evaluate model on testset. Total loss: 1.1007976531982422, Average loss: 0.001089898666532913\n"
          ]
        },
        {
          "metadata": {
            "tags": null
          },
          "name": "stderr",
          "output_type": "stream",
          "text": [
            "Epoch: 641/1000, loss=0.016842365264892578: 100%|██████████| 64/64 [00:25<00:00,  2.52it/s]\n",
            "Epoch: 642/1000, loss=0.015613377094268799: 100%|██████████| 64/64 [00:25<00:00,  2.52it/s]\n",
            "Epoch: 643/1000, loss=0.016342639923095703: 100%|██████████| 64/64 [00:25<00:00,  2.52it/s]\n",
            "Epoch: 644/1000, loss=0.01680058240890503: 100%|██████████| 64/64 [00:25<00:00,  2.52it/s]\n",
            "Epoch: 645/1000, loss=0.014515817165374756: 100%|██████████| 64/64 [00:25<00:00,  2.52it/s]\n",
            "Epoch: 646/1000, loss=0.015018463134765625: 100%|██████████| 64/64 [00:25<00:00,  2.52it/s]\n",
            "Epoch: 647/1000, loss=0.014041781425476074: 100%|██████████| 64/64 [00:25<00:00,  2.52it/s]\n",
            "Epoch: 648/1000, loss=0.015967726707458496: 100%|██████████| 64/64 [00:25<00:00,  2.52it/s]\n",
            "Epoch: 649/1000, loss=0.013698875904083252: 100%|██████████| 64/64 [00:25<00:00,  2.52it/s]\n",
            "Epoch: 650/1000, loss=0.01636338233947754: 100%|██████████| 64/64 [00:25<00:00,  2.52it/s]\n"
          ]
        },
        {
          "metadata": {
            "tags": null
          },
          "name": "stdout",
          "output_type": "stream",
          "text": [
            "Evaluate model on testset. Total loss: 0.858439028263092, Average loss: 0.0008499396319436555\n"
          ]
        },
        {
          "metadata": {
            "tags": null
          },
          "name": "stderr",
          "output_type": "stream",
          "text": [
            "Epoch: 651/1000, loss=0.01590806245803833: 100%|██████████| 64/64 [00:25<00:00,  2.52it/s]\n",
            "Epoch: 652/1000, loss=0.015042245388031006: 100%|██████████| 64/64 [00:25<00:00,  2.52it/s]\n",
            "Epoch: 653/1000, loss=0.015927791595458984: 100%|██████████| 64/64 [00:25<00:00,  2.52it/s]\n",
            "Epoch: 654/1000, loss=0.017257213592529297: 100%|██████████| 64/64 [00:25<00:00,  2.52it/s]\n",
            "Epoch: 655/1000, loss=0.017401456832885742: 100%|██████████| 64/64 [00:25<00:00,  2.52it/s]\n",
            "Epoch: 656/1000, loss=0.017476558685302734: 100%|██████████| 64/64 [00:25<00:00,  2.52it/s]\n",
            "Epoch: 657/1000, loss=0.014297783374786377: 100%|██████████| 64/64 [00:25<00:00,  2.52it/s]\n",
            "Epoch: 658/1000, loss=0.01721280813217163: 100%|██████████| 64/64 [00:25<00:00,  2.52it/s]\n",
            "Epoch: 659/1000, loss=0.015723466873168945: 100%|██████████| 64/64 [00:25<00:00,  2.52it/s]\n",
            "Epoch: 660/1000, loss=0.01487874984741211: 100%|██████████| 64/64 [00:25<00:00,  2.52it/s]\n"
          ]
        },
        {
          "metadata": {
            "tags": null
          },
          "name": "stdout",
          "output_type": "stream",
          "text": [
            "Evaluate model on testset. Total loss: 0.8543187379837036, Average loss: 0.0008458601366175283\n"
          ]
        },
        {
          "metadata": {
            "tags": null
          },
          "name": "stderr",
          "output_type": "stream",
          "text": [
            "Epoch: 661/1000, loss=0.014798641204833984: 100%|██████████| 64/64 [00:25<00:00,  2.52it/s]\n",
            "Epoch: 662/1000, loss=0.016594350337982178: 100%|██████████| 64/64 [00:25<00:00,  2.52it/s]\n",
            "Epoch: 663/1000, loss=0.01509469747543335: 100%|██████████| 64/64 [00:25<00:00,  2.52it/s]\n",
            "Epoch: 664/1000, loss=0.017025768756866455: 100%|██████████| 64/64 [00:25<00:00,  2.52it/s]\n",
            "Epoch: 665/1000, loss=0.01661127805709839: 100%|██████████| 64/64 [00:25<00:00,  2.52it/s]\n",
            "Epoch: 666/1000, loss=0.014823853969573975: 100%|██████████| 64/64 [00:25<00:00,  2.52it/s]\n",
            "Epoch: 667/1000, loss=0.01713353395462036: 100%|██████████| 64/64 [00:25<00:00,  2.52it/s]\n",
            "Epoch: 668/1000, loss=0.016927897930145264: 100%|██████████| 64/64 [00:25<00:00,  2.52it/s]\n",
            "Epoch: 669/1000, loss=0.01674950122833252: 100%|██████████| 64/64 [00:25<00:00,  2.52it/s]\n",
            "Epoch: 670/1000, loss=0.018388986587524414: 100%|██████████| 64/64 [00:25<00:00,  2.52it/s]\n"
          ]
        },
        {
          "metadata": {
            "tags": null
          },
          "name": "stdout",
          "output_type": "stream",
          "text": [
            "Evaluate model on testset. Total loss: 0.8583099246025085, Average loss: 0.0008498118065371372\n"
          ]
        },
        {
          "metadata": {
            "tags": null
          },
          "name": "stderr",
          "output_type": "stream",
          "text": [
            "Epoch: 671/1000, loss=0.017858028411865234: 100%|██████████| 64/64 [00:25<00:00,  2.52it/s]\n",
            "Epoch: 672/1000, loss=0.015835285186767578: 100%|██████████| 64/64 [00:25<00:00,  2.52it/s]\n",
            "Epoch: 673/1000, loss=0.016314029693603516: 100%|██████████| 64/64 [00:25<00:00,  2.52it/s]\n",
            "Epoch: 674/1000, loss=0.014931917190551758: 100%|██████████| 64/64 [00:25<00:00,  2.52it/s]\n",
            "Epoch: 675/1000, loss=0.016024351119995117: 100%|██████████| 64/64 [00:25<00:00,  2.52it/s]\n",
            "Epoch: 676/1000, loss=0.014302849769592285: 100%|██████████| 64/64 [00:25<00:00,  2.52it/s]\n",
            "Epoch: 677/1000, loss=0.016358613967895508: 100%|██████████| 64/64 [00:25<00:00,  2.52it/s]\n",
            "Epoch: 678/1000, loss=0.01769542694091797: 100%|██████████| 64/64 [00:25<00:00,  2.52it/s]\n",
            "Epoch: 679/1000, loss=0.018960773944854736: 100%|██████████| 64/64 [00:25<00:00,  2.52it/s]\n",
            "Epoch: 680/1000, loss=0.014586150646209717: 100%|██████████| 64/64 [00:25<00:00,  2.52it/s]\n"
          ]
        },
        {
          "metadata": {
            "tags": null
          },
          "name": "stdout",
          "output_type": "stream",
          "text": [
            "Evaluate model on testset. Total loss: 0.8316396474838257, Average loss: 0.0008234055915681442\n"
          ]
        },
        {
          "metadata": {
            "tags": null
          },
          "name": "stderr",
          "output_type": "stream",
          "text": [
            "Epoch: 681/1000, loss=0.017641186714172363: 100%|██████████| 64/64 [00:25<00:00,  2.52it/s]\n",
            "Epoch: 682/1000, loss=0.019022464752197266: 100%|██████████| 64/64 [00:25<00:00,  2.52it/s]\n",
            "Epoch: 683/1000, loss=0.01656275987625122: 100%|██████████| 64/64 [00:25<00:00,  2.52it/s]\n",
            "Epoch: 684/1000, loss=0.019302725791931152: 100%|██████████| 64/64 [00:25<00:00,  2.52it/s]\n",
            "Epoch: 685/1000, loss=0.014493227005004883: 100%|██████████| 64/64 [00:25<00:00,  2.52it/s]\n",
            "Epoch: 686/1000, loss=0.016224026679992676: 100%|██████████| 64/64 [00:25<00:00,  2.52it/s]\n",
            "Epoch: 687/1000, loss=0.016861319541931152: 100%|██████████| 64/64 [00:25<00:00,  2.53it/s]\n",
            "Epoch: 688/1000, loss=0.017122209072113037: 100%|██████████| 64/64 [00:25<00:00,  2.52it/s]\n",
            "Epoch: 689/1000, loss=0.014448404312133789: 100%|██████████| 64/64 [00:25<00:00,  2.52it/s]\n",
            "Epoch: 690/1000, loss=0.017882704734802246: 100%|██████████| 64/64 [00:25<00:00,  2.52it/s]\n"
          ]
        },
        {
          "metadata": {
            "tags": null
          },
          "name": "stdout",
          "output_type": "stream",
          "text": [
            "Evaluate model on testset. Total loss: 0.8508469462394714, Average loss: 0.0008424227190489816\n"
          ]
        },
        {
          "metadata": {
            "tags": null
          },
          "name": "stderr",
          "output_type": "stream",
          "text": [
            "Epoch: 691/1000, loss=0.014500796794891357: 100%|██████████| 64/64 [00:25<00:00,  2.52it/s]\n",
            "Epoch: 692/1000, loss=0.017794370651245117: 100%|██████████| 64/64 [00:25<00:00,  2.52it/s]\n",
            "Epoch: 693/1000, loss=0.015472173690795898: 100%|██████████| 64/64 [00:25<00:00,  2.52it/s]\n",
            "Epoch: 694/1000, loss=0.017716050148010254: 100%|██████████| 64/64 [00:25<00:00,  2.52it/s]\n",
            "Epoch: 695/1000, loss=0.017720818519592285: 100%|██████████| 64/64 [00:25<00:00,  2.52it/s]\n",
            "Epoch: 696/1000, loss=0.017168045043945312: 100%|██████████| 64/64 [00:25<00:00,  2.52it/s]\n",
            "Epoch: 697/1000, loss=0.015011608600616455: 100%|██████████| 64/64 [00:25<00:00,  2.52it/s]\n",
            "Epoch: 698/1000, loss=0.014362454414367676: 100%|██████████| 64/64 [00:25<00:00,  2.52it/s]\n",
            "Epoch: 699/1000, loss=0.01567399501800537: 100%|██████████| 64/64 [00:25<00:00,  2.53it/s]\n",
            "Epoch: 700/1000, loss=0.018388450145721436: 100%|██████████| 64/64 [00:25<00:00,  2.52it/s]\n"
          ]
        },
        {
          "metadata": {
            "tags": null
          },
          "name": "stdout",
          "output_type": "stream",
          "text": [
            "Evaluate model on testset. Total loss: 0.8172991275787354, Average loss: 0.0008092070570086488\n"
          ]
        },
        {
          "metadata": {
            "tags": null
          },
          "name": "stderr",
          "output_type": "stream",
          "text": [
            "Epoch: 701/1000, loss=0.016423344612121582: 100%|██████████| 64/64 [00:25<00:00,  2.52it/s]\n",
            "Epoch: 702/1000, loss=0.014373600482940674: 100%|██████████| 64/64 [00:25<00:00,  2.52it/s]\n",
            "Epoch: 703/1000, loss=0.014801383018493652: 100%|██████████| 64/64 [00:25<00:00,  2.52it/s]\n",
            "Epoch: 704/1000, loss=0.01544255018234253: 100%|██████████| 64/64 [00:25<00:00,  2.52it/s]\n",
            "Epoch: 705/1000, loss=0.013759374618530273: 100%|██████████| 64/64 [00:25<00:00,  2.52it/s]\n",
            "Epoch: 706/1000, loss=0.01670020818710327: 100%|██████████| 64/64 [00:25<00:00,  2.52it/s]\n",
            "Epoch: 707/1000, loss=0.01554250717163086: 100%|██████████| 64/64 [00:25<00:00,  2.52it/s]\n",
            "Epoch: 708/1000, loss=0.013542115688323975: 100%|██████████| 64/64 [00:25<00:00,  2.52it/s]\n",
            "Epoch: 709/1000, loss=0.014974117279052734: 100%|██████████| 64/64 [00:25<00:00,  2.52it/s]\n",
            "Epoch: 710/1000, loss=0.014493882656097412: 100%|██████████| 64/64 [00:25<00:00,  2.52it/s]\n"
          ]
        },
        {
          "metadata": {
            "tags": null
          },
          "name": "stdout",
          "output_type": "stream",
          "text": [
            "Evaluate model on testset. Total loss: 0.8433160781860352, Average loss: 0.0008349664140455793\n"
          ]
        },
        {
          "metadata": {
            "tags": null
          },
          "name": "stderr",
          "output_type": "stream",
          "text": [
            "Epoch: 711/1000, loss=0.013618767261505127: 100%|██████████| 64/64 [00:25<00:00,  2.52it/s]\n",
            "Epoch: 712/1000, loss=0.015383243560791016: 100%|██████████| 64/64 [00:25<00:00,  2.52it/s]\n",
            "Epoch: 713/1000, loss=0.016053318977355957: 100%|██████████| 64/64 [00:25<00:00,  2.52it/s]\n",
            "Epoch: 714/1000, loss=0.0177573561668396: 100%|██████████| 64/64 [00:25<00:00,  2.52it/s]\n",
            "Epoch: 715/1000, loss=0.01574075222015381: 100%|██████████| 64/64 [00:25<00:00,  2.52it/s]\n",
            "Epoch: 716/1000, loss=0.013782739639282227: 100%|██████████| 64/64 [00:25<00:00,  2.52it/s]\n",
            "Epoch: 717/1000, loss=0.015183627605438232: 100%|██████████| 64/64 [00:25<00:00,  2.52it/s]\n",
            "Epoch: 718/1000, loss=0.014753222465515137: 100%|██████████| 64/64 [00:25<00:00,  2.52it/s]\n",
            "Epoch: 719/1000, loss=0.014366388320922852: 100%|██████████| 64/64 [00:25<00:00,  2.52it/s]\n",
            "Epoch: 720/1000, loss=0.01632249355316162: 100%|██████████| 64/64 [00:25<00:00,  2.52it/s]\n"
          ]
        },
        {
          "metadata": {
            "tags": null
          },
          "name": "stdout",
          "output_type": "stream",
          "text": [
            "Evaluate model on testset. Total loss: 1.1274614334106445, Average loss: 0.0011162984489214301\n"
          ]
        },
        {
          "metadata": {
            "tags": null
          },
          "name": "stderr",
          "output_type": "stream",
          "text": [
            "Epoch: 721/1000, loss=0.014890491962432861: 100%|██████████| 64/64 [00:25<00:00,  2.52it/s]\n",
            "Epoch: 722/1000, loss=0.013640761375427246: 100%|██████████| 64/64 [00:25<00:00,  2.52it/s]\n",
            "Epoch: 723/1000, loss=0.016138970851898193: 100%|██████████| 64/64 [00:25<00:00,  2.52it/s]\n",
            "Epoch: 724/1000, loss=0.015954673290252686: 100%|██████████| 64/64 [00:25<00:00,  2.52it/s]\n",
            "Epoch: 725/1000, loss=0.01576375961303711: 100%|██████████| 64/64 [00:25<00:00,  2.52it/s]\n",
            "Epoch: 726/1000, loss=0.015806913375854492: 100%|██████████| 64/64 [00:25<00:00,  2.52it/s]\n",
            "Epoch: 727/1000, loss=0.01631563901901245: 100%|██████████| 64/64 [00:25<00:00,  2.52it/s]\n",
            "Epoch: 728/1000, loss=0.014845550060272217: 100%|██████████| 64/64 [00:25<00:00,  2.52it/s]\n",
            "Epoch: 729/1000, loss=0.014333367347717285: 100%|██████████| 64/64 [00:25<00:00,  2.52it/s]\n",
            "Epoch: 730/1000, loss=0.016485989093780518: 100%|██████████| 64/64 [00:25<00:00,  2.52it/s]\n"
          ]
        },
        {
          "metadata": {
            "tags": null
          },
          "name": "stdout",
          "output_type": "stream",
          "text": [
            "Evaluate model on testset. Total loss: 1.086694598197937, Average loss: 0.0010759352457405317\n"
          ]
        },
        {
          "metadata": {
            "tags": null
          },
          "name": "stderr",
          "output_type": "stream",
          "text": [
            "Epoch: 731/1000, loss=0.01502084732055664: 100%|██████████| 64/64 [00:25<00:00,  2.52it/s]\n",
            "Epoch: 732/1000, loss=0.015994906425476074: 100%|██████████| 64/64 [00:25<00:00,  2.52it/s]\n",
            "Epoch: 733/1000, loss=0.01538538932800293: 100%|██████████| 64/64 [00:25<00:00,  2.52it/s]\n",
            "Epoch: 734/1000, loss=0.016424119472503662: 100%|██████████| 64/64 [00:25<00:00,  2.52it/s]\n",
            "Epoch: 735/1000, loss=0.01332920789718628: 100%|██████████| 64/64 [00:25<00:00,  2.52it/s]\n",
            "Epoch: 736/1000, loss=0.01800680160522461: 100%|██████████| 64/64 [00:25<00:00,  2.52it/s]\n",
            "Epoch: 737/1000, loss=0.017481565475463867: 100%|██████████| 64/64 [00:25<00:00,  2.52it/s]\n",
            "Epoch: 738/1000, loss=0.014545798301696777: 100%|██████████| 64/64 [00:25<00:00,  2.52it/s]\n",
            "Epoch: 739/1000, loss=0.017053306102752686: 100%|██████████| 64/64 [00:25<00:00,  2.52it/s]\n",
            "Epoch: 740/1000, loss=0.014993488788604736: 100%|██████████| 64/64 [00:25<00:00,  2.52it/s]\n"
          ]
        },
        {
          "metadata": {
            "tags": null
          },
          "name": "stdout",
          "output_type": "stream",
          "text": [
            "Evaluate model on testset. Total loss: 0.8349429965019226, Average loss: 0.0008266762341603194\n"
          ]
        },
        {
          "metadata": {
            "tags": null
          },
          "name": "stderr",
          "output_type": "stream",
          "text": [
            "Epoch: 741/1000, loss=0.015194177627563477: 100%|██████████| 64/64 [00:25<00:00,  2.52it/s]\n",
            "Epoch: 742/1000, loss=0.017105579376220703: 100%|██████████| 64/64 [00:25<00:00,  2.52it/s]\n",
            "Epoch: 743/1000, loss=0.015536189079284668: 100%|██████████| 64/64 [00:25<00:00,  2.51it/s]\n",
            "Epoch: 744/1000, loss=0.015591979026794434: 100%|██████████| 64/64 [00:25<00:00,  2.52it/s]\n",
            "Epoch: 745/1000, loss=0.01613938808441162: 100%|██████████| 64/64 [00:25<00:00,  2.52it/s]\n",
            "Epoch: 746/1000, loss=0.01619887351989746: 100%|██████████| 64/64 [00:25<00:00,  2.52it/s]\n",
            "Epoch: 747/1000, loss=0.01502072811126709: 100%|██████████| 64/64 [00:25<00:00,  2.52it/s]\n",
            "Epoch: 748/1000, loss=0.014561891555786133: 100%|██████████| 64/64 [00:25<00:00,  2.52it/s]\n",
            "Epoch: 749/1000, loss=0.012926340103149414: 100%|██████████| 64/64 [00:25<00:00,  2.52it/s]\n",
            "Epoch: 750/1000, loss=0.014324486255645752: 100%|██████████| 64/64 [00:25<00:00,  2.52it/s]\n"
          ]
        },
        {
          "metadata": {
            "tags": null
          },
          "name": "stdout",
          "output_type": "stream",
          "text": [
            "Evaluate model on testset. Total loss: 0.8336492776870728, Average loss: 0.0008253953244426463\n"
          ]
        },
        {
          "metadata": {
            "tags": null
          },
          "name": "stderr",
          "output_type": "stream",
          "text": [
            "Epoch: 751/1000, loss=0.015068888664245605: 100%|██████████| 64/64 [00:25<00:00,  2.52it/s]\n",
            "Epoch: 752/1000, loss=0.015132308006286621: 100%|██████████| 64/64 [00:25<00:00,  2.52it/s]\n",
            "Epoch: 753/1000, loss=0.013353586196899414: 100%|██████████| 64/64 [00:25<00:00,  2.52it/s]\n",
            "Epoch: 754/1000, loss=0.014471828937530518: 100%|██████████| 64/64 [00:25<00:00,  2.52it/s]\n",
            "Epoch: 755/1000, loss=0.01421499252319336: 100%|██████████| 64/64 [00:25<00:00,  2.52it/s]\n",
            "Epoch: 756/1000, loss=0.015650689601898193: 100%|██████████| 64/64 [00:25<00:00,  2.52it/s]\n",
            "Epoch: 757/1000, loss=0.016910970211029053: 100%|██████████| 64/64 [00:25<00:00,  2.52it/s]\n",
            "Epoch: 758/1000, loss=0.0170249342918396: 100%|██████████| 64/64 [00:25<00:00,  2.52it/s]\n",
            "Epoch: 759/1000, loss=0.013818979263305664: 100%|██████████| 64/64 [00:25<00:00,  2.52it/s]\n",
            "Epoch: 760/1000, loss=0.015829801559448242: 100%|██████████| 64/64 [00:25<00:00,  2.52it/s]\n"
          ]
        },
        {
          "metadata": {
            "tags": null
          },
          "name": "stdout",
          "output_type": "stream",
          "text": [
            "Evaluate model on testset. Total loss: 1.3284510970115662, Average loss: 0.0013152981158530358\n"
          ]
        },
        {
          "metadata": {
            "tags": null
          },
          "name": "stderr",
          "output_type": "stream",
          "text": [
            "Epoch: 761/1000, loss=0.015537738800048828: 100%|██████████| 64/64 [00:25<00:00,  2.52it/s]\n",
            "Epoch: 762/1000, loss=0.01643681526184082: 100%|██████████| 64/64 [00:25<00:00,  2.52it/s]\n",
            "Epoch: 763/1000, loss=0.01730167865753174: 100%|██████████| 64/64 [00:25<00:00,  2.52it/s]\n",
            "Epoch: 764/1000, loss=0.016328155994415283: 100%|██████████| 64/64 [00:25<00:00,  2.52it/s]\n",
            "Epoch: 765/1000, loss=0.017166972160339355: 100%|██████████| 64/64 [00:25<00:00,  2.52it/s]\n",
            "Epoch: 766/1000, loss=0.017401397228240967: 100%|██████████| 64/64 [00:25<00:00,  2.52it/s]\n",
            "Epoch: 767/1000, loss=0.014986395835876465: 100%|██████████| 64/64 [00:25<00:00,  2.52it/s]\n",
            "Epoch: 768/1000, loss=0.015967845916748047: 100%|██████████| 64/64 [00:25<00:00,  2.52it/s]\n",
            "Epoch: 769/1000, loss=0.016032040119171143: 100%|██████████| 64/64 [00:25<00:00,  2.52it/s]\n",
            "Epoch: 770/1000, loss=0.01444089412689209: 100%|██████████| 64/64 [00:25<00:00,  2.52it/s]\n"
          ]
        },
        {
          "metadata": {
            "tags": null
          },
          "name": "stdout",
          "output_type": "stream",
          "text": [
            "Evaluate model on testset. Total loss: 0.9354775547981262, Average loss: 0.000926215400790224\n"
          ]
        },
        {
          "metadata": {
            "tags": null
          },
          "name": "stderr",
          "output_type": "stream",
          "text": [
            "Epoch: 771/1000, loss=0.015694379806518555: 100%|██████████| 64/64 [00:25<00:00,  2.52it/s]\n",
            "Epoch: 772/1000, loss=0.013351678848266602: 100%|██████████| 64/64 [00:25<00:00,  2.52it/s]\n",
            "Epoch: 773/1000, loss=0.015850841999053955: 100%|██████████| 64/64 [00:25<00:00,  2.52it/s]\n",
            "Epoch: 774/1000, loss=0.01646977663040161: 100%|██████████| 64/64 [00:25<00:00,  2.52it/s]\n",
            "Epoch: 775/1000, loss=0.014868021011352539: 100%|██████████| 64/64 [00:25<00:00,  2.52it/s]\n",
            "Epoch: 776/1000, loss=0.015748262405395508: 100%|██████████| 64/64 [00:25<00:00,  2.52it/s]\n",
            "Epoch: 777/1000, loss=0.015925705432891846: 100%|██████████| 64/64 [00:25<00:00,  2.52it/s]\n",
            "Epoch: 778/1000, loss=0.015383541584014893: 100%|██████████| 64/64 [00:25<00:00,  2.52it/s]\n",
            "Epoch: 779/1000, loss=0.015084922313690186: 100%|██████████| 64/64 [00:25<00:00,  2.52it/s]\n",
            "Epoch: 780/1000, loss=0.01463395357131958: 100%|██████████| 64/64 [00:25<00:00,  2.52it/s]\n"
          ]
        },
        {
          "metadata": {
            "tags": null
          },
          "name": "stdout",
          "output_type": "stream",
          "text": [
            "Evaluate model on testset. Total loss: 0.8570030331611633, Average loss: 0.0008485178546150132\n"
          ]
        },
        {
          "metadata": {
            "tags": null
          },
          "name": "stderr",
          "output_type": "stream",
          "text": [
            "Epoch: 781/1000, loss=0.0162503719329834: 100%|██████████| 64/64 [00:25<00:00,  2.52it/s]\n",
            "Epoch: 782/1000, loss=0.016578078269958496: 100%|██████████| 64/64 [00:25<00:00,  2.52it/s]\n",
            "Epoch: 783/1000, loss=0.016235828399658203: 100%|██████████| 64/64 [00:25<00:00,  2.52it/s]\n",
            "Epoch: 784/1000, loss=0.0170743465423584: 100%|██████████| 64/64 [00:25<00:00,  2.52it/s]\n",
            "Epoch: 785/1000, loss=0.014465630054473877: 100%|██████████| 64/64 [00:25<00:00,  2.52it/s]\n",
            "Epoch: 786/1000, loss=0.01627141237258911: 100%|██████████| 64/64 [00:25<00:00,  2.52it/s]\n",
            "Epoch: 787/1000, loss=0.014888644218444824: 100%|██████████| 64/64 [00:25<00:00,  2.52it/s]\n",
            "Epoch: 788/1000, loss=0.014889895915985107: 100%|██████████| 64/64 [00:25<00:00,  2.52it/s]\n",
            "Epoch: 789/1000, loss=0.014459848403930664: 100%|██████████| 64/64 [00:25<00:00,  2.52it/s]\n",
            "Epoch: 790/1000, loss=0.01541590690612793: 100%|██████████| 64/64 [00:25<00:00,  2.52it/s]\n"
          ]
        },
        {
          "metadata": {
            "tags": null
          },
          "name": "stdout",
          "output_type": "stream",
          "text": [
            "Evaluate model on testset. Total loss: 1.2287495732307434, Average loss: 0.001216583735872023\n"
          ]
        },
        {
          "metadata": {
            "tags": null
          },
          "name": "stderr",
          "output_type": "stream",
          "text": [
            "Epoch: 791/1000, loss=0.015271604061126709: 100%|██████████| 64/64 [00:25<00:00,  2.52it/s]\n",
            "Epoch: 792/1000, loss=0.015329837799072266: 100%|██████████| 64/64 [00:25<00:00,  2.52it/s]\n",
            "Epoch: 793/1000, loss=0.014243364334106445: 100%|██████████| 64/64 [00:25<00:00,  2.52it/s]\n",
            "Epoch: 794/1000, loss=0.01622140407562256: 100%|██████████| 64/64 [00:25<00:00,  2.52it/s]\n",
            "Epoch: 795/1000, loss=0.013596177101135254: 100%|██████████| 64/64 [00:25<00:00,  2.52it/s]\n",
            "Epoch: 796/1000, loss=0.015176594257354736: 100%|██████████| 64/64 [00:25<00:00,  2.52it/s]\n",
            "Epoch: 797/1000, loss=0.015905380249023438: 100%|██████████| 64/64 [00:25<00:00,  2.52it/s]\n",
            "Epoch: 798/1000, loss=0.01544564962387085: 100%|██████████| 64/64 [00:25<00:00,  2.52it/s]\n",
            "Epoch: 799/1000, loss=0.016541600227355957: 100%|██████████| 64/64 [00:25<00:00,  2.52it/s]\n",
            "Epoch: 800/1000, loss=0.013389408588409424: 100%|██████████| 64/64 [00:25<00:00,  2.52it/s]\n"
          ]
        },
        {
          "metadata": {
            "tags": null
          },
          "name": "stdout",
          "output_type": "stream",
          "text": [
            "Evaluate model on testset. Total loss: 0.8931066393852234, Average loss: 0.0008842639993913103\n"
          ]
        },
        {
          "metadata": {
            "tags": null
          },
          "name": "stderr",
          "output_type": "stream",
          "text": [
            "Epoch: 801/1000, loss=0.013130426406860352: 100%|██████████| 64/64 [00:25<00:00,  2.52it/s]\n",
            "Epoch: 802/1000, loss=0.015092968940734863: 100%|██████████| 64/64 [00:25<00:00,  2.52it/s]\n",
            "Epoch: 803/1000, loss=0.014491856098175049: 100%|██████████| 64/64 [00:25<00:00,  2.52it/s]\n",
            "Epoch: 804/1000, loss=0.01372373104095459: 100%|██████████| 64/64 [00:25<00:00,  2.52it/s]\n",
            "Epoch: 805/1000, loss=0.01553642749786377: 100%|██████████| 64/64 [00:25<00:00,  2.52it/s]\n",
            "Epoch: 806/1000, loss=0.01547861099243164: 100%|██████████| 64/64 [00:25<00:00,  2.52it/s]\n",
            "Epoch: 807/1000, loss=0.015121400356292725: 100%|██████████| 64/64 [00:25<00:00,  2.52it/s]\n",
            "Epoch: 808/1000, loss=0.015384316444396973: 100%|██████████| 64/64 [00:25<00:00,  2.52it/s]\n",
            "Epoch: 809/1000, loss=0.01570737361907959: 100%|██████████| 64/64 [00:25<00:00,  2.52it/s]\n",
            "Epoch: 810/1000, loss=0.015467822551727295: 100%|██████████| 64/64 [00:25<00:00,  2.52it/s]\n"
          ]
        },
        {
          "metadata": {
            "tags": null
          },
          "name": "stdout",
          "output_type": "stream",
          "text": [
            "Evaluate model on testset. Total loss: 0.8480009436607361, Average loss: 0.0008396048947136001\n"
          ]
        },
        {
          "metadata": {
            "tags": null
          },
          "name": "stderr",
          "output_type": "stream",
          "text": [
            "Epoch: 811/1000, loss=0.015111267566680908: 100%|██████████| 64/64 [00:25<00:00,  2.52it/s]\n",
            "Epoch: 812/1000, loss=0.013979434967041016: 100%|██████████| 64/64 [00:25<00:00,  2.52it/s]\n",
            "Epoch: 813/1000, loss=0.014371335506439209: 100%|██████████| 64/64 [00:25<00:00,  2.52it/s]\n",
            "Epoch: 814/1000, loss=0.014065384864807129: 100%|██████████| 64/64 [00:25<00:00,  2.52it/s]\n",
            "Epoch: 815/1000, loss=0.012804865837097168: 100%|██████████| 64/64 [00:25<00:00,  2.52it/s]\n",
            "Epoch: 816/1000, loss=0.017361462116241455: 100%|██████████| 64/64 [00:25<00:00,  2.52it/s]\n",
            "Epoch: 817/1000, loss=0.012331783771514893: 100%|██████████| 64/64 [00:25<00:00,  2.52it/s]\n",
            "Epoch: 818/1000, loss=0.015484273433685303: 100%|██████████| 64/64 [00:25<00:00,  2.52it/s]\n",
            "Epoch: 819/1000, loss=0.014052987098693848: 100%|██████████| 64/64 [00:25<00:00,  2.52it/s]\n",
            "Epoch: 820/1000, loss=0.014334499835968018: 100%|██████████| 64/64 [00:25<00:00,  2.52it/s]\n"
          ]
        },
        {
          "metadata": {
            "tags": null
          },
          "name": "stdout",
          "output_type": "stream",
          "text": [
            "Evaluate model on testset. Total loss: 0.8271973729133606, Average loss: 0.0008190072999142184\n"
          ]
        },
        {
          "metadata": {
            "tags": null
          },
          "name": "stderr",
          "output_type": "stream",
          "text": [
            "Epoch: 821/1000, loss=0.014380156993865967: 100%|██████████| 64/64 [00:25<00:00,  2.52it/s]\n",
            "Epoch: 822/1000, loss=0.016601383686065674: 100%|██████████| 64/64 [00:25<00:00,  2.52it/s]\n",
            "Epoch: 823/1000, loss=0.017529010772705078: 100%|██████████| 64/64 [00:25<00:00,  2.52it/s]\n",
            "Epoch: 824/1000, loss=0.014852523803710938: 100%|██████████| 64/64 [00:25<00:00,  2.52it/s]\n",
            "Epoch: 825/1000, loss=0.014055728912353516: 100%|██████████| 64/64 [00:25<00:00,  2.52it/s]\n",
            "Epoch: 826/1000, loss=0.014954090118408203: 100%|██████████| 64/64 [00:25<00:00,  2.52it/s]\n",
            "Epoch: 827/1000, loss=0.015619099140167236: 100%|██████████| 64/64 [00:25<00:00,  2.52it/s]\n",
            "Epoch: 828/1000, loss=0.015105068683624268: 100%|██████████| 64/64 [00:25<00:00,  2.52it/s]\n",
            "Epoch: 829/1000, loss=0.015624821186065674: 100%|██████████| 64/64 [00:25<00:00,  2.52it/s]\n",
            "Epoch: 830/1000, loss=0.015850841999053955: 100%|██████████| 64/64 [00:25<00:00,  2.52it/s]\n"
          ]
        },
        {
          "metadata": {
            "tags": null
          },
          "name": "stdout",
          "output_type": "stream",
          "text": [
            "Evaluate model on testset. Total loss: 0.9646593332290649, Average loss: 0.0009551082507218465\n"
          ]
        },
        {
          "metadata": {
            "tags": null
          },
          "name": "stderr",
          "output_type": "stream",
          "text": [
            "Epoch: 831/1000, loss=0.014123618602752686: 100%|██████████| 64/64 [00:25<00:00,  2.52it/s]\n",
            "Epoch: 832/1000, loss=0.014259517192840576: 100%|██████████| 64/64 [00:25<00:00,  2.52it/s]\n",
            "Epoch: 833/1000, loss=0.014420747756958008: 100%|██████████| 64/64 [00:25<00:00,  2.52it/s]\n",
            "Epoch: 834/1000, loss=0.012966632843017578: 100%|██████████| 64/64 [00:25<00:00,  2.52it/s]\n",
            "Epoch: 835/1000, loss=0.013591766357421875: 100%|██████████| 64/64 [00:25<00:00,  2.52it/s]\n",
            "Epoch: 836/1000, loss=0.01441192626953125: 100%|██████████| 64/64 [00:25<00:00,  2.52it/s]\n",
            "Epoch: 837/1000, loss=0.014125645160675049: 100%|██████████| 64/64 [00:25<00:00,  2.52it/s]\n",
            "Epoch: 838/1000, loss=0.014811038970947266: 100%|██████████| 64/64 [00:25<00:00,  2.52it/s]\n",
            "Epoch: 839/1000, loss=0.015314817428588867: 100%|██████████| 64/64 [00:25<00:00,  2.52it/s]\n",
            "Epoch: 840/1000, loss=0.014893889427185059: 100%|██████████| 64/64 [00:25<00:00,  2.52it/s]\n"
          ]
        },
        {
          "metadata": {
            "tags": null
          },
          "name": "stdout",
          "output_type": "stream",
          "text": [
            "Evaluate model on testset. Total loss: 1.2121521830558777, Average loss: 0.0012001506762929482\n"
          ]
        },
        {
          "metadata": {
            "tags": null
          },
          "name": "stderr",
          "output_type": "stream",
          "text": [
            "Epoch: 841/1000, loss=0.012547850608825684: 100%|██████████| 64/64 [00:25<00:00,  2.52it/s]\n",
            "Epoch: 842/1000, loss=0.015313863754272461: 100%|██████████| 64/64 [00:25<00:00,  2.52it/s]\n",
            "Epoch: 843/1000, loss=0.014507532119750977: 100%|██████████| 64/64 [00:25<00:00,  2.52it/s]\n",
            "Epoch: 844/1000, loss=0.017119407653808594: 100%|██████████| 64/64 [00:25<00:00,  2.52it/s]\n",
            "Epoch: 845/1000, loss=0.013337850570678711: 100%|██████████| 64/64 [00:25<00:00,  2.52it/s]\n",
            "Epoch: 846/1000, loss=0.01371908187866211: 100%|██████████| 64/64 [00:25<00:00,  2.52it/s]\n",
            "Epoch: 847/1000, loss=0.01421976089477539: 100%|██████████| 64/64 [00:25<00:00,  2.52it/s]\n",
            "Epoch: 848/1000, loss=0.01324152946472168: 100%|██████████| 64/64 [00:25<00:00,  2.52it/s]\n",
            "Epoch: 849/1000, loss=0.014401793479919434: 100%|██████████| 64/64 [00:25<00:00,  2.52it/s]\n",
            "Epoch: 850/1000, loss=0.012741446495056152: 100%|██████████| 64/64 [00:25<00:00,  2.52it/s]\n"
          ]
        },
        {
          "metadata": {
            "tags": null
          },
          "name": "stdout",
          "output_type": "stream",
          "text": [
            "Evaluate model on testset. Total loss: 0.810447096824646, Average loss: 0.0008024228681432139\n"
          ]
        },
        {
          "metadata": {
            "tags": null
          },
          "name": "stderr",
          "output_type": "stream",
          "text": [
            "Epoch: 851/1000, loss=0.013473987579345703: 100%|██████████| 64/64 [00:25<00:00,  2.52it/s]\n",
            "Epoch: 852/1000, loss=0.013798058032989502: 100%|██████████| 64/64 [00:25<00:00,  2.52it/s]\n",
            "Epoch: 853/1000, loss=0.013639271259307861: 100%|██████████| 64/64 [00:25<00:00,  2.52it/s]\n",
            "Epoch: 854/1000, loss=0.01323169469833374: 100%|██████████| 64/64 [00:25<00:00,  2.52it/s]\n",
            "Epoch: 855/1000, loss=0.014512777328491211: 100%|██████████| 64/64 [00:25<00:00,  2.52it/s]\n",
            "Epoch: 856/1000, loss=0.014265835285186768: 100%|██████████| 64/64 [00:25<00:00,  2.52it/s]\n",
            "Epoch: 857/1000, loss=0.016444027423858643: 100%|██████████| 64/64 [00:25<00:00,  2.52it/s]\n",
            "Epoch: 858/1000, loss=0.014100968837738037: 100%|██████████| 64/64 [00:25<00:00,  2.52it/s]\n",
            "Epoch: 859/1000, loss=0.014788627624511719: 100%|██████████| 64/64 [00:25<00:00,  2.52it/s]\n",
            "Epoch: 860/1000, loss=0.013588547706604004: 100%|██████████| 64/64 [00:25<00:00,  2.52it/s]\n"
          ]
        },
        {
          "metadata": {
            "tags": null
          },
          "name": "stdout",
          "output_type": "stream",
          "text": [
            "Evaluate model on testset. Total loss: 1.2231812477111816, Average loss: 0.0012110705422882988\n"
          ]
        },
        {
          "metadata": {
            "tags": null
          },
          "name": "stderr",
          "output_type": "stream",
          "text": [
            "Epoch: 861/1000, loss=0.013579726219177246: 100%|██████████| 64/64 [00:25<00:00,  2.52it/s]\n",
            "Epoch: 862/1000, loss=0.016274094581604004: 100%|██████████| 64/64 [00:25<00:00,  2.52it/s]\n",
            "Epoch: 863/1000, loss=0.0180090069770813: 100%|██████████| 64/64 [00:25<00:00,  2.52it/s]\n",
            "Epoch: 864/1000, loss=0.01502305269241333: 100%|██████████| 64/64 [00:25<00:00,  2.52it/s]\n",
            "Epoch: 865/1000, loss=0.013999104499816895: 100%|██████████| 64/64 [00:25<00:00,  2.52it/s]\n",
            "Epoch: 866/1000, loss=0.014309406280517578: 100%|██████████| 64/64 [00:25<00:00,  2.52it/s]\n",
            "Epoch: 867/1000, loss=0.014917492866516113: 100%|██████████| 64/64 [00:25<00:00,  2.52it/s]\n",
            "Epoch: 868/1000, loss=0.013794660568237305: 100%|██████████| 64/64 [00:25<00:00,  2.52it/s]\n",
            "Epoch: 869/1000, loss=0.015130996704101562: 100%|██████████| 64/64 [00:25<00:00,  2.52it/s]\n",
            "Epoch: 870/1000, loss=0.015189945697784424: 100%|██████████| 64/64 [00:25<00:00,  2.52it/s]\n"
          ]
        },
        {
          "metadata": {
            "tags": null
          },
          "name": "stdout",
          "output_type": "stream",
          "text": [
            "Evaluate model on testset. Total loss: 1.1202677488327026, Average loss: 0.00110917598894327\n"
          ]
        },
        {
          "metadata": {
            "tags": null
          },
          "name": "stderr",
          "output_type": "stream",
          "text": [
            "Epoch: 871/1000, loss=0.014685571193695068: 100%|██████████| 64/64 [00:25<00:00,  2.52it/s]\n",
            "Epoch: 872/1000, loss=0.01353520154953003: 100%|██████████| 64/64 [00:25<00:00,  2.52it/s]\n",
            "Epoch: 873/1000, loss=0.012135863304138184: 100%|██████████| 64/64 [00:25<00:00,  2.52it/s]\n",
            "Epoch: 874/1000, loss=0.014278769493103027: 100%|██████████| 64/64 [00:25<00:00,  2.52it/s]\n",
            "Epoch: 875/1000, loss=0.013445556163787842: 100%|██████████| 64/64 [00:25<00:00,  2.52it/s]\n",
            "Epoch: 876/1000, loss=0.014478504657745361: 100%|██████████| 64/64 [00:25<00:00,  2.52it/s]\n",
            "Epoch: 877/1000, loss=0.014937520027160645: 100%|██████████| 64/64 [00:25<00:00,  2.52it/s]\n",
            "Epoch: 878/1000, loss=0.013984382152557373: 100%|██████████| 64/64 [00:25<00:00,  2.52it/s]\n",
            "Epoch: 879/1000, loss=0.012891292572021484: 100%|██████████| 64/64 [00:25<00:00,  2.52it/s]\n",
            "Epoch: 880/1000, loss=0.013802051544189453: 100%|██████████| 64/64 [00:25<00:00,  2.52it/s]\n"
          ]
        },
        {
          "metadata": {
            "tags": null
          },
          "name": "stdout",
          "output_type": "stream",
          "text": [
            "Evaluate model on testset. Total loss: 0.9283108711242676, Average loss: 0.000919119674380463\n"
          ]
        },
        {
          "output_type": "stream",
          "name": "stderr",
          "text": [
            "Epoch: 881/1000, loss=0.014948129653930664: 100%|██████████| 64/64 [00:25<00:00,  2.52it/s]\n",
            "Epoch: 882/1000, loss=0.013536274433135986: 100%|██████████| 64/64 [00:25<00:00,  2.52it/s]\n",
            "Epoch: 883/1000, loss=0.014676868915557861: 100%|██████████| 64/64 [00:25<00:00,  2.52it/s]\n",
            "Epoch: 884/1000, loss=0.015287637710571289: 100%|██████████| 64/64 [00:25<00:00,  2.51it/s]\n",
            "Epoch: 885/1000, loss=0.013128697872161865: 100%|██████████| 64/64 [00:25<00:00,  2.51it/s]\n",
            "Epoch: 886/1000, loss=0.013762891292572021: 100%|██████████| 64/64 [00:25<00:00,  2.51it/s]\n",
            "Epoch: 887/1000, loss=0.014758825302124023: 100%|██████████| 64/64 [00:25<00:00,  2.51it/s]\n",
            "Epoch: 888/1000, loss=0.012834906578063965: 100%|██████████| 64/64 [00:25<00:00,  2.51it/s]\n",
            "Epoch: 889/1000, loss=0.012695133686065674: 100%|██████████| 64/64 [00:25<00:00,  2.51it/s]\n",
            "Epoch: 890/1000, loss=0.013608574867248535: 100%|██████████| 64/64 [00:25<00:00,  2.51it/s]\n"
          ]
        },
        {
          "output_type": "stream",
          "name": "stdout",
          "text": [
            "Evaluate model on testset. Total loss: 0.8362904191017151, Average loss: 0.0008280103159422922\n"
          ]
        },
        {
          "output_type": "stream",
          "name": "stderr",
          "text": [
            "Epoch: 891/1000, loss=0.014290988445281982: 100%|██████████| 64/64 [00:25<00:00,  2.51it/s]\n",
            "Epoch: 892/1000, loss=0.013150632381439209: 100%|██████████| 64/64 [00:25<00:00,  2.51it/s]\n",
            "Epoch: 893/1000, loss=0.013662576675415039: 100%|██████████| 64/64 [00:25<00:00,  2.51it/s]\n",
            "Epoch: 894/1000, loss=0.015034377574920654: 100%|██████████| 64/64 [00:25<00:00,  2.51it/s]\n",
            "Epoch: 895/1000, loss=0.014099359512329102: 100%|██████████| 64/64 [00:25<00:00,  2.51it/s]\n",
            "Epoch: 896/1000, loss=0.014229655265808105: 100%|██████████| 64/64 [00:25<00:00,  2.51it/s]\n",
            "Epoch: 897/1000, loss=0.014236688613891602: 100%|██████████| 64/64 [00:25<00:00,  2.51it/s]\n",
            "Epoch: 898/1000, loss=0.012952148914337158: 100%|██████████| 64/64 [00:25<00:00,  2.51it/s]\n",
            "Epoch: 899/1000, loss=0.01429128646850586: 100%|██████████| 64/64 [00:25<00:00,  2.51it/s]\n",
            "Epoch: 900/1000, loss=0.012841463088989258: 100%|██████████| 64/64 [00:25<00:00,  2.51it/s]\n"
          ]
        },
        {
          "output_type": "stream",
          "name": "stdout",
          "text": [
            "Evaluate model on testset. Total loss: 0.8206276297569275, Average loss: 0.0008125026037197302\n"
          ]
        },
        {
          "output_type": "stream",
          "name": "stderr",
          "text": [
            "Epoch: 901/1000, loss=0.01734006404876709: 100%|██████████| 64/64 [00:25<00:00,  2.51it/s]\n",
            "Epoch: 902/1000, loss=0.014658212661743164: 100%|██████████| 64/64 [00:25<00:00,  2.51it/s]\n",
            "Epoch: 903/1000, loss=0.013644695281982422: 100%|██████████| 64/64 [00:25<00:00,  2.51it/s]\n",
            "Epoch: 904/1000, loss=0.013691186904907227: 100%|██████████| 64/64 [00:25<00:00,  2.51it/s]\n",
            "Epoch: 905/1000, loss=0.013792932033538818: 100%|██████████| 64/64 [00:25<00:00,  2.51it/s]\n",
            "Epoch: 906/1000, loss=0.012822628021240234: 100%|██████████| 64/64 [00:25<00:00,  2.51it/s]\n",
            "Epoch: 907/1000, loss=0.016247153282165527: 100%|██████████| 64/64 [00:25<00:00,  2.51it/s]\n",
            "Epoch: 908/1000, loss=0.014589011669158936: 100%|██████████| 64/64 [00:25<00:00,  2.51it/s]\n",
            "Epoch: 909/1000, loss=0.014906585216522217: 100%|██████████| 64/64 [00:25<00:00,  2.51it/s]\n",
            "Epoch: 910/1000, loss=0.013737201690673828: 100%|██████████| 64/64 [00:25<00:00,  2.51it/s]\n"
          ]
        },
        {
          "output_type": "stream",
          "name": "stdout",
          "text": [
            "Evaluate model on testset. Total loss: 1.2207911014556885, Average loss: 0.0012087040608472163\n"
          ]
        },
        {
          "output_type": "stream",
          "name": "stderr",
          "text": [
            "Epoch: 911/1000, loss=0.014591097831726074: 100%|██████████| 64/64 [00:25<00:00,  2.51it/s]\n",
            "Epoch: 912/1000, loss=0.012754261493682861: 100%|██████████| 64/64 [00:25<00:00,  2.51it/s]\n",
            "Epoch: 913/1000, loss=0.014507055282592773: 100%|██████████| 64/64 [00:25<00:00,  2.51it/s]\n",
            "Epoch: 914/1000, loss=0.01390695571899414: 100%|██████████| 64/64 [00:25<00:00,  2.51it/s]\n",
            "Epoch: 915/1000, loss=0.014371335506439209: 100%|██████████| 64/64 [00:25<00:00,  2.51it/s]\n",
            "Epoch: 916/1000, loss=0.015119433403015137: 100%|██████████| 64/64 [00:25<00:00,  2.51it/s]\n",
            "Epoch: 917/1000, loss=0.012422382831573486: 100%|██████████| 64/64 [00:25<00:00,  2.51it/s]\n",
            "Epoch: 918/1000, loss=0.014670312404632568: 100%|██████████| 64/64 [00:25<00:00,  2.51it/s]\n",
            "Epoch: 919/1000, loss=0.01369321346282959: 100%|██████████| 64/64 [00:25<00:00,  2.51it/s]\n",
            "Epoch: 920/1000, loss=0.013207733631134033: 100%|██████████| 64/64 [00:25<00:00,  2.51it/s]\n"
          ]
        },
        {
          "output_type": "stream",
          "name": "stdout",
          "text": [
            "Evaluate model on testset. Total loss: 0.8523162007331848, Average loss: 0.0008438774264684998\n"
          ]
        },
        {
          "output_type": "stream",
          "name": "stderr",
          "text": [
            "Epoch: 921/1000, loss=0.01277613639831543: 100%|██████████| 64/64 [00:25<00:00,  2.51it/s]\n",
            "Epoch: 922/1000, loss=0.013975977897644043: 100%|██████████| 64/64 [00:25<00:00,  2.51it/s]\n",
            "Epoch: 923/1000, loss=0.012506186962127686: 100%|██████████| 64/64 [00:25<00:00,  2.51it/s]\n",
            "Epoch: 924/1000, loss=0.015033900737762451: 100%|██████████| 64/64 [00:25<00:00,  2.51it/s]\n",
            "Epoch: 925/1000, loss=0.013251006603240967: 100%|██████████| 64/64 [00:25<00:00,  2.51it/s]\n",
            "Epoch: 926/1000, loss=0.012460112571716309: 100%|██████████| 64/64 [00:25<00:00,  2.51it/s]\n",
            "Epoch: 927/1000, loss=0.013445377349853516: 100%|██████████| 64/64 [00:25<00:00,  2.51it/s]\n",
            "Epoch: 928/1000, loss=0.01339566707611084: 100%|██████████| 64/64 [00:25<00:00,  2.51it/s]\n",
            "Epoch: 929/1000, loss=0.012109756469726562: 100%|██████████| 64/64 [00:25<00:00,  2.51it/s]\n",
            "Epoch: 930/1000, loss=0.01343381404876709: 100%|██████████| 64/64 [00:25<00:00,  2.51it/s]\n"
          ]
        },
        {
          "output_type": "stream",
          "name": "stdout",
          "text": [
            "Evaluate model on testset. Total loss: 0.864203155040741, Average loss: 0.0008556466881591495\n"
          ]
        },
        {
          "output_type": "stream",
          "name": "stderr",
          "text": [
            "Epoch: 931/1000, loss=0.014722943305969238: 100%|██████████| 64/64 [00:25<00:00,  2.51it/s]\n",
            "Epoch: 932/1000, loss=0.01363682746887207: 100%|██████████| 64/64 [00:25<00:00,  2.51it/s]\n",
            "Epoch: 933/1000, loss=0.014040231704711914: 100%|██████████| 64/64 [00:25<00:00,  2.51it/s]\n",
            "Epoch: 934/1000, loss=0.014543652534484863: 100%|██████████| 64/64 [00:25<00:00,  2.51it/s]\n",
            "Epoch: 935/1000, loss=0.014476478099822998: 100%|██████████| 64/64 [00:25<00:00,  2.51it/s]\n",
            "Epoch: 936/1000, loss=0.012135744094848633: 100%|██████████| 64/64 [00:25<00:00,  2.51it/s]\n",
            "Epoch: 937/1000, loss=0.015540599822998047: 100%|██████████| 64/64 [00:25<00:00,  2.51it/s]\n",
            "Epoch: 938/1000, loss=0.014720737934112549: 100%|██████████| 64/64 [00:25<00:00,  2.51it/s]\n",
            "Epoch: 939/1000, loss=0.01589149236679077: 100%|██████████| 64/64 [00:25<00:00,  2.51it/s]\n",
            "Epoch: 940/1000, loss=0.011694908142089844: 100%|██████████| 64/64 [00:25<00:00,  2.51it/s]\n"
          ]
        },
        {
          "output_type": "stream",
          "name": "stdout",
          "text": [
            "Evaluate model on testset. Total loss: 0.8084930777549744, Average loss: 0.0008004881957970043\n"
          ]
        },
        {
          "output_type": "stream",
          "name": "stderr",
          "text": [
            "Epoch: 941/1000, loss=0.013134360313415527: 100%|██████████| 64/64 [00:25<00:00,  2.51it/s]\n",
            "Epoch: 942/1000, loss=0.012437939643859863: 100%|██████████| 64/64 [00:25<00:00,  2.51it/s]\n",
            "Epoch: 943/1000, loss=0.014230847358703613: 100%|██████████| 64/64 [00:25<00:00,  2.51it/s]\n",
            "Epoch: 944/1000, loss=0.013353168964385986: 100%|██████████| 64/64 [00:25<00:00,  2.51it/s]\n",
            "Epoch: 945/1000, loss=0.014670073986053467: 100%|██████████| 64/64 [00:25<00:00,  2.51it/s]\n",
            "Epoch: 946/1000, loss=0.014162540435791016: 100%|██████████| 64/64 [00:25<00:00,  2.51it/s]\n",
            "Epoch: 947/1000, loss=0.014628350734710693: 100%|██████████| 64/64 [00:25<00:00,  2.51it/s]\n",
            "Epoch: 948/1000, loss=0.013972103595733643: 100%|██████████| 64/64 [00:25<00:00,  2.51it/s]\n",
            "Epoch: 949/1000, loss=0.013698995113372803: 100%|██████████| 64/64 [00:25<00:00,  2.51it/s]\n",
            "Epoch: 950/1000, loss=0.014418303966522217: 100%|██████████| 64/64 [00:25<00:00,  2.51it/s]\n"
          ]
        },
        {
          "output_type": "stream",
          "name": "stdout",
          "text": [
            "Evaluate model on testset. Total loss: 0.8686490654945374, Average loss: 0.0008600485796975617\n"
          ]
        },
        {
          "output_type": "stream",
          "name": "stderr",
          "text": [
            "Epoch: 951/1000, loss=0.01332700252532959: 100%|██████████| 64/64 [00:25<00:00,  2.51it/s]\n",
            "Epoch: 952/1000, loss=0.014442384243011475: 100%|██████████| 64/64 [00:25<00:00,  2.51it/s]\n",
            "Epoch: 953/1000, loss=0.014490604400634766: 100%|██████████| 64/64 [00:25<00:00,  2.51it/s]\n",
            "Epoch: 954/1000, loss=0.01301109790802002: 100%|██████████| 64/64 [00:25<00:00,  2.51it/s]\n",
            "Epoch: 955/1000, loss=0.013883113861083984: 100%|██████████| 64/64 [00:25<00:00,  2.51it/s]\n",
            "Epoch: 956/1000, loss=0.014969110488891602: 100%|██████████| 64/64 [00:25<00:00,  2.51it/s]\n",
            "Epoch: 957/1000, loss=0.012389123439788818: 100%|██████████| 64/64 [00:25<00:00,  2.51it/s]\n",
            "Epoch: 958/1000, loss=0.014974534511566162: 100%|██████████| 64/64 [00:25<00:00,  2.51it/s]\n",
            "Epoch: 959/1000, loss=0.011732041835784912: 100%|██████████| 64/64 [00:25<00:00,  2.51it/s]\n",
            "Epoch: 960/1000, loss=0.01359933614730835: 100%|██████████| 64/64 [00:25<00:00,  2.51it/s]\n"
          ]
        },
        {
          "output_type": "stream",
          "name": "stdout",
          "text": [
            "Evaluate model on testset. Total loss: 0.8757114410400391, Average loss: 0.000867041030732712\n"
          ]
        },
        {
          "output_type": "stream",
          "name": "stderr",
          "text": [
            "Epoch: 961/1000, loss=0.01306980848312378: 100%|██████████| 64/64 [00:25<00:00,  2.51it/s]\n",
            "Epoch: 962/1000, loss=0.013218581676483154: 100%|██████████| 64/64 [00:25<00:00,  2.51it/s]\n",
            "Epoch: 963/1000, loss=0.013281047344207764: 100%|██████████| 64/64 [00:25<00:00,  2.51it/s]\n",
            "Epoch: 964/1000, loss=0.012896895408630371: 100%|██████████| 64/64 [00:25<00:00,  2.51it/s]\n",
            "Epoch: 965/1000, loss=0.013860106468200684: 100%|██████████| 64/64 [00:25<00:00,  2.51it/s]\n",
            "Epoch: 966/1000, loss=0.01399773359298706: 100%|██████████| 64/64 [00:25<00:00,  2.51it/s]\n",
            "Epoch: 967/1000, loss=0.014156699180603027: 100%|██████████| 64/64 [00:25<00:00,  2.51it/s]\n",
            "Epoch: 968/1000, loss=0.01239001750946045: 100%|██████████| 64/64 [00:25<00:00,  2.51it/s]\n",
            "Epoch: 969/1000, loss=0.01387566328048706: 100%|██████████| 64/64 [00:25<00:00,  2.51it/s]\n",
            "Epoch: 970/1000, loss=0.015217006206512451: 100%|██████████| 64/64 [00:25<00:00,  2.51it/s]\n"
          ]
        },
        {
          "output_type": "stream",
          "name": "stdout",
          "text": [
            "Evaluate model on testset. Total loss: 1.1086565256118774, Average loss: 0.0010976797283285915\n"
          ]
        },
        {
          "output_type": "stream",
          "name": "stderr",
          "text": [
            "Epoch: 971/1000, loss=0.012733280658721924: 100%|██████████| 64/64 [00:25<00:00,  2.51it/s]\n",
            "Epoch: 972/1000, loss=0.01475071907043457: 100%|██████████| 64/64 [00:25<00:00,  2.51it/s]\n",
            "Epoch: 973/1000, loss=0.014759540557861328: 100%|██████████| 64/64 [00:25<00:00,  2.51it/s]\n",
            "Epoch: 974/1000, loss=0.013096511363983154: 100%|██████████| 64/64 [00:25<00:00,  2.51it/s]\n",
            "Epoch: 975/1000, loss=0.012542665004730225: 100%|██████████| 64/64 [00:25<00:00,  2.51it/s]\n",
            "Epoch: 976/1000, loss=0.01454240083694458: 100%|██████████| 64/64 [00:25<00:00,  2.51it/s]\n",
            "Epoch: 977/1000, loss=0.014095664024353027: 100%|██████████| 64/64 [00:25<00:00,  2.51it/s]\n",
            "Epoch: 978/1000, loss=0.015090346336364746: 100%|██████████| 64/64 [00:25<00:00,  2.51it/s]\n",
            "Epoch: 979/1000, loss=0.013036251068115234: 100%|██████████| 64/64 [00:25<00:00,  2.51it/s]\n",
            "Epoch: 980/1000, loss=0.012257695198059082: 100%|██████████| 64/64 [00:25<00:00,  2.51it/s]\n"
          ]
        },
        {
          "output_type": "stream",
          "name": "stdout",
          "text": [
            "Evaluate model on testset. Total loss: 0.9494960308074951, Average loss: 0.0009400950800074209\n"
          ]
        },
        {
          "output_type": "stream",
          "name": "stderr",
          "text": [
            "Epoch: 981/1000, loss=0.013871848583221436: 100%|██████████| 64/64 [00:25<00:00,  2.51it/s]\n",
            "Epoch: 982/1000, loss=0.011813879013061523: 100%|██████████| 64/64 [00:25<00:00,  2.51it/s]\n",
            "Epoch: 983/1000, loss=0.012168705463409424: 100%|██████████| 64/64 [00:25<00:00,  2.51it/s]\n",
            "Epoch: 984/1000, loss=0.01363682746887207: 100%|██████████| 64/64 [00:25<00:00,  2.51it/s]\n",
            "Epoch: 985/1000, loss=0.012874007225036621: 100%|██████████| 64/64 [00:25<00:00,  2.51it/s]\n",
            "Epoch: 986/1000, loss=0.014308333396911621: 100%|██████████| 64/64 [00:25<00:00,  2.51it/s]\n",
            "Epoch: 987/1000, loss=0.011850178241729736: 100%|██████████| 64/64 [00:25<00:00,  2.51it/s]\n",
            "Epoch: 988/1000, loss=0.013793110847473145: 100%|██████████| 64/64 [00:25<00:00,  2.51it/s]\n",
            "Epoch: 989/1000, loss=0.012830674648284912: 100%|██████████| 64/64 [00:25<00:00,  2.51it/s]\n",
            "Epoch: 990/1000, loss=0.012585282325744629: 100%|██████████| 64/64 [00:25<00:00,  2.51it/s]\n"
          ]
        },
        {
          "output_type": "stream",
          "name": "stdout",
          "text": [
            "Evaluate model on testset. Total loss: 1.1729947924613953, Average loss: 0.0011613809826350448\n"
          ]
        },
        {
          "output_type": "stream",
          "name": "stderr",
          "text": [
            "Epoch: 991/1000, loss=0.013858139514923096: 100%|██████████| 64/64 [00:25<00:00,  2.51it/s]\n",
            "Epoch: 992/1000, loss=0.015235841274261475: 100%|██████████| 64/64 [00:25<00:00,  2.51it/s]\n",
            "Epoch: 993/1000, loss=0.012425661087036133: 100%|██████████| 64/64 [00:25<00:00,  2.51it/s]\n",
            "Epoch: 994/1000, loss=0.013514459133148193: 100%|██████████| 64/64 [00:25<00:00,  2.51it/s]\n",
            "Epoch: 995/1000, loss=0.01368701457977295: 100%|██████████| 64/64 [00:25<00:00,  2.51it/s]\n",
            "Epoch: 996/1000, loss=0.014759421348571777: 100%|██████████| 64/64 [00:25<00:00,  2.51it/s]\n",
            "Epoch: 997/1000, loss=0.013917326927185059: 100%|██████████| 64/64 [00:25<00:00,  2.51it/s]\n",
            "Epoch: 998/1000, loss=0.013355433940887451: 100%|██████████| 64/64 [00:25<00:00,  2.51it/s]\n",
            "Epoch: 999/1000, loss=0.013286232948303223: 100%|██████████| 64/64 [00:25<00:00,  2.51it/s]\n",
            "Epoch: 1000/1000, loss=0.013877153396606445: 100%|██████████| 64/64 [00:25<00:00,  2.51it/s]\n"
          ]
        },
        {
          "output_type": "stream",
          "name": "stdout",
          "text": [
            "Evaluate model on testset. Total loss: 0.8627012968063354, Average loss: 0.000854159699808253\n"
          ]
        }
      ]
    },
    {
      "cell_type": "code",
      "metadata": {
        "colab": {
          "base_uri": "https://localhost:8080/"
        },
        "id": "luapVCN69qoN",
        "outputId": "532ce6b5-0574-4f9e-d7dc-f90c6fbc1997"
      },
      "source": [
        "model = NU_net(1, 16).to(device)\n",
        "model.load_state_dict(torch.load('/content/drive/MyDrive/9517_gp/CheckPoint.pth'))"
      ],
      "execution_count": 130,
      "outputs": [
        {
          "output_type": "execute_result",
          "data": {
            "text/plain": [
              "<All keys matched successfully>"
            ]
          },
          "metadata": {},
          "execution_count": 130
        }
      ]
    },
    {
      "cell_type": "code",
      "metadata": {
        "colab": {
          "base_uri": "https://localhost:8080/"
        },
        "id": "D-OoJ7zlekO7",
        "outputId": "b43d5e29-ac97-4a5d-b30f-2539f67c5147"
      },
      "source": [
        "model.eval()\n",
        "model.to(device)"
      ],
      "execution_count": 83,
      "outputs": [
        {
          "output_type": "execute_result",
          "data": {
            "text/plain": [
              "NU_net(\n",
              "  (pool): MaxPool2d(kernel_size=2, stride=2, padding=0, dilation=1, ceil_mode=False)\n",
              "  (up): Upsample(scale_factor=2.0, mode=bilinear)\n",
              "  (to_00): NU_net_block(\n",
              "    (conv1): Sequential(\n",
              "      (0): Conv2d(1, 16, kernel_size=(3, 3), stride=(1, 1), padding=(1, 1))\n",
              "      (1): BatchNorm2d(16, eps=1e-05, momentum=0.1, affine=True, track_running_stats=True)\n",
              "      (2): ReLU(inplace=True)\n",
              "    )\n",
              "    (conv2): Sequential(\n",
              "      (0): Conv2d(16, 16, kernel_size=(3, 3), stride=(1, 1), padding=(1, 1))\n",
              "      (1): BatchNorm2d(16, eps=1e-05, momentum=0.1, affine=True, track_running_stats=True)\n",
              "      (2): ReLU(inplace=True)\n",
              "    )\n",
              "  )\n",
              "  (to_10): NU_net_block(\n",
              "    (conv1): Sequential(\n",
              "      (0): Conv2d(16, 32, kernel_size=(3, 3), stride=(1, 1), padding=(1, 1))\n",
              "      (1): BatchNorm2d(32, eps=1e-05, momentum=0.1, affine=True, track_running_stats=True)\n",
              "      (2): ReLU(inplace=True)\n",
              "    )\n",
              "    (conv2): Sequential(\n",
              "      (0): Conv2d(32, 32, kernel_size=(3, 3), stride=(1, 1), padding=(1, 1))\n",
              "      (1): BatchNorm2d(32, eps=1e-05, momentum=0.1, affine=True, track_running_stats=True)\n",
              "      (2): ReLU(inplace=True)\n",
              "    )\n",
              "  )\n",
              "  (to_20): NU_net_block(\n",
              "    (conv1): Sequential(\n",
              "      (0): Conv2d(32, 64, kernel_size=(3, 3), stride=(1, 1), padding=(1, 1))\n",
              "      (1): BatchNorm2d(64, eps=1e-05, momentum=0.1, affine=True, track_running_stats=True)\n",
              "      (2): ReLU(inplace=True)\n",
              "    )\n",
              "    (conv2): Sequential(\n",
              "      (0): Conv2d(64, 64, kernel_size=(3, 3), stride=(1, 1), padding=(1, 1))\n",
              "      (1): BatchNorm2d(64, eps=1e-05, momentum=0.1, affine=True, track_running_stats=True)\n",
              "      (2): ReLU(inplace=True)\n",
              "    )\n",
              "  )\n",
              "  (to_30): NU_net_block(\n",
              "    (conv1): Sequential(\n",
              "      (0): Conv2d(64, 128, kernel_size=(3, 3), stride=(1, 1), padding=(1, 1))\n",
              "      (1): BatchNorm2d(128, eps=1e-05, momentum=0.1, affine=True, track_running_stats=True)\n",
              "      (2): ReLU(inplace=True)\n",
              "    )\n",
              "    (conv2): Sequential(\n",
              "      (0): Conv2d(128, 128, kernel_size=(3, 3), stride=(1, 1), padding=(1, 1))\n",
              "      (1): BatchNorm2d(128, eps=1e-05, momentum=0.1, affine=True, track_running_stats=True)\n",
              "      (2): ReLU(inplace=True)\n",
              "    )\n",
              "  )\n",
              "  (to_40): NU_net_block(\n",
              "    (conv1): Sequential(\n",
              "      (0): Conv2d(128, 256, kernel_size=(3, 3), stride=(1, 1), padding=(1, 1))\n",
              "      (1): BatchNorm2d(256, eps=1e-05, momentum=0.1, affine=True, track_running_stats=True)\n",
              "      (2): ReLU(inplace=True)\n",
              "    )\n",
              "    (conv2): Sequential(\n",
              "      (0): Conv2d(256, 256, kernel_size=(3, 3), stride=(1, 1), padding=(1, 1))\n",
              "      (1): BatchNorm2d(256, eps=1e-05, momentum=0.1, affine=True, track_running_stats=True)\n",
              "      (2): ReLU(inplace=True)\n",
              "    )\n",
              "  )\n",
              "  (to_01): NU_net_block(\n",
              "    (conv1): Sequential(\n",
              "      (0): Conv2d(48, 16, kernel_size=(3, 3), stride=(1, 1), padding=(1, 1))\n",
              "      (1): BatchNorm2d(16, eps=1e-05, momentum=0.1, affine=True, track_running_stats=True)\n",
              "      (2): ReLU(inplace=True)\n",
              "    )\n",
              "    (conv2): Sequential(\n",
              "      (0): Conv2d(16, 16, kernel_size=(3, 3), stride=(1, 1), padding=(1, 1))\n",
              "      (1): BatchNorm2d(16, eps=1e-05, momentum=0.1, affine=True, track_running_stats=True)\n",
              "      (2): ReLU(inplace=True)\n",
              "    )\n",
              "  )\n",
              "  (to_11): NU_net_block(\n",
              "    (conv1): Sequential(\n",
              "      (0): Conv2d(96, 32, kernel_size=(3, 3), stride=(1, 1), padding=(1, 1))\n",
              "      (1): BatchNorm2d(32, eps=1e-05, momentum=0.1, affine=True, track_running_stats=True)\n",
              "      (2): ReLU(inplace=True)\n",
              "    )\n",
              "    (conv2): Sequential(\n",
              "      (0): Conv2d(32, 32, kernel_size=(3, 3), stride=(1, 1), padding=(1, 1))\n",
              "      (1): BatchNorm2d(32, eps=1e-05, momentum=0.1, affine=True, track_running_stats=True)\n",
              "      (2): ReLU(inplace=True)\n",
              "    )\n",
              "  )\n",
              "  (to_21): NU_net_block(\n",
              "    (conv1): Sequential(\n",
              "      (0): Conv2d(192, 64, kernel_size=(3, 3), stride=(1, 1), padding=(1, 1))\n",
              "      (1): BatchNorm2d(64, eps=1e-05, momentum=0.1, affine=True, track_running_stats=True)\n",
              "      (2): ReLU(inplace=True)\n",
              "    )\n",
              "    (conv2): Sequential(\n",
              "      (0): Conv2d(64, 64, kernel_size=(3, 3), stride=(1, 1), padding=(1, 1))\n",
              "      (1): BatchNorm2d(64, eps=1e-05, momentum=0.1, affine=True, track_running_stats=True)\n",
              "      (2): ReLU(inplace=True)\n",
              "    )\n",
              "  )\n",
              "  (to_31): NU_net_block(\n",
              "    (conv1): Sequential(\n",
              "      (0): Conv2d(384, 128, kernel_size=(3, 3), stride=(1, 1), padding=(1, 1))\n",
              "      (1): BatchNorm2d(128, eps=1e-05, momentum=0.1, affine=True, track_running_stats=True)\n",
              "      (2): ReLU(inplace=True)\n",
              "    )\n",
              "    (conv2): Sequential(\n",
              "      (0): Conv2d(128, 128, kernel_size=(3, 3), stride=(1, 1), padding=(1, 1))\n",
              "      (1): BatchNorm2d(128, eps=1e-05, momentum=0.1, affine=True, track_running_stats=True)\n",
              "      (2): ReLU(inplace=True)\n",
              "    )\n",
              "  )\n",
              "  (to_02): NU_net_block(\n",
              "    (conv1): Sequential(\n",
              "      (0): Conv2d(64, 16, kernel_size=(3, 3), stride=(1, 1), padding=(1, 1))\n",
              "      (1): BatchNorm2d(16, eps=1e-05, momentum=0.1, affine=True, track_running_stats=True)\n",
              "      (2): ReLU(inplace=True)\n",
              "    )\n",
              "    (conv2): Sequential(\n",
              "      (0): Conv2d(16, 16, kernel_size=(3, 3), stride=(1, 1), padding=(1, 1))\n",
              "      (1): BatchNorm2d(16, eps=1e-05, momentum=0.1, affine=True, track_running_stats=True)\n",
              "      (2): ReLU(inplace=True)\n",
              "    )\n",
              "  )\n",
              "  (to_12): NU_net_block(\n",
              "    (conv1): Sequential(\n",
              "      (0): Conv2d(128, 32, kernel_size=(3, 3), stride=(1, 1), padding=(1, 1))\n",
              "      (1): BatchNorm2d(32, eps=1e-05, momentum=0.1, affine=True, track_running_stats=True)\n",
              "      (2): ReLU(inplace=True)\n",
              "    )\n",
              "    (conv2): Sequential(\n",
              "      (0): Conv2d(32, 32, kernel_size=(3, 3), stride=(1, 1), padding=(1, 1))\n",
              "      (1): BatchNorm2d(32, eps=1e-05, momentum=0.1, affine=True, track_running_stats=True)\n",
              "      (2): ReLU(inplace=True)\n",
              "    )\n",
              "  )\n",
              "  (to_22): NU_net_block(\n",
              "    (conv1): Sequential(\n",
              "      (0): Conv2d(256, 64, kernel_size=(3, 3), stride=(1, 1), padding=(1, 1))\n",
              "      (1): BatchNorm2d(64, eps=1e-05, momentum=0.1, affine=True, track_running_stats=True)\n",
              "      (2): ReLU(inplace=True)\n",
              "    )\n",
              "    (conv2): Sequential(\n",
              "      (0): Conv2d(64, 64, kernel_size=(3, 3), stride=(1, 1), padding=(1, 1))\n",
              "      (1): BatchNorm2d(64, eps=1e-05, momentum=0.1, affine=True, track_running_stats=True)\n",
              "      (2): ReLU(inplace=True)\n",
              "    )\n",
              "  )\n",
              "  (to_03): NU_net_block(\n",
              "    (conv1): Sequential(\n",
              "      (0): Conv2d(80, 16, kernel_size=(3, 3), stride=(1, 1), padding=(1, 1))\n",
              "      (1): BatchNorm2d(16, eps=1e-05, momentum=0.1, affine=True, track_running_stats=True)\n",
              "      (2): ReLU(inplace=True)\n",
              "    )\n",
              "    (conv2): Sequential(\n",
              "      (0): Conv2d(16, 16, kernel_size=(3, 3), stride=(1, 1), padding=(1, 1))\n",
              "      (1): BatchNorm2d(16, eps=1e-05, momentum=0.1, affine=True, track_running_stats=True)\n",
              "      (2): ReLU(inplace=True)\n",
              "    )\n",
              "  )\n",
              "  (to_13): NU_net_block(\n",
              "    (conv1): Sequential(\n",
              "      (0): Conv2d(160, 32, kernel_size=(3, 3), stride=(1, 1), padding=(1, 1))\n",
              "      (1): BatchNorm2d(32, eps=1e-05, momentum=0.1, affine=True, track_running_stats=True)\n",
              "      (2): ReLU(inplace=True)\n",
              "    )\n",
              "    (conv2): Sequential(\n",
              "      (0): Conv2d(32, 32, kernel_size=(3, 3), stride=(1, 1), padding=(1, 1))\n",
              "      (1): BatchNorm2d(32, eps=1e-05, momentum=0.1, affine=True, track_running_stats=True)\n",
              "      (2): ReLU(inplace=True)\n",
              "    )\n",
              "  )\n",
              "  (to_04): NU_net_block(\n",
              "    (conv1): Sequential(\n",
              "      (0): Conv2d(96, 16, kernel_size=(3, 3), stride=(1, 1), padding=(1, 1))\n",
              "      (1): BatchNorm2d(16, eps=1e-05, momentum=0.1, affine=True, track_running_stats=True)\n",
              "      (2): ReLU(inplace=True)\n",
              "    )\n",
              "    (conv2): Sequential(\n",
              "      (0): Conv2d(16, 16, kernel_size=(3, 3), stride=(1, 1), padding=(1, 1))\n",
              "      (1): BatchNorm2d(16, eps=1e-05, momentum=0.1, affine=True, track_running_stats=True)\n",
              "      (2): ReLU(inplace=True)\n",
              "    )\n",
              "  )\n",
              "  (final): Conv2d(16, 1, kernel_size=(1, 1), stride=(1, 1))\n",
              ")"
            ]
          },
          "metadata": {},
          "execution_count": 83
        }
      ]
    },
    {
      "cell_type": "code",
      "metadata": {
        "colab": {
          "base_uri": "https://localhost:8080/"
        },
        "id": "2O6n0n2_hT7L",
        "outputId": "d36801ba-36c5-41b7-8a97-685eb1615017"
      },
      "source": [
        "testSet[0]"
      ],
      "execution_count": null,
      "outputs": [
        {
          "data": {
            "text/plain": [
              "(tensor([[[0., 0., 0.,  ..., 0., 0., 0.],\n",
              "          [0., 0., 0.,  ..., 0., 0., 0.],\n",
              "          [0., 0., 0.,  ..., 0., 0., 0.],\n",
              "          ...,\n",
              "          [0., 0., 0.,  ..., 0., 0., 0.],\n",
              "          [0., 0., 0.,  ..., 0., 0., 0.],\n",
              "          [0., 0., 0.,  ..., 0., 0., 0.]]], device='cuda:0'),\n",
              " tensor([[[0., 0., 0.,  ..., 0., 0., 0.],\n",
              "          [0., 0., 0.,  ..., 0., 0., 0.],\n",
              "          [0., 0., 0.,  ..., 0., 0., 0.],\n",
              "          ...,\n",
              "          [0., 0., 0.,  ..., 0., 0., 0.],\n",
              "          [0., 0., 0.,  ..., 0., 0., 0.],\n",
              "          [0., 0., 0.,  ..., 0., 0., 0.]]], device='cuda:0'))"
            ]
          },
          "execution_count": 95,
          "metadata": {},
          "output_type": "execute_result"
        }
      ]
    },
    {
      "cell_type": "code",
      "metadata": {
        "id": "9oenfTOZjHjj",
        "colab": {
          "base_uri": "https://localhost:8080/"
        },
        "outputId": "6a9fc20a-69e2-4680-bc1c-cb7d807e3a2b"
      },
      "source": [
        "inputs = None\n",
        "preds = None\n",
        "gts = None\n",
        "with torch.no_grad():\n",
        "    for b in testloader:\n",
        "        images, gts = b \n",
        "        print(images)\n",
        "        inputs = images.clone()\n",
        "        preds = model(images)\n",
        "        break\n",
        "    "
      ],
      "execution_count": null,
      "outputs": [
        {
          "output_type": "stream",
          "name": "stdout",
          "text": [
            "tensor([[[[0.0000, 0.0000, 0.0000,  ..., 0.0000, 0.0000, 0.0353],\n",
            "          [0.0000, 0.0000, 0.0000,  ..., 0.0000, 0.0000, 0.0000],\n",
            "          [0.0000, 0.0000, 0.0000,  ..., 0.0000, 0.0000, 0.0000],\n",
            "          ...,\n",
            "          [0.0000, 0.0000, 0.0000,  ..., 0.0000, 0.0000, 0.0000],\n",
            "          [0.0000, 0.0000, 0.0000,  ..., 0.0000, 0.0000, 0.0000],\n",
            "          [0.0000, 0.0000, 0.0000,  ..., 0.0000, 0.0000, 0.0000]]],\n",
            "\n",
            "\n",
            "        [[[0.0000, 0.0000, 0.0000,  ..., 0.0000, 0.0000, 0.0000],\n",
            "          [0.0000, 0.0000, 0.0000,  ..., 0.0000, 0.0000, 0.0000],\n",
            "          [0.0000, 0.0000, 0.0000,  ..., 0.0000, 0.0000, 0.0000],\n",
            "          ...,\n",
            "          [0.0000, 0.0000, 0.0000,  ..., 0.0000, 0.0000, 0.0000],\n",
            "          [0.0000, 0.0000, 0.0000,  ..., 0.0000, 0.0000, 0.0000],\n",
            "          [0.0000, 0.0000, 0.0000,  ..., 0.0000, 0.0000, 0.0000]]],\n",
            "\n",
            "\n",
            "        [[[0.0000, 0.0000, 0.0000,  ..., 0.0000, 0.0000, 0.0000],\n",
            "          [0.0000, 0.0000, 0.0000,  ..., 0.0000, 0.0000, 0.0000],\n",
            "          [0.0000, 0.0000, 0.0000,  ..., 0.0000, 0.0000, 0.0000],\n",
            "          ...,\n",
            "          [0.0000, 0.0000, 0.0000,  ..., 0.0000, 0.0000, 0.0000],\n",
            "          [0.0000, 0.0000, 0.0000,  ..., 0.0000, 0.0000, 0.0000],\n",
            "          [0.0000, 0.0000, 0.0000,  ..., 0.0000, 0.0000, 0.0000]]],\n",
            "\n",
            "\n",
            "        ...,\n",
            "\n",
            "\n",
            "        [[[0.0000, 0.0000, 0.0000,  ..., 0.0000, 0.0000, 0.0000],\n",
            "          [0.0000, 0.0000, 0.0000,  ..., 0.0000, 0.0000, 0.0000],\n",
            "          [0.0000, 0.0000, 0.0000,  ..., 0.0000, 0.0000, 0.0000],\n",
            "          ...,\n",
            "          [0.0000, 0.0000, 0.0000,  ..., 0.0000, 0.0000, 0.0000],\n",
            "          [0.0000, 0.0000, 0.0000,  ..., 0.0000, 0.0667, 0.1843],\n",
            "          [0.0000, 0.0000, 0.0000,  ..., 0.1176, 0.2157, 0.2667]]],\n",
            "\n",
            "\n",
            "        [[[0.0000, 0.0000, 0.0000,  ..., 0.0000, 0.0000, 0.0000],\n",
            "          [0.0000, 0.0000, 0.0000,  ..., 0.0000, 0.0000, 0.0000],\n",
            "          [0.0000, 0.0000, 0.0000,  ..., 0.0000, 0.0000, 0.0000],\n",
            "          ...,\n",
            "          [0.0000, 0.0000, 0.0000,  ..., 0.0000, 0.0000, 0.0000],\n",
            "          [0.0000, 0.0000, 0.0000,  ..., 0.0000, 0.0000, 0.0000],\n",
            "          [0.0000, 0.0000, 0.0000,  ..., 0.0000, 0.0000, 0.0000]]],\n",
            "\n",
            "\n",
            "        [[[0.0000, 0.0000, 0.0000,  ..., 0.0000, 0.0000, 0.0000],\n",
            "          [0.0000, 0.0000, 0.0000,  ..., 0.0000, 0.0000, 0.0000],\n",
            "          [0.0000, 0.0000, 0.0000,  ..., 0.1176, 0.1686, 0.1686],\n",
            "          ...,\n",
            "          [0.2667, 0.2667, 0.2510,  ..., 0.0000, 0.0000, 0.0000],\n",
            "          [0.2353, 0.2667, 0.2353,  ..., 0.0000, 0.0000, 0.0000],\n",
            "          [0.2000, 0.2000, 0.2000,  ..., 0.0000, 0.0000, 0.0000]]]],\n",
            "       device='cuda:0')\n"
          ]
        }
      ]
    },
    {
      "cell_type": "code",
      "metadata": {
        "id": "qqSSOY6D9dqZ"
      },
      "source": [
        "def image_processing_with_model(img, model, step=64, size=128, padding=5):\n",
        "    img = cv2.resize(img, (0, 0), fx=.5, fy=.5)\n",
        "    img = img / 255\n",
        "    out_img = np.zeros_like(img).astype(np.uint8)\n",
        "    img_list = []\n",
        "    positions = []\n",
        "    h, w = img.shape\n",
        "    for y in range((h - size) // step):\n",
        "        for x in range((w - size) // step):\n",
        "            sub = img[y*step:y*step+size, x*step:x*step+size]\n",
        "            img_list.append([sub])\n",
        "            positions.append((x*step, y*step))\n",
        "        sub = img[y*step:y*step+size, -size-1:-1]\n",
        "        img_list.append([sub])\n",
        "        positions.append((-size-1, y*step))\n",
        "\n",
        "    for x in range((w - size) // step):\n",
        "        sub = img[-size-1:-1, x*step:x*step+size]\n",
        "        img_list.append([sub])\n",
        "        positions.append((x*step, -size-1))\n",
        "    sub = img[-size-1:-1, -size-1:-1]\n",
        "    img_list.append([sub])\n",
        "    positions.append((-size-1, -size-1))\n",
        "    # print(positions)\n",
        "    \n",
        "    inputs = torch.Tensor(np.array(img_list)).cpu().cuda()\n",
        "    outputs = model(inputs).cpu().detach().numpy()\n",
        "\n",
        "    for i in range(len(positions)):\n",
        "        x, y = positions[i]\n",
        "        padding_x, padding_y = 0, 0\n",
        "        # blackb = np.zeros_like(out_img)\n",
        "\n",
        "        if x > 0: padding_x = padding\n",
        "        if y > 0: padding_y = padding\n",
        "        # blackb[y+padding_y:y+size, x+padding_x:x+size]\\\n",
        "        #  = np.where(outputs[i][0]>0, 255, 0)[padding_y:, padding_x:]\n",
        "        # out_img = cv2.bitwise_or(out_img, blackb)\n",
        "\n",
        "        out_img[y+padding_y:y+size, x+padding_x:x+size]\\\n",
        "         = np.where(outputs[i][0]>0, 255, 0)[padding_y:, padding_x:]\n",
        "\n",
        "    return out_img"
      ],
      "execution_count": 71,
      "outputs": []
    },
    {
      "cell_type": "code",
      "metadata": {
        "id": "tM2rj5yHkeJd"
      },
      "source": [
        "def folder_processing_with_model(image_folder, model, step=64, size=128):\n",
        "    out = []\n",
        "    for img in image_folder:\n",
        "        out.append(image_processing_with_model(img, model, step, size))\n",
        "    return out"
      ],
      "execution_count": 51,
      "outputs": []
    },
    {
      "cell_type": "code",
      "metadata": {
        "colab": {
          "base_uri": "https://localhost:8080/"
        },
        "id": "ZIec8FCUkjwO",
        "outputId": "23248d6d-4af3-43f1-d4a1-323fa0467033"
      },
      "source": [
        "model = NU_net(1, 16)\n",
        "model.load_state_dict(torch.load('/content/drive/MyDrive/9517_gp/CheckPoint.pth'))\n",
        "model.eval()"
      ],
      "execution_count": 8,
      "outputs": [
        {
          "output_type": "execute_result",
          "data": {
            "text/plain": [
              "NU_net(\n",
              "  (pool): MaxPool2d(kernel_size=2, stride=2, padding=0, dilation=1, ceil_mode=False)\n",
              "  (up): Upsample(scale_factor=2.0, mode=bilinear)\n",
              "  (to_00): NU_net_block(\n",
              "    (conv1): Sequential(\n",
              "      (0): Conv2d(1, 16, kernel_size=(3, 3), stride=(1, 1), padding=(1, 1))\n",
              "      (1): BatchNorm2d(16, eps=1e-05, momentum=0.1, affine=True, track_running_stats=True)\n",
              "      (2): ReLU(inplace=True)\n",
              "    )\n",
              "    (conv2): Sequential(\n",
              "      (0): Conv2d(16, 16, kernel_size=(3, 3), stride=(1, 1), padding=(1, 1))\n",
              "      (1): BatchNorm2d(16, eps=1e-05, momentum=0.1, affine=True, track_running_stats=True)\n",
              "      (2): ReLU(inplace=True)\n",
              "    )\n",
              "  )\n",
              "  (to_10): NU_net_block(\n",
              "    (conv1): Sequential(\n",
              "      (0): Conv2d(16, 32, kernel_size=(3, 3), stride=(1, 1), padding=(1, 1))\n",
              "      (1): BatchNorm2d(32, eps=1e-05, momentum=0.1, affine=True, track_running_stats=True)\n",
              "      (2): ReLU(inplace=True)\n",
              "    )\n",
              "    (conv2): Sequential(\n",
              "      (0): Conv2d(32, 32, kernel_size=(3, 3), stride=(1, 1), padding=(1, 1))\n",
              "      (1): BatchNorm2d(32, eps=1e-05, momentum=0.1, affine=True, track_running_stats=True)\n",
              "      (2): ReLU(inplace=True)\n",
              "    )\n",
              "  )\n",
              "  (to_20): NU_net_block(\n",
              "    (conv1): Sequential(\n",
              "      (0): Conv2d(32, 64, kernel_size=(3, 3), stride=(1, 1), padding=(1, 1))\n",
              "      (1): BatchNorm2d(64, eps=1e-05, momentum=0.1, affine=True, track_running_stats=True)\n",
              "      (2): ReLU(inplace=True)\n",
              "    )\n",
              "    (conv2): Sequential(\n",
              "      (0): Conv2d(64, 64, kernel_size=(3, 3), stride=(1, 1), padding=(1, 1))\n",
              "      (1): BatchNorm2d(64, eps=1e-05, momentum=0.1, affine=True, track_running_stats=True)\n",
              "      (2): ReLU(inplace=True)\n",
              "    )\n",
              "  )\n",
              "  (to_30): NU_net_block(\n",
              "    (conv1): Sequential(\n",
              "      (0): Conv2d(64, 128, kernel_size=(3, 3), stride=(1, 1), padding=(1, 1))\n",
              "      (1): BatchNorm2d(128, eps=1e-05, momentum=0.1, affine=True, track_running_stats=True)\n",
              "      (2): ReLU(inplace=True)\n",
              "    )\n",
              "    (conv2): Sequential(\n",
              "      (0): Conv2d(128, 128, kernel_size=(3, 3), stride=(1, 1), padding=(1, 1))\n",
              "      (1): BatchNorm2d(128, eps=1e-05, momentum=0.1, affine=True, track_running_stats=True)\n",
              "      (2): ReLU(inplace=True)\n",
              "    )\n",
              "  )\n",
              "  (to_40): NU_net_block(\n",
              "    (conv1): Sequential(\n",
              "      (0): Conv2d(128, 256, kernel_size=(3, 3), stride=(1, 1), padding=(1, 1))\n",
              "      (1): BatchNorm2d(256, eps=1e-05, momentum=0.1, affine=True, track_running_stats=True)\n",
              "      (2): ReLU(inplace=True)\n",
              "    )\n",
              "    (conv2): Sequential(\n",
              "      (0): Conv2d(256, 256, kernel_size=(3, 3), stride=(1, 1), padding=(1, 1))\n",
              "      (1): BatchNorm2d(256, eps=1e-05, momentum=0.1, affine=True, track_running_stats=True)\n",
              "      (2): ReLU(inplace=True)\n",
              "    )\n",
              "  )\n",
              "  (to_01): NU_net_block(\n",
              "    (conv1): Sequential(\n",
              "      (0): Conv2d(48, 16, kernel_size=(3, 3), stride=(1, 1), padding=(1, 1))\n",
              "      (1): BatchNorm2d(16, eps=1e-05, momentum=0.1, affine=True, track_running_stats=True)\n",
              "      (2): ReLU(inplace=True)\n",
              "    )\n",
              "    (conv2): Sequential(\n",
              "      (0): Conv2d(16, 16, kernel_size=(3, 3), stride=(1, 1), padding=(1, 1))\n",
              "      (1): BatchNorm2d(16, eps=1e-05, momentum=0.1, affine=True, track_running_stats=True)\n",
              "      (2): ReLU(inplace=True)\n",
              "    )\n",
              "  )\n",
              "  (to_11): NU_net_block(\n",
              "    (conv1): Sequential(\n",
              "      (0): Conv2d(96, 32, kernel_size=(3, 3), stride=(1, 1), padding=(1, 1))\n",
              "      (1): BatchNorm2d(32, eps=1e-05, momentum=0.1, affine=True, track_running_stats=True)\n",
              "      (2): ReLU(inplace=True)\n",
              "    )\n",
              "    (conv2): Sequential(\n",
              "      (0): Conv2d(32, 32, kernel_size=(3, 3), stride=(1, 1), padding=(1, 1))\n",
              "      (1): BatchNorm2d(32, eps=1e-05, momentum=0.1, affine=True, track_running_stats=True)\n",
              "      (2): ReLU(inplace=True)\n",
              "    )\n",
              "  )\n",
              "  (to_21): NU_net_block(\n",
              "    (conv1): Sequential(\n",
              "      (0): Conv2d(192, 64, kernel_size=(3, 3), stride=(1, 1), padding=(1, 1))\n",
              "      (1): BatchNorm2d(64, eps=1e-05, momentum=0.1, affine=True, track_running_stats=True)\n",
              "      (2): ReLU(inplace=True)\n",
              "    )\n",
              "    (conv2): Sequential(\n",
              "      (0): Conv2d(64, 64, kernel_size=(3, 3), stride=(1, 1), padding=(1, 1))\n",
              "      (1): BatchNorm2d(64, eps=1e-05, momentum=0.1, affine=True, track_running_stats=True)\n",
              "      (2): ReLU(inplace=True)\n",
              "    )\n",
              "  )\n",
              "  (to_31): NU_net_block(\n",
              "    (conv1): Sequential(\n",
              "      (0): Conv2d(384, 128, kernel_size=(3, 3), stride=(1, 1), padding=(1, 1))\n",
              "      (1): BatchNorm2d(128, eps=1e-05, momentum=0.1, affine=True, track_running_stats=True)\n",
              "      (2): ReLU(inplace=True)\n",
              "    )\n",
              "    (conv2): Sequential(\n",
              "      (0): Conv2d(128, 128, kernel_size=(3, 3), stride=(1, 1), padding=(1, 1))\n",
              "      (1): BatchNorm2d(128, eps=1e-05, momentum=0.1, affine=True, track_running_stats=True)\n",
              "      (2): ReLU(inplace=True)\n",
              "    )\n",
              "  )\n",
              "  (to_02): NU_net_block(\n",
              "    (conv1): Sequential(\n",
              "      (0): Conv2d(64, 16, kernel_size=(3, 3), stride=(1, 1), padding=(1, 1))\n",
              "      (1): BatchNorm2d(16, eps=1e-05, momentum=0.1, affine=True, track_running_stats=True)\n",
              "      (2): ReLU(inplace=True)\n",
              "    )\n",
              "    (conv2): Sequential(\n",
              "      (0): Conv2d(16, 16, kernel_size=(3, 3), stride=(1, 1), padding=(1, 1))\n",
              "      (1): BatchNorm2d(16, eps=1e-05, momentum=0.1, affine=True, track_running_stats=True)\n",
              "      (2): ReLU(inplace=True)\n",
              "    )\n",
              "  )\n",
              "  (to_12): NU_net_block(\n",
              "    (conv1): Sequential(\n",
              "      (0): Conv2d(128, 32, kernel_size=(3, 3), stride=(1, 1), padding=(1, 1))\n",
              "      (1): BatchNorm2d(32, eps=1e-05, momentum=0.1, affine=True, track_running_stats=True)\n",
              "      (2): ReLU(inplace=True)\n",
              "    )\n",
              "    (conv2): Sequential(\n",
              "      (0): Conv2d(32, 32, kernel_size=(3, 3), stride=(1, 1), padding=(1, 1))\n",
              "      (1): BatchNorm2d(32, eps=1e-05, momentum=0.1, affine=True, track_running_stats=True)\n",
              "      (2): ReLU(inplace=True)\n",
              "    )\n",
              "  )\n",
              "  (to_22): NU_net_block(\n",
              "    (conv1): Sequential(\n",
              "      (0): Conv2d(256, 64, kernel_size=(3, 3), stride=(1, 1), padding=(1, 1))\n",
              "      (1): BatchNorm2d(64, eps=1e-05, momentum=0.1, affine=True, track_running_stats=True)\n",
              "      (2): ReLU(inplace=True)\n",
              "    )\n",
              "    (conv2): Sequential(\n",
              "      (0): Conv2d(64, 64, kernel_size=(3, 3), stride=(1, 1), padding=(1, 1))\n",
              "      (1): BatchNorm2d(64, eps=1e-05, momentum=0.1, affine=True, track_running_stats=True)\n",
              "      (2): ReLU(inplace=True)\n",
              "    )\n",
              "  )\n",
              "  (to_03): NU_net_block(\n",
              "    (conv1): Sequential(\n",
              "      (0): Conv2d(80, 16, kernel_size=(3, 3), stride=(1, 1), padding=(1, 1))\n",
              "      (1): BatchNorm2d(16, eps=1e-05, momentum=0.1, affine=True, track_running_stats=True)\n",
              "      (2): ReLU(inplace=True)\n",
              "    )\n",
              "    (conv2): Sequential(\n",
              "      (0): Conv2d(16, 16, kernel_size=(3, 3), stride=(1, 1), padding=(1, 1))\n",
              "      (1): BatchNorm2d(16, eps=1e-05, momentum=0.1, affine=True, track_running_stats=True)\n",
              "      (2): ReLU(inplace=True)\n",
              "    )\n",
              "  )\n",
              "  (to_13): NU_net_block(\n",
              "    (conv1): Sequential(\n",
              "      (0): Conv2d(160, 32, kernel_size=(3, 3), stride=(1, 1), padding=(1, 1))\n",
              "      (1): BatchNorm2d(32, eps=1e-05, momentum=0.1, affine=True, track_running_stats=True)\n",
              "      (2): ReLU(inplace=True)\n",
              "    )\n",
              "    (conv2): Sequential(\n",
              "      (0): Conv2d(32, 32, kernel_size=(3, 3), stride=(1, 1), padding=(1, 1))\n",
              "      (1): BatchNorm2d(32, eps=1e-05, momentum=0.1, affine=True, track_running_stats=True)\n",
              "      (2): ReLU(inplace=True)\n",
              "    )\n",
              "  )\n",
              "  (to_04): NU_net_block(\n",
              "    (conv1): Sequential(\n",
              "      (0): Conv2d(96, 16, kernel_size=(3, 3), stride=(1, 1), padding=(1, 1))\n",
              "      (1): BatchNorm2d(16, eps=1e-05, momentum=0.1, affine=True, track_running_stats=True)\n",
              "      (2): ReLU(inplace=True)\n",
              "    )\n",
              "    (conv2): Sequential(\n",
              "      (0): Conv2d(16, 16, kernel_size=(3, 3), stride=(1, 1), padding=(1, 1))\n",
              "      (1): BatchNorm2d(16, eps=1e-05, momentum=0.1, affine=True, track_running_stats=True)\n",
              "      (2): ReLU(inplace=True)\n",
              "    )\n",
              "  )\n",
              "  (final): Conv2d(16, 1, kernel_size=(1, 1), stride=(1, 1))\n",
              ")"
            ]
          },
          "metadata": {},
          "execution_count": 8
        }
      ]
    },
    {
      "cell_type": "code",
      "metadata": {
        "colab": {
          "base_uri": "https://localhost:8080/"
        },
        "id": "k1lZbvSyMeG4",
        "outputId": "bddbf2d8-57b4-4c1a-d646-48f0aa5c2791"
      },
      "source": [
        "model.eval()\n",
        "model.cuda()\n"
      ],
      "execution_count": 9,
      "outputs": [
        {
          "output_type": "execute_result",
          "data": {
            "text/plain": [
              "NU_net(\n",
              "  (pool): MaxPool2d(kernel_size=2, stride=2, padding=0, dilation=1, ceil_mode=False)\n",
              "  (up): Upsample(scale_factor=2.0, mode=bilinear)\n",
              "  (to_00): NU_net_block(\n",
              "    (conv1): Sequential(\n",
              "      (0): Conv2d(1, 16, kernel_size=(3, 3), stride=(1, 1), padding=(1, 1))\n",
              "      (1): BatchNorm2d(16, eps=1e-05, momentum=0.1, affine=True, track_running_stats=True)\n",
              "      (2): ReLU(inplace=True)\n",
              "    )\n",
              "    (conv2): Sequential(\n",
              "      (0): Conv2d(16, 16, kernel_size=(3, 3), stride=(1, 1), padding=(1, 1))\n",
              "      (1): BatchNorm2d(16, eps=1e-05, momentum=0.1, affine=True, track_running_stats=True)\n",
              "      (2): ReLU(inplace=True)\n",
              "    )\n",
              "  )\n",
              "  (to_10): NU_net_block(\n",
              "    (conv1): Sequential(\n",
              "      (0): Conv2d(16, 32, kernel_size=(3, 3), stride=(1, 1), padding=(1, 1))\n",
              "      (1): BatchNorm2d(32, eps=1e-05, momentum=0.1, affine=True, track_running_stats=True)\n",
              "      (2): ReLU(inplace=True)\n",
              "    )\n",
              "    (conv2): Sequential(\n",
              "      (0): Conv2d(32, 32, kernel_size=(3, 3), stride=(1, 1), padding=(1, 1))\n",
              "      (1): BatchNorm2d(32, eps=1e-05, momentum=0.1, affine=True, track_running_stats=True)\n",
              "      (2): ReLU(inplace=True)\n",
              "    )\n",
              "  )\n",
              "  (to_20): NU_net_block(\n",
              "    (conv1): Sequential(\n",
              "      (0): Conv2d(32, 64, kernel_size=(3, 3), stride=(1, 1), padding=(1, 1))\n",
              "      (1): BatchNorm2d(64, eps=1e-05, momentum=0.1, affine=True, track_running_stats=True)\n",
              "      (2): ReLU(inplace=True)\n",
              "    )\n",
              "    (conv2): Sequential(\n",
              "      (0): Conv2d(64, 64, kernel_size=(3, 3), stride=(1, 1), padding=(1, 1))\n",
              "      (1): BatchNorm2d(64, eps=1e-05, momentum=0.1, affine=True, track_running_stats=True)\n",
              "      (2): ReLU(inplace=True)\n",
              "    )\n",
              "  )\n",
              "  (to_30): NU_net_block(\n",
              "    (conv1): Sequential(\n",
              "      (0): Conv2d(64, 128, kernel_size=(3, 3), stride=(1, 1), padding=(1, 1))\n",
              "      (1): BatchNorm2d(128, eps=1e-05, momentum=0.1, affine=True, track_running_stats=True)\n",
              "      (2): ReLU(inplace=True)\n",
              "    )\n",
              "    (conv2): Sequential(\n",
              "      (0): Conv2d(128, 128, kernel_size=(3, 3), stride=(1, 1), padding=(1, 1))\n",
              "      (1): BatchNorm2d(128, eps=1e-05, momentum=0.1, affine=True, track_running_stats=True)\n",
              "      (2): ReLU(inplace=True)\n",
              "    )\n",
              "  )\n",
              "  (to_40): NU_net_block(\n",
              "    (conv1): Sequential(\n",
              "      (0): Conv2d(128, 256, kernel_size=(3, 3), stride=(1, 1), padding=(1, 1))\n",
              "      (1): BatchNorm2d(256, eps=1e-05, momentum=0.1, affine=True, track_running_stats=True)\n",
              "      (2): ReLU(inplace=True)\n",
              "    )\n",
              "    (conv2): Sequential(\n",
              "      (0): Conv2d(256, 256, kernel_size=(3, 3), stride=(1, 1), padding=(1, 1))\n",
              "      (1): BatchNorm2d(256, eps=1e-05, momentum=0.1, affine=True, track_running_stats=True)\n",
              "      (2): ReLU(inplace=True)\n",
              "    )\n",
              "  )\n",
              "  (to_01): NU_net_block(\n",
              "    (conv1): Sequential(\n",
              "      (0): Conv2d(48, 16, kernel_size=(3, 3), stride=(1, 1), padding=(1, 1))\n",
              "      (1): BatchNorm2d(16, eps=1e-05, momentum=0.1, affine=True, track_running_stats=True)\n",
              "      (2): ReLU(inplace=True)\n",
              "    )\n",
              "    (conv2): Sequential(\n",
              "      (0): Conv2d(16, 16, kernel_size=(3, 3), stride=(1, 1), padding=(1, 1))\n",
              "      (1): BatchNorm2d(16, eps=1e-05, momentum=0.1, affine=True, track_running_stats=True)\n",
              "      (2): ReLU(inplace=True)\n",
              "    )\n",
              "  )\n",
              "  (to_11): NU_net_block(\n",
              "    (conv1): Sequential(\n",
              "      (0): Conv2d(96, 32, kernel_size=(3, 3), stride=(1, 1), padding=(1, 1))\n",
              "      (1): BatchNorm2d(32, eps=1e-05, momentum=0.1, affine=True, track_running_stats=True)\n",
              "      (2): ReLU(inplace=True)\n",
              "    )\n",
              "    (conv2): Sequential(\n",
              "      (0): Conv2d(32, 32, kernel_size=(3, 3), stride=(1, 1), padding=(1, 1))\n",
              "      (1): BatchNorm2d(32, eps=1e-05, momentum=0.1, affine=True, track_running_stats=True)\n",
              "      (2): ReLU(inplace=True)\n",
              "    )\n",
              "  )\n",
              "  (to_21): NU_net_block(\n",
              "    (conv1): Sequential(\n",
              "      (0): Conv2d(192, 64, kernel_size=(3, 3), stride=(1, 1), padding=(1, 1))\n",
              "      (1): BatchNorm2d(64, eps=1e-05, momentum=0.1, affine=True, track_running_stats=True)\n",
              "      (2): ReLU(inplace=True)\n",
              "    )\n",
              "    (conv2): Sequential(\n",
              "      (0): Conv2d(64, 64, kernel_size=(3, 3), stride=(1, 1), padding=(1, 1))\n",
              "      (1): BatchNorm2d(64, eps=1e-05, momentum=0.1, affine=True, track_running_stats=True)\n",
              "      (2): ReLU(inplace=True)\n",
              "    )\n",
              "  )\n",
              "  (to_31): NU_net_block(\n",
              "    (conv1): Sequential(\n",
              "      (0): Conv2d(384, 128, kernel_size=(3, 3), stride=(1, 1), padding=(1, 1))\n",
              "      (1): BatchNorm2d(128, eps=1e-05, momentum=0.1, affine=True, track_running_stats=True)\n",
              "      (2): ReLU(inplace=True)\n",
              "    )\n",
              "    (conv2): Sequential(\n",
              "      (0): Conv2d(128, 128, kernel_size=(3, 3), stride=(1, 1), padding=(1, 1))\n",
              "      (1): BatchNorm2d(128, eps=1e-05, momentum=0.1, affine=True, track_running_stats=True)\n",
              "      (2): ReLU(inplace=True)\n",
              "    )\n",
              "  )\n",
              "  (to_02): NU_net_block(\n",
              "    (conv1): Sequential(\n",
              "      (0): Conv2d(64, 16, kernel_size=(3, 3), stride=(1, 1), padding=(1, 1))\n",
              "      (1): BatchNorm2d(16, eps=1e-05, momentum=0.1, affine=True, track_running_stats=True)\n",
              "      (2): ReLU(inplace=True)\n",
              "    )\n",
              "    (conv2): Sequential(\n",
              "      (0): Conv2d(16, 16, kernel_size=(3, 3), stride=(1, 1), padding=(1, 1))\n",
              "      (1): BatchNorm2d(16, eps=1e-05, momentum=0.1, affine=True, track_running_stats=True)\n",
              "      (2): ReLU(inplace=True)\n",
              "    )\n",
              "  )\n",
              "  (to_12): NU_net_block(\n",
              "    (conv1): Sequential(\n",
              "      (0): Conv2d(128, 32, kernel_size=(3, 3), stride=(1, 1), padding=(1, 1))\n",
              "      (1): BatchNorm2d(32, eps=1e-05, momentum=0.1, affine=True, track_running_stats=True)\n",
              "      (2): ReLU(inplace=True)\n",
              "    )\n",
              "    (conv2): Sequential(\n",
              "      (0): Conv2d(32, 32, kernel_size=(3, 3), stride=(1, 1), padding=(1, 1))\n",
              "      (1): BatchNorm2d(32, eps=1e-05, momentum=0.1, affine=True, track_running_stats=True)\n",
              "      (2): ReLU(inplace=True)\n",
              "    )\n",
              "  )\n",
              "  (to_22): NU_net_block(\n",
              "    (conv1): Sequential(\n",
              "      (0): Conv2d(256, 64, kernel_size=(3, 3), stride=(1, 1), padding=(1, 1))\n",
              "      (1): BatchNorm2d(64, eps=1e-05, momentum=0.1, affine=True, track_running_stats=True)\n",
              "      (2): ReLU(inplace=True)\n",
              "    )\n",
              "    (conv2): Sequential(\n",
              "      (0): Conv2d(64, 64, kernel_size=(3, 3), stride=(1, 1), padding=(1, 1))\n",
              "      (1): BatchNorm2d(64, eps=1e-05, momentum=0.1, affine=True, track_running_stats=True)\n",
              "      (2): ReLU(inplace=True)\n",
              "    )\n",
              "  )\n",
              "  (to_03): NU_net_block(\n",
              "    (conv1): Sequential(\n",
              "      (0): Conv2d(80, 16, kernel_size=(3, 3), stride=(1, 1), padding=(1, 1))\n",
              "      (1): BatchNorm2d(16, eps=1e-05, momentum=0.1, affine=True, track_running_stats=True)\n",
              "      (2): ReLU(inplace=True)\n",
              "    )\n",
              "    (conv2): Sequential(\n",
              "      (0): Conv2d(16, 16, kernel_size=(3, 3), stride=(1, 1), padding=(1, 1))\n",
              "      (1): BatchNorm2d(16, eps=1e-05, momentum=0.1, affine=True, track_running_stats=True)\n",
              "      (2): ReLU(inplace=True)\n",
              "    )\n",
              "  )\n",
              "  (to_13): NU_net_block(\n",
              "    (conv1): Sequential(\n",
              "      (0): Conv2d(160, 32, kernel_size=(3, 3), stride=(1, 1), padding=(1, 1))\n",
              "      (1): BatchNorm2d(32, eps=1e-05, momentum=0.1, affine=True, track_running_stats=True)\n",
              "      (2): ReLU(inplace=True)\n",
              "    )\n",
              "    (conv2): Sequential(\n",
              "      (0): Conv2d(32, 32, kernel_size=(3, 3), stride=(1, 1), padding=(1, 1))\n",
              "      (1): BatchNorm2d(32, eps=1e-05, momentum=0.1, affine=True, track_running_stats=True)\n",
              "      (2): ReLU(inplace=True)\n",
              "    )\n",
              "  )\n",
              "  (to_04): NU_net_block(\n",
              "    (conv1): Sequential(\n",
              "      (0): Conv2d(96, 16, kernel_size=(3, 3), stride=(1, 1), padding=(1, 1))\n",
              "      (1): BatchNorm2d(16, eps=1e-05, momentum=0.1, affine=True, track_running_stats=True)\n",
              "      (2): ReLU(inplace=True)\n",
              "    )\n",
              "    (conv2): Sequential(\n",
              "      (0): Conv2d(16, 16, kernel_size=(3, 3), stride=(1, 1), padding=(1, 1))\n",
              "      (1): BatchNorm2d(16, eps=1e-05, momentum=0.1, affine=True, track_running_stats=True)\n",
              "      (2): ReLU(inplace=True)\n",
              "    )\n",
              "  )\n",
              "  (final): Conv2d(16, 1, kernel_size=(1, 1), stride=(1, 1))\n",
              ")"
            ]
          },
          "metadata": {},
          "execution_count": 9
        }
      ]
    },
    {
      "cell_type": "code",
      "metadata": {
        "id": "YBRLIHeR1JVy"
      },
      "source": [
        "folder_03_original = open_files('03')\n",
        "folder_04_original = open_files('04')\n",
        "folder_03 = global_grey_stretch(folder_03_original)\n",
        "folder_04 = global_grey_stretch(folder_04_original)"
      ],
      "execution_count": 16,
      "outputs": []
    },
    {
      "cell_type": "code",
      "metadata": {
        "id": "ocwPfQdaS91o"
      },
      "source": [
        "folder_03_output = folder_processing_with_model(folder_03, model)"
      ],
      "execution_count": 72,
      "outputs": []
    },
    {
      "cell_type": "code",
      "metadata": {
        "id": "jMc-sAvBTUcD"
      },
      "source": [
        "folder_03_output = np.where(np.array(folder_03_output)>0, 255, 0)"
      ],
      "execution_count": 18,
      "outputs": []
    },
    {
      "cell_type": "code",
      "metadata": {
        "id": "wib5Ot22UMEW"
      },
      "source": [
        "i=75"
      ],
      "execution_count": 73,
      "outputs": []
    },
    {
      "cell_type": "code",
      "metadata": {
        "colab": {
          "base_uri": "https://localhost:8080/",
          "height": 541
        },
        "id": "oN3yke2FkfEV",
        "outputId": "b8c2d189-a35b-47d0-8e8a-4be85d513ec4"
      },
      "source": [
        "a = folder_03[i]\n",
        "b = folder_03_output[i]\n",
        "i += 1\n",
        "plt.figure(figsize=(12,4), dpi=200)\n",
        "plt.subplot(1,2,1)\n",
        "plt.title('Input')\n",
        "plt.imshow(a, cmap='gray')\n",
        "plt.subplot(1,2,2)\n",
        "plt.title('UNet++')\n",
        "plt.imshow(b, cmap='gray')"
      ],
      "execution_count": 76,
      "outputs": [
        {
          "output_type": "execute_result",
          "data": {
            "text/plain": [
              "<matplotlib.image.AxesImage at 0x7f2226923410>"
            ]
          },
          "metadata": {},
          "execution_count": 76
        },
        {
          "output_type": "display_data",
          "data": {
            "image/png": "[encoded data removed]",
            "text/plain": [
              "<Figure size 2400x800 with 2 Axes>"
            ]
          },
          "metadata": {
            "needs_background": "light"
          }
        }
      ]
    },
    {
      "cell_type": "code",
      "metadata": {
        "colab": {
          "base_uri": "https://localhost:8080/",
          "height": 724
        },
        "id": "6UzZGse_l_SN",
        "outputId": "a6cc06ea-9f4e-495b-c3dc-3a51e5b2db52"
      },
      "source": [
        "\n",
        "plt.figure(dpi=200)\n",
        "plt.imshow(b, cmap='gray')"
      ],
      "execution_count": 77,
      "outputs": [
        {
          "output_type": "execute_result",
          "data": {
            "text/plain": [
              "<matplotlib.image.AxesImage at 0x7f2226867690>"
            ]
          },
          "metadata": {},
          "execution_count": 77
        },
        {
          "output_type": "display_data",
          "data": {
            "image/png": "[encoded data removed]",
            "text/plain": [
              "<Figure size 1200x800 with 1 Axes>"
            ]
          },
          "metadata": {
            "needs_background": "light"
          }
        }
      ]
    },
    {
      "cell_type": "code",
      "metadata": {
        "id": "vefx3DZdGciI"
      },
      "source": [
        ""
      ],
      "execution_count": null,
      "outputs": []
    }
  ]
}